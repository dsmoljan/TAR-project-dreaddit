{
 "cells": [
  {
   "cell_type": "code",
   "execution_count": 1,
   "id": "272238d0",
   "metadata": {},
   "outputs": [],
   "source": [
    "import pandas as pd\n",
    "import numpy as np\n",
    "from sklearn.linear_model import LogisticRegression\n",
    "import random\n",
    "from empath import Empath\n",
    "from sklearn.preprocessing import StandardScaler\n",
    "\n",
    "def set_seed(seed: int):\n",
    "    random.seed(seed)\n",
    "    np.random.seed(seed)\n",
    "\n",
    "set_seed(1)\n",
    "lexicon = Empath()\n",
    "\n",
    "def prepare_data(dataset_path_train = None,):\n",
    "    if (dataset_path_train is None):\n",
    "        raise RuntimeException(\"Error! Dataset must be provided\")\n",
    "    train = pd.read_csv(dataset_path_train)\n",
    "    y_train = train['label']\n",
    "    X_train = train[['roberta_prediction', 'text']]\n",
    "    return X_train, y_train\n",
    "\n",
    "def empathfeats(X, train=False, sclr=None):\n",
    "    rows = []\n",
    "    for t in X['text']:\n",
    "        empath = lexicon.analyze(t, normalize=True)\n",
    "        rows.append(pd.DataFrame([empath]))\n",
    "    df = pd.concat(rows, ignore_index=True)\n",
    "    X = pd.concat([X,df], axis=1)\n",
    "    \n",
    "    X = X.drop(columns=['text'])\n",
    "    to_drop = ['health','banking','night','college','exasperation','reading','worship','eating','water','legend','neglect','swimming','love','sympathy','vehicle','disgust','sound','sailing','warmth','fun','joy','affection','lust','shame','anger','car','technology','power','white_collar_job','party','cleaning','competing','ocean','contentment','musical']\n",
    "    X = X.drop(columns=to_drop)\n",
    "    \n",
    "    if(train): \n",
    "        sclr = StandardScaler()\n",
    "        X = sclr.fit_transform(X)\n",
    "    else:\n",
    "        X = sclr.transform(X)\n",
    "    return X, sclr\n",
    "\n",
    "def robertafeat(text):\n",
    "    df = pd.DataFrame({'post_id': [0],'text': [text]})\n",
    "    prediction = 1\n",
    "    return prediction\n",
    "    \n",
    "def train_model():\n",
    "    X_train, y_train = prepare_data(dataset_path_train = 'train_pred_mental_health.csv')\n",
    "    X_train, sclr = empathfeats(X_train, train=True)\n",
    "    hp = {'C': 0.1, 'penalty': 'l2', 'solver': 'liblinear'}\n",
    "    model = LogisticRegression(max_iter=1000000, **hp)\n",
    "    model.fit(X_train, y_train)\n",
    "    return model, sclr\n",
    "\n",
    "def make_prediction(text, model, sclr):\n",
    "    trans, sclr = empathfeats(pd.DataFrame({'roberta_prediction': [robertafeat(text)], 'text': [text]}), sclr=sclr)\n",
    "    return model.predict(trans)\n",
    "\n",
    "def final_prediction(text):\n",
    "    global model, sclr\n",
    "    return make_prediction(text, model, sclr)[0]\n",
    "\n",
    "model, sclr = train_model()"
   ]
  },
  {
   "cell_type": "markdown",
   "id": "b3c4731d",
   "metadata": {},
   "source": [
    "# Demo :)"
   ]
  },
  {
   "cell_type": "code",
   "execution_count": null,
   "id": "d01bbc93",
   "metadata": {},
   "outputs": [],
   "source": [
    "while(True):\n",
    "    txt = input()\n",
    "    pred = final_prediction(txt)\n",
    "    if pred == 0:\n",
    "        print(\"Not stressful\")\n",
    "    else:\n",
    "        print(\"Stressful\")"
   ]
  }
 ],
 "metadata": {
  "kernelspec": {
   "display_name": "Python 3 (ipykernel)",
   "language": "python",
   "name": "python3"
  },
  "language_info": {
   "codemirror_mode": {
    "name": "ipython",
    "version": 3
   },
   "file_extension": ".py",
   "mimetype": "text/x-python",
   "name": "python",
   "nbconvert_exporter": "python",
   "pygments_lexer": "ipython3",
   "version": "3.9.7"
  }
 },
 "nbformat": 4,
 "nbformat_minor": 5
}
