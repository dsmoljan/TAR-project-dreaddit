{
 "cells": [
  {
   "cell_type": "markdown",
   "id": "ccf59b6b",
   "metadata": {},
   "source": [
    "University of Zagreb, Faculty of Electrical Engineering and Computing\n",
    "\n",
    "## Text Analysis and Retrieval Project\n",
    "### Stress Analysis in Social Media\n",
    "\n",
    "##### Fani Sentinella-Jerbić, Dorian Smoljan, Vladimir Rzaev, 2022\n",
    "\n",
    "Social media users are active more than ever, posting new content on daily. On the other hand, stress has become extremely prominent and easily observable at the same time. Given the data collected on Reddit, our task is to build a system that would recognize posts riddled with stress markers, i.e., states of mental or emotional tension. Considering the nature of Reddit as a platform, the statements span across multiple domains, which imposes the necessity of broad natural language understanding. Essentially, the system boils down to classifying whether a post displays aspects of stress or not."
   ]
  },
  {
   "cell_type": "code",
   "execution_count": 1,
   "id": "9ec04095",
   "metadata": {},
   "outputs": [],
   "source": [
    "# to be continued"
   ]
  }
 ],
 "metadata": {
  "kernelspec": {
   "display_name": "Python 3",
   "language": "python",
   "name": "python3"
  },
  "language_info": {
   "codemirror_mode": {
    "name": "ipython",
    "version": 3
   },
   "file_extension": ".py",
   "mimetype": "text/x-python",
   "name": "python",
   "nbconvert_exporter": "python",
   "pygments_lexer": "ipython3",
   "version": "3.8.8"
  }
 },
 "nbformat": 4,
 "nbformat_minor": 5
}
