{
 "cells": [
  {
   "cell_type": "code",
   "execution_count": 1,
   "metadata": {},
   "outputs": [],
   "source": [
    "from MajorityBaseline import *\n",
    "import pandas as pd\n",
    "import numpy as np\n",
    "from tqdm import tqdm\n",
    "import logging\n",
    "from sklearn.metrics import *\n",
    "from sklearn.metrics import accuracy_score\n",
    "from sklearn.metrics import f1_score\n",
    "from sklearn.metrics import recall_score"
   ]
  },
  {
   "cell_type": "code",
   "execution_count": 8,
   "metadata": {},
   "outputs": [],
   "source": [
    "class MajorityBaselineClassifier():\n",
    "    def __init__(self, num_classes):\n",
    "        self.num_classes = num_classes\n",
    "        self.class_counter_dict = dict()\n",
    "        for c in range(self.num_classes):\n",
    "            self.class_counter_dict.update({c:0})\n",
    "    \n",
    "    # u train_x su samo oznake\n",
    "    def fit(self, train_x):\n",
    "        for x in train_x:\n",
    "            prev_value = self.class_counter_dict[x]\n",
    "            self.class_counter_dict.update({x:prev_value + 1})\n",
    "        best_c = -1 \n",
    "        max_amount = -1\n",
    "        for c in range(self.num_classes):\n",
    "            if (self.class_counter_dict[c] > max_amount or best_c == -1):\n",
    "                best_c = c\n",
    "                max_amount = self.class_counter_dict[c]\n",
    "        self.best_c = best_c\n",
    "        \n",
    "    def evaluate(self, test_x):\n",
    "        y_pred = [self.best_c for i in range(len(test_x))]\n",
    "        y_true = test_x\n",
    "        accuracy = accuracy_score(y_pred, y_true)*100\n",
    "        f1 = f1_score(y_pred, y_true, zero_division=0)*100\n",
    "        recall = recall_score(y_pred, y_true, zero_division=0)*100\n",
    "        return accuracy, f1, recall\n"
   ]
  },
  {
   "cell_type": "code",
   "execution_count": 9,
   "metadata": {},
   "outputs": [
    {
     "name": "stdout",
     "output_type": "stream",
     "text": [
      "(2838,)\n",
      "(715,)\n"
     ]
    }
   ],
   "source": [
    "train_data = pd.read_csv('dreaddit-train.csv')\n",
    "test_data = pd.read_csv('dreaddit-test.csv')\n",
    "\n",
    "train_labels = train_data[[\"label\"]].to_numpy().transpose()[0]\n",
    "test_labels = test_data[[\"label\"]].to_numpy().transpose()[0]\n",
    "\n",
    "print(train_labels.shape)\n",
    "print(test_labels.shape)"
   ]
  },
  {
   "cell_type": "code",
   "execution_count": 10,
   "metadata": {},
   "outputs": [],
   "source": [
    "model = MajorityBaselineClassifier(2)"
   ]
  },
  {
   "cell_type": "code",
   "execution_count": 11,
   "metadata": {},
   "outputs": [],
   "source": [
    "model.fit(train_labels)"
   ]
  },
  {
   "cell_type": "code",
   "execution_count": 12,
   "metadata": {},
   "outputs": [
    {
     "data": {
      "text/plain": [
       "1"
      ]
     },
     "execution_count": 12,
     "metadata": {},
     "output_type": "execute_result"
    }
   ],
   "source": [
    "model.best_c"
   ]
  },
  {
   "cell_type": "code",
   "execution_count": 13,
   "metadata": {},
   "outputs": [],
   "source": [
    "accuracy, f1, recall = model.evaluate(test_labels)"
   ]
  },
  {
   "cell_type": "code",
   "execution_count": 14,
   "metadata": {},
   "outputs": [
    {
     "name": "stdout",
     "output_type": "stream",
     "text": [
      "Accuracy on test data = 51.61%\n",
      "F1 on test data = 68.08%\n",
      "Recall on test data = 51.61%\n"
     ]
    }
   ],
   "source": [
    "print(\"Accuracy on test data = %0.2f%%\" % accuracy)\n",
    "print(\"F1 on test data = %0.2f%%\" % f1)\n",
    "print(\"Recall on test data = %0.2f%%\" % recall)"
   ]
  },
  {
   "cell_type": "code",
   "execution_count": null,
   "metadata": {},
   "outputs": [],
   "source": []
  }
 ],
 "metadata": {
  "kernelspec": {
   "display_name": "Python 3",
   "language": "python",
   "name": "python3"
  },
  "language_info": {
   "codemirror_mode": {
    "name": "ipython",
    "version": 3
   },
   "file_extension": ".py",
   "mimetype": "text/x-python",
   "name": "python",
   "nbconvert_exporter": "python",
   "pygments_lexer": "ipython3",
   "version": "3.8.5"
  }
 },
 "nbformat": 4,
 "nbformat_minor": 4
}
