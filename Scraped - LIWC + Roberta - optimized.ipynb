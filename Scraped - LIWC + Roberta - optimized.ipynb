{
 "cells": [
  {
   "cell_type": "code",
   "execution_count": 1,
   "id": "9596b77d",
   "metadata": {},
   "outputs": [],
   "source": [
    "import pandas as pd\n",
    "import numpy as np\n",
    "from sklearn.metrics import *\n",
    "from sklearn.metrics import accuracy_score\n",
    "from sklearn.metrics import f1_score\n",
    "from sklearn.metrics import recall_score\n",
    "from sklearn.linear_model import LogisticRegression\n",
    "import random\n",
    "import matplotlib.pyplot as plt\n",
    "\n",
    "def set_seed(seed: int):\n",
    "    random.seed(seed)\n",
    "    np.random.seed(seed)\n",
    "\n",
    "set_seed(1)"
   ]
  },
  {
   "cell_type": "code",
   "execution_count": 2,
   "id": "c20bfdd3",
   "metadata": {},
   "outputs": [],
   "source": [
    "def prepare_data(dataset_path_train = None,dataset_path_test = None):\n",
    "    if (dataset_path_train is None or dataset_path_test is None):\n",
    "        raise RuntimeException(\"Error! Dataset must be provided\")\n",
    "    train = pd.read_csv(dataset_path_train)\n",
    "    test = pd.read_csv(dataset_path_test)\n",
    "    \n",
    "    y_train = train['label']\n",
    "    y_test = test['label']\n",
    "    \n",
    "    features = []\n",
    "    for feat in train.columns.values:\n",
    "        if 'lex' in feat:\n",
    "            features.append(feat)\n",
    "    features.extend(['roberta_prediction', 'syntax_ari', 'social_karma'])\n",
    "    \n",
    "    X_train = train[features]\n",
    "    X_test = test[features]\n",
    "    \n",
    "    return X_train, y_train, X_test, y_test\n",
    "\n",
    "def evaluate(test_labels, y_pred):\n",
    "    acc = accuracy_score(test_labels, y_pred)\n",
    "    rec = recall_score(test_labels, y_pred, zero_division=1)\n",
    "    prec = precision_score(test_labels, y_pred, zero_division=1)\n",
    "    f1 = f1_score(test_labels, y_pred, zero_division=1)\n",
    "    print(\"Accuracy: \", acc)\n",
    "    print(\"Recall: \", rec)\n",
    "    print(\"Precision: \", prec)\n",
    "    print(\"F1: \", f1)"
   ]
  },
  {
   "cell_type": "markdown",
   "id": "ec932a36",
   "metadata": {},
   "source": [
    "## Grid Search"
   ]
  },
  {
   "cell_type": "markdown",
   "id": "4922eeaf",
   "metadata": {},
   "source": [
    "### Logistic regression"
   ]
  },
  {
   "cell_type": "code",
   "execution_count": 3,
   "id": "513973a3",
   "metadata": {
    "scrolled": false
   },
   "outputs": [
    {
     "name": "stdout",
     "output_type": "stream",
     "text": [
      "Fitting 5 folds for each of 18 candidates, totalling 90 fits\n"
     ]
    },
    {
     "name": "stderr",
     "output_type": "stream",
     "text": [
      "C:\\Users\\38599\\anaconda3\\lib\\site-packages\\sklearn\\model_selection\\_validation.py:378: FitFailedWarning: \n",
      "45 fits failed out of a total of 90.\n",
      "The score on these train-test partitions for these parameters will be set to nan.\n",
      "If these failures are not expected, you can try to debug them by setting error_score='raise'.\n",
      "\n",
      "Below are more details about the failures:\n",
      "--------------------------------------------------------------------------------\n",
      "15 fits failed with the following error:\n",
      "Traceback (most recent call last):\n",
      "  File \"C:\\Users\\38599\\anaconda3\\lib\\site-packages\\sklearn\\model_selection\\_validation.py\", line 686, in _fit_and_score\n",
      "    estimator.fit(X_train, y_train, **fit_params)\n",
      "  File \"C:\\Users\\38599\\anaconda3\\lib\\site-packages\\sklearn\\linear_model\\_logistic.py\", line 1091, in fit\n",
      "    solver = _check_solver(self.solver, self.penalty, self.dual)\n",
      "  File \"C:\\Users\\38599\\anaconda3\\lib\\site-packages\\sklearn\\linear_model\\_logistic.py\", line 71, in _check_solver\n",
      "    raise ValueError(\n",
      "ValueError: Only 'saga' solver supports elasticnet penalty, got solver=liblinear.\n",
      "\n",
      "--------------------------------------------------------------------------------\n",
      "15 fits failed with the following error:\n",
      "Traceback (most recent call last):\n",
      "  File \"C:\\Users\\38599\\anaconda3\\lib\\site-packages\\sklearn\\model_selection\\_validation.py\", line 686, in _fit_and_score\n",
      "    estimator.fit(X_train, y_train, **fit_params)\n",
      "  File \"C:\\Users\\38599\\anaconda3\\lib\\site-packages\\sklearn\\linear_model\\_logistic.py\", line 1091, in fit\n",
      "    solver = _check_solver(self.solver, self.penalty, self.dual)\n",
      "  File \"C:\\Users\\38599\\anaconda3\\lib\\site-packages\\sklearn\\linear_model\\_logistic.py\", line 61, in _check_solver\n",
      "    raise ValueError(\n",
      "ValueError: Solver newton-cg supports only 'l2' or 'none' penalties, got elasticnet penalty.\n",
      "\n",
      "--------------------------------------------------------------------------------\n",
      "15 fits failed with the following error:\n",
      "Traceback (most recent call last):\n",
      "  File \"C:\\Users\\38599\\anaconda3\\lib\\site-packages\\sklearn\\model_selection\\_validation.py\", line 686, in _fit_and_score\n",
      "    estimator.fit(X_train, y_train, **fit_params)\n",
      "  File \"C:\\Users\\38599\\anaconda3\\lib\\site-packages\\sklearn\\linear_model\\_logistic.py\", line 1091, in fit\n",
      "    solver = _check_solver(self.solver, self.penalty, self.dual)\n",
      "  File \"C:\\Users\\38599\\anaconda3\\lib\\site-packages\\sklearn\\linear_model\\_logistic.py\", line 61, in _check_solver\n",
      "    raise ValueError(\n",
      "ValueError: Solver lbfgs supports only 'l2' or 'none' penalties, got elasticnet penalty.\n",
      "\n",
      "  warnings.warn(some_fits_failed_message, FitFailedWarning)\n",
      "C:\\Users\\38599\\anaconda3\\lib\\site-packages\\sklearn\\model_selection\\_search.py:953: UserWarning: One or more of the test scores are non-finite: [0.89667657 0.89531903 0.89631421        nan        nan        nan\n",
      " 0.9004022  0.90005368 0.90005368        nan        nan        nan\n",
      " 0.89858957 0.89829633 0.89893735        nan        nan        nan]\n",
      "  warnings.warn(\n"
     ]
    },
    {
     "name": "stdout",
     "output_type": "stream",
     "text": [
      "Accuracy:  0.8223776223776224\n",
      "Recall:  0.907859078590786\n",
      "Precision:  0.7827102803738317\n",
      "F1:  0.8406524466750314\n"
     ]
    }
   ],
   "source": [
    "from sklearn.preprocessing import StandardScaler\n",
    "from sklearn.model_selection import GridSearchCV\n",
    "from sklearn.linear_model import LogisticRegression\n",
    "\n",
    "X_train, y_train, X_test, y_test = prepare_data(dataset_path_train = 'train_pred_roberta_our_scraped_data.csv', dataset_path_test = 'test_pred_roberta_our_scraped_data.csv')\n",
    "#sclr = StandardScaler()\n",
    "#X_train = sclr.fit_transform(X_train)\n",
    "#X_test = sclr.transform(X_test)\n",
    "hp = {\n",
    "        'solver': ['liblinear', 'newton-cg', 'lbfgs'],\n",
    "        'penalty': ['l2', 'elasticnet'],\n",
    "        'C': [0.1, 1, 10],\n",
    "    }\n",
    "gs_model = GridSearchCV(LogisticRegression(max_iter=1000000), hp, n_jobs=-1, scoring='f1', verbose=4)\n",
    "gs_model.fit(X_train, y_train)\n",
    "    \n",
    "model = LogisticRegression(max_iter=1000000,**gs_model.best_params_)\n",
    "model.fit(X_train, y_train)\n",
    "y_pred = model.predict(X_test)\n",
    "evaluate(y_test, y_pred)"
   ]
  },
  {
   "cell_type": "code",
   "execution_count": 4,
   "id": "6c859c38",
   "metadata": {},
   "outputs": [
    {
     "data": {
      "text/plain": [
       "{'C': 1, 'penalty': 'l2', 'solver': 'liblinear'}"
      ]
     },
     "execution_count": 4,
     "metadata": {},
     "output_type": "execute_result"
    }
   ],
   "source": [
    "gs_model.best_params_"
   ]
  },
  {
   "cell_type": "code",
   "execution_count": 5,
   "id": "bf86cbdf",
   "metadata": {
    "scrolled": false
   },
   "outputs": [
    {
     "name": "stdout",
     "output_type": "stream",
     "text": [
      "                          coefficient\n",
      "roberta_prediction           4.170258\n",
      "lex_dal_min_pleasantness    -1.095376\n",
      "lex_dal_avg_pleasantness    -1.019615\n",
      "lex_dal_min_activation      -0.971267\n",
      "lex_dal_max_pleasantness    -0.545430\n",
      "lex_liwc_swear               0.461281\n",
      "lex_dal_avg_imagery          0.439723\n",
      "lex_liwc_feel                0.391720\n",
      "lex_dal_min_imagery         -0.348409\n",
      "lex_liwc_death               0.342883\n",
      "lex_dal_max_imagery          0.327724\n",
      "lex_liwc_nonflu              0.294590\n",
      "lex_dal_avg_activation       0.272869\n",
      "lex_liwc_informal           -0.252748\n",
      "lex_liwc_pronoun            -0.239676\n",
      "lex_liwc_ingest             -0.235540\n",
      "lex_liwc_percept            -0.235340\n",
      "lex_liwc_hear                0.231669\n",
      "lex_liwc_assent              0.231432\n",
      "lex_liwc_netspeak            0.227286\n",
      "lex_dal_max_activation      -0.223381\n",
      "lex_liwc_filler              0.174285\n",
      "lex_liwc_friend              0.170367\n",
      "lex_liwc_body               -0.164668\n",
      "lex_liwc_auxverb            -0.155349\n",
      "lex_liwc_ppron               0.154913\n",
      "lex_liwc_see                 0.146590\n",
      "lex_liwc_Colon              -0.137718\n",
      "lex_liwc_certain             0.132265\n",
      "lex_liwc_Apostro             0.128492\n",
      "lex_liwc_sexual              0.128137\n",
      "lex_liwc_tentat              0.126626\n",
      "lex_liwc_anx                 0.122895\n",
      "lex_liwc_negemo             -0.121418\n",
      "lex_liwc_negate             -0.116448\n",
      "lex_liwc_function            0.115199\n",
      "lex_liwc_we                  0.111075\n",
      "lex_liwc_conj               -0.107407\n",
      "lex_liwc_bio                 0.104634\n",
      "lex_liwc_affect              0.102940\n",
      "lex_liwc_article            -0.099157\n",
      "lex_liwc_prep               -0.098089\n",
      "lex_liwc_SemiC               0.096162\n",
      "lex_liwc_family              0.091204\n",
      "lex_liwc_ipron               0.089632\n",
      "lex_liwc_relig              -0.081027\n",
      "lex_liwc_motion             -0.077878\n",
      "lex_liwc_focusfuture        -0.072084\n",
      "lex_liwc_you                 0.068325\n",
      "lex_liwc_compare            -0.067510\n",
      "lex_liwc_Parenth            -0.065060\n",
      "lex_liwc_adverb             -0.064726\n",
      "lex_liwc_OtherP             -0.064589\n",
      "lex_liwc_Dash                0.061629\n",
      "lex_liwc_posemo             -0.058628\n",
      "lex_liwc_they               -0.051665\n",
      "lex_liwc_health             -0.051261\n",
      "lex_liwc_cogproc            -0.048994\n",
      "lex_liwc_anger               0.048723\n",
      "lex_liwc_Exclam              0.048086\n",
      "lex_liwc_risk                0.047839\n",
      "lex_liwc_differ             -0.046792\n",
      "lex_liwc_sad                 0.046499\n",
      "lex_liwc_cause               0.043050\n",
      "lex_liwc_social             -0.042600\n",
      "lex_liwc_quant              -0.039444\n",
      "lex_liwc_Quote              -0.036988\n",
      "lex_liwc_work                0.035753\n",
      "lex_liwc_insight             0.034550\n",
      "lex_liwc_Dic                 0.034157\n",
      "lex_liwc_leisure            -0.033938\n",
      "lex_liwc_i                  -0.029822\n",
      "lex_liwc_affiliation         0.026815\n",
      "lex_liwc_female             -0.026474\n",
      "lex_liwc_QMark               0.024519\n",
      "lex_liwc_male               -0.023816\n",
      "lex_liwc_home                0.022991\n",
      "lex_liwc_achieve             0.022800\n",
      "lex_liwc_shehe               0.022731\n",
      "lex_liwc_drives             -0.020622\n",
      "syntax_ari                  -0.020166\n",
      "lex_liwc_reward             -0.020046\n",
      "lex_liwc_WPS                 0.019877\n",
      "lex_liwc_interrog            0.019263\n",
      "lex_liwc_Comma              -0.018900\n",
      "lex_liwc_relativ             0.018674\n",
      "lex_liwc_focuspresent        0.017912\n",
      "lex_liwc_time               -0.017529\n",
      "lex_liwc_money              -0.017511\n",
      "lex_liwc_space              -0.017149\n",
      "lex_liwc_number              0.016209\n",
      "lex_liwc_verb                0.016113\n",
      "lex_liwc_adj                 0.013419\n",
      "lex_liwc_Clout              -0.012522\n",
      "lex_liwc_focuspast          -0.009542\n",
      "lex_liwc_AllPunc            -0.009317\n",
      "lex_liwc_Tone               -0.007610\n",
      "lex_liwc_Period              0.007404\n",
      "lex_liwc_Analytic           -0.007150\n",
      "lex_liwc_Sixltr              0.007042\n",
      "lex_liwc_discrep            -0.006618\n",
      "lex_liwc_Authentic          -0.005451\n",
      "lex_liwc_power               0.002229\n",
      "lex_liwc_WC                  0.001998\n",
      "social_karma                -0.000972\n"
     ]
    }
   ],
   "source": [
    "cdf = pd.DataFrame(model.coef_.transpose(), X_train.columns.values, columns=['coefficient'])\n",
    "print(cdf.sort_values(by='coefficient',  key=abs, ascending=False).to_string())"
   ]
  },
  {
   "cell_type": "markdown",
   "id": "4c24c5e7",
   "metadata": {},
   "source": [
    "### Support Vector Machine"
   ]
  },
  {
   "cell_type": "code",
   "execution_count": 6,
   "id": "13272dbf",
   "metadata": {},
   "outputs": [
    {
     "name": "stdout",
     "output_type": "stream",
     "text": [
      "Fitting 5 folds for each of 24 candidates, totalling 120 fits\n",
      "Accuracy:  0.8167832167832167\n",
      "Recall:  0.9105691056910569\n",
      "Precision:  0.7741935483870968\n",
      "F1:  0.8368617683686178\n"
     ]
    }
   ],
   "source": [
    "from sklearn.svm import SVC\n",
    "\n",
    "X_train, y_train, X_test, y_test = prepare_data(dataset_path_train = 'train_pred_roberta_our_scraped_data.csv', dataset_path_test = 'test_pred_roberta_our_scraped_data.csv')\n",
    "sclr = StandardScaler()\n",
    "X_train = sclr.fit_transform(X_train)\n",
    "X_test = sclr.transform(X_test)\n",
    "hp = {\n",
    "        'kernel': ['linear'],\n",
    "        'gamma': [1000, 100, 10, 1, 0.1, 0.01],\n",
    "        'C': [0.01, 0.1, 1, 10],\n",
    "    }\n",
    "gs_model = GridSearchCV(SVC(), hp, n_jobs=-1, scoring='f1', verbose=4)\n",
    "gs_model.fit(X_train, y_train)\n",
    "    \n",
    "model = SVC(**gs_model.best_params_)\n",
    "model.fit(X_train, y_train)\n",
    "y_pred = model.predict(X_test)\n",
    "evaluate(y_test, y_pred)"
   ]
  },
  {
   "cell_type": "code",
   "execution_count": 8,
   "id": "316c4a56",
   "metadata": {},
   "outputs": [
    {
     "data": {
      "text/plain": [
       "{'C': 0.01, 'gamma': 1000, 'kernel': 'linear'}"
      ]
     },
     "execution_count": 8,
     "metadata": {},
     "output_type": "execute_result"
    }
   ],
   "source": [
    "gs_model.best_params_"
   ]
  }
 ],
 "metadata": {
  "kernelspec": {
   "display_name": "Python 3 (ipykernel)",
   "language": "python",
   "name": "python3"
  },
  "language_info": {
   "codemirror_mode": {
    "name": "ipython",
    "version": 3
   },
   "file_extension": ".py",
   "mimetype": "text/x-python",
   "name": "python",
   "nbconvert_exporter": "python",
   "pygments_lexer": "ipython3",
   "version": "3.9.7"
  }
 },
 "nbformat": 4,
 "nbformat_minor": 5
}
