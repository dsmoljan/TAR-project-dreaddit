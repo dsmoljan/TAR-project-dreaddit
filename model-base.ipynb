{
 "cells": [
  {
   "cell_type": "markdown",
   "id": "3bd7b73c",
   "metadata": {},
   "source": [
    "# Stress Detection Models:\n",
    "#### Base RoBERTa Classifier with LIWC/Empath "
   ]
  },
  {
   "cell_type": "code",
   "execution_count": 1,
   "id": "dd5bead9",
   "metadata": {},
   "outputs": [],
   "source": [
    "train_base = r'domain-adaptation\\predictions\\train-roberta-base.csv'\n",
    "test_base = r'domain-adaptation\\predictions\\test-roberta-base.csv'"
   ]
  },
  {
   "cell_type": "code",
   "execution_count": 2,
   "id": "a86d55b3",
   "metadata": {},
   "outputs": [],
   "source": [
    "import pandas as pd\n",
    "import numpy as np\n",
    "import random\n",
    "import phik\n",
    "import warnings\n",
    "import matplotlib.pyplot as plt\n",
    "from sklearn.preprocessing import StandardScaler\n",
    "from sklearn.pipeline import Pipeline\n",
    "from sklearn.linear_model import LogisticRegression\n",
    "from sklearn.ensemble import RandomForestClassifier\n",
    "from sklearn.svm import SVC\n",
    "from sklearn.feature_selection import SelectKBest\n",
    "from sklearn.model_selection import GridSearchCV\n",
    "from sklearn.metrics import *\n",
    "from sklearn.metrics import accuracy_score\n",
    "from sklearn.metrics import f1_score\n",
    "from sklearn.metrics import recall_score\n",
    "from empath import Empath"
   ]
  },
  {
   "cell_type": "code",
   "execution_count": 3,
   "id": "df186a56",
   "metadata": {},
   "outputs": [],
   "source": [
    "# for reproducibility:\n",
    "seed = 1\n",
    "def set_seed(seed: int):\n",
    "    random.seed(seed)\n",
    "    np.random.seed(seed)\n",
    "\n",
    "set_seed(seed)"
   ]
  },
  {
   "cell_type": "markdown",
   "id": "e9851f09",
   "metadata": {},
   "source": [
    "## Data preparation"
   ]
  },
  {
   "cell_type": "code",
   "execution_count": 4,
   "id": "98c9518d",
   "metadata": {},
   "outputs": [],
   "source": [
    "# Prepares training and testing data for classification from given paths\n",
    "def prepare_data(dataset_path_train = None, dataset_path_test = None, features=None):\n",
    "    if (dataset_path_train is None or dataset_path_test is None):\n",
    "        raise RuntimeException(\"Error! Dataset must be provided\")\n",
    "    X_train = pd.read_csv(dataset_path_train)\n",
    "    X_test = pd.read_csv(dataset_path_test)\n",
    "    \n",
    "    y_train = X_train['label']\n",
    "    y_test = X_test['label']\n",
    "        \n",
    "    X_train = X_train.drop(columns=['label'])\n",
    "    X_test = X_test.drop(columns=['label'])\n",
    "    \n",
    "    \n",
    "    if features is not None:\n",
    "        X_train = X_train[features]\n",
    "        X_test = X_test[features]\n",
    "    \n",
    "    return X_train, y_train, X_test, y_test\n",
    "\n",
    "# Calculates Empath features and adds them to the given dataframe\n",
    "def empath(X):\n",
    "    rows = []\n",
    "    for t in X['text']:\n",
    "        empath = Empath().analyze(t, normalize=True)\n",
    "        rows.append(pd.DataFrame([empath]))\n",
    "    df = pd.concat(rows, ignore_index=True)\n",
    "    X = pd.concat([X,df], axis=1)\n",
    "    return X.drop(columns=['text'])\n",
    "\n",
    "# Returns only lexical features from a given dataframe\n",
    "def lex(X):\n",
    "    features = []\n",
    "    for feat in X.columns.values:\n",
    "        if 'lex' in feat:\n",
    "            features.append(feat)\n",
    "    return features"
   ]
  },
  {
   "cell_type": "code",
   "execution_count": 5,
   "id": "626aceb5",
   "metadata": {},
   "outputs": [],
   "source": [
    "basic = ['roberta_prediction', 'text'] # for creating Empath features\n",
    "lexic = lex(pd.read_csv(train_base))\n",
    "lexic.extend(['roberta_prediction']) # for getting LIWC features"
   ]
  },
  {
   "cell_type": "code",
   "execution_count": 6,
   "id": "4fafbb14",
   "metadata": {},
   "outputs": [],
   "source": [
    "# Evaluates performance of a model given its predictions on the test set\n",
    "def evaluate(y_test, y_pred):\n",
    "    print(\"Accuracy: \", accuracy_score(y_test, y_pred))\n",
    "    print(\"Precision: \", precision_score(y_test, y_pred, zero_division=1))\n",
    "    print(\"Recall: \", recall_score(y_test, y_pred, zero_division=1))\n",
    "    print(\"F1: \", f1_score(y_test, y_pred, zero_division=1))"
   ]
  },
  {
   "cell_type": "markdown",
   "id": "c56f7ccd",
   "metadata": {},
   "source": [
    "# LIWC"
   ]
  },
  {
   "cell_type": "code",
   "execution_count": 7,
   "id": "612e422b",
   "metadata": {},
   "outputs": [],
   "source": [
    "X_train, y_train, X_test, y_test = prepare_data(dataset_path_train=train_base, \\\n",
    "                                                dataset_path_test=test_base, \\\n",
    "                                                features=lexic)"
   ]
  },
  {
   "cell_type": "markdown",
   "id": "2dd9e982",
   "metadata": {},
   "source": [
    "## Model training and testing\n",
    "### Logistic Regression\n",
    "#### Grid search"
   ]
  },
  {
   "cell_type": "code",
   "execution_count": 8,
   "id": "65f9053d",
   "metadata": {},
   "outputs": [
    {
     "data": {
      "text/plain": [
       "{'clf__C': 0.1, 'clf__penalty': 'l2', 'clf__solver': 'liblinear'}"
      ]
     },
     "execution_count": 8,
     "metadata": {},
     "output_type": "execute_result"
    }
   ],
   "source": [
    "warnings.filterwarnings('ignore')\n",
    "hp = {\n",
    "        'clf__solver': ['liblinear', 'newton-cg', 'lbfgs'],\n",
    "        'clf__penalty': ['l2', 'elasticnet'],\n",
    "        'clf__C': [0.1, 1, 10],\n",
    "}\n",
    "\n",
    "pipe = Pipeline([\n",
    "        ('scale', StandardScaler()),\n",
    "        ('clf', LogisticRegression(max_iter=1000000, random_state=seed))])\n",
    "\n",
    "gs_model = GridSearchCV(pipe, hp, n_jobs=-1, scoring='f1')\n",
    "gs_model.fit(X_train, y_train)\n",
    "gs_model.best_params_"
   ]
  },
  {
   "cell_type": "markdown",
   "id": "2bff6fb4",
   "metadata": {},
   "source": [
    "#### Testing model with best hyperparameters"
   ]
  },
  {
   "cell_type": "code",
   "execution_count": 9,
   "id": "749f4928",
   "metadata": {},
   "outputs": [
    {
     "name": "stdout",
     "output_type": "stream",
     "text": [
      "Accuracy:  0.8125874125874126\n",
      "Precision:  0.7804295942720764\n",
      "Recall:  0.8861788617886179\n",
      "F1:  0.8299492385786803\n"
     ]
    }
   ],
   "source": [
    "model = Pipeline([\n",
    "        ('scale', StandardScaler()),\n",
    "        ('clf', LogisticRegression(max_iter=1000000, C=0.1, penalty='l2', solver='liblinear', random_state=seed))])\n",
    "model.fit(X_train, y_train)\n",
    "y_pred = model.predict(X_test)\n",
    "evaluate(y_test, y_pred)"
   ]
  },
  {
   "cell_type": "code",
   "execution_count": 10,
   "id": "16cb9678",
   "metadata": {},
   "outputs": [
    {
     "name": "stdout",
     "output_type": "stream",
     "text": [
      "                          coefficient\n",
      "roberta_prediction           2.188519\n",
      "lex_liwc_function            0.370191\n",
      "lex_liwc_Dic                 0.319057\n",
      "lex_liwc_feel                0.294599\n",
      "lex_liwc_percept            -0.267339\n",
      "lex_liwc_OtherP             -0.263127\n",
      "lex_liwc_auxverb            -0.260417\n",
      "lex_dal_avg_imagery          0.257474\n",
      "lex_liwc_tentat              0.252739\n",
      "lex_liwc_focuspresent        0.228942\n",
      "lex_liwc_cogproc            -0.216422\n",
      "lex_liwc_certain             0.215301\n",
      "lex_liwc_Clout              -0.208607\n",
      "lex_liwc_death               0.206854\n",
      "lex_liwc_ipron              -0.181219\n",
      "lex_liwc_differ             -0.180870\n",
      "lex_dal_min_activation      -0.178761\n",
      "lex_liwc_AllPunc            -0.168612\n",
      "lex_liwc_Apostro             0.168567\n",
      "lex_liwc_swear               0.164655\n",
      "lex_liwc_ingest             -0.164429\n",
      "lex_liwc_sexual              0.159023\n",
      "lex_liwc_Authentic          -0.148617\n",
      "lex_liwc_prep               -0.146460\n",
      "lex_liwc_compare            -0.144820\n",
      "lex_liwc_social             -0.142328\n",
      "lex_liwc_WPS                 0.137473\n",
      "lex_liwc_negemo             -0.135891\n",
      "lex_liwc_Analytic            0.131048\n",
      "lex_liwc_shehe              -0.124329\n",
      "lex_liwc_article            -0.123579\n",
      "lex_liwc_affect              0.122609\n",
      "lex_dal_avg_pleasantness    -0.120931\n",
      "lex_dal_min_pleasantness    -0.117089\n",
      "lex_liwc_informal           -0.116146\n",
      "lex_liwc_Tone               -0.113750\n",
      "lex_liwc_hear                0.110866\n",
      "lex_liwc_we                  0.108902\n",
      "lex_liwc_health              0.107930\n",
      "lex_dal_avg_activation       0.107465\n",
      "lex_liwc_focusfuture        -0.107332\n",
      "lex_liwc_family              0.105008\n",
      "lex_liwc_anx                 0.102047\n",
      "lex_liwc_i                   0.097204\n",
      "lex_liwc_Comma              -0.093188\n",
      "lex_liwc_QMark               0.092692\n",
      "lex_liwc_work                0.090768\n",
      "lex_liwc_Dash                0.088860\n",
      "lex_liwc_pronoun            -0.088007\n",
      "lex_liwc_netspeak            0.087654\n",
      "lex_liwc_see                 0.087308\n",
      "lex_liwc_affiliation         0.087162\n",
      "lex_dal_max_pleasantness    -0.086885\n",
      "lex_liwc_Parenth            -0.086792\n",
      "lex_liwc_body               -0.086448\n",
      "lex_liwc_quant              -0.084552\n",
      "lex_liwc_relativ            -0.083553\n",
      "lex_liwc_leisure            -0.080622\n",
      "lex_liwc_female             -0.076561\n",
      "lex_liwc_insight             0.074987\n",
      "lex_liwc_interrog           -0.073401\n",
      "lex_liwc_reward             -0.071895\n",
      "lex_liwc_Quote              -0.071686\n",
      "lex_liwc_you                 0.070040\n",
      "lex_liwc_motion             -0.069150\n",
      "lex_liwc_Period              0.068696\n",
      "lex_dal_max_activation      -0.067060\n",
      "lex_liwc_nonflu              0.063222\n",
      "lex_liwc_drives             -0.062640\n",
      "lex_liwc_negate              0.062193\n",
      "lex_liwc_ppron               0.060993\n",
      "lex_liwc_friend              0.058480\n",
      "lex_liwc_sad                 0.055439\n",
      "lex_liwc_risk                0.053238\n",
      "lex_liwc_power              -0.052590\n",
      "lex_liwc_adverb              0.052077\n",
      "lex_liwc_achieve             0.051233\n",
      "lex_liwc_male               -0.049862\n",
      "lex_liwc_number              0.049504\n",
      "lex_liwc_focuspast           0.042357\n",
      "lex_liwc_cause               0.041395\n",
      "lex_dal_max_imagery          0.037384\n",
      "lex_liwc_adj                 0.036986\n",
      "lex_liwc_posemo             -0.030923\n",
      "lex_liwc_assent              0.029019\n",
      "lex_liwc_they               -0.023578\n",
      "lex_liwc_Sixltr             -0.023012\n",
      "lex_liwc_SemiC               0.021561\n",
      "lex_liwc_anger              -0.020611\n",
      "lex_liwc_WC                  0.020288\n",
      "lex_liwc_discrep             0.016742\n",
      "lex_liwc_Exclam              0.015604\n",
      "lex_liwc_money               0.012531\n",
      "lex_liwc_filler             -0.011717\n",
      "lex_liwc_time                0.010255\n",
      "lex_liwc_bio                -0.010178\n",
      "lex_liwc_relig              -0.010066\n",
      "lex_liwc_home               -0.007513\n",
      "lex_liwc_Colon              -0.006698\n",
      "lex_dal_min_imagery          0.005620\n",
      "lex_liwc_conj               -0.005325\n",
      "lex_liwc_space              -0.002223\n",
      "lex_liwc_verb               -0.000406\n"
     ]
    }
   ],
   "source": [
    "cdf = pd.DataFrame(model.get_params()['clf'].coef_.transpose(), X_train.columns, columns=['coefficient'])\n",
    "print(cdf.sort_values(by='coefficient',  key=abs, ascending=False).to_string())"
   ]
  },
  {
   "cell_type": "markdown",
   "id": "6a18f3bf",
   "metadata": {},
   "source": [
    "### Support Vector Machine\n",
    "#### Grid search"
   ]
  },
  {
   "cell_type": "code",
   "execution_count": 11,
   "id": "65964267",
   "metadata": {},
   "outputs": [
    {
     "data": {
      "text/plain": [
       "{'clf__C': 0.01, 'clf__gamma': 1000, 'clf__kernel': 'linear'}"
      ]
     },
     "execution_count": 11,
     "metadata": {},
     "output_type": "execute_result"
    }
   ],
   "source": [
    "hp = {\n",
    "        'clf__kernel': ['linear'],\n",
    "        'clf__gamma': [1000, 100, 10, 1, 0.1, 0.01],\n",
    "        'clf__C': [0.01, 0.1, 1, 10],\n",
    "}\n",
    "\n",
    "pipe = Pipeline([\n",
    "        ('scale', StandardScaler()),\n",
    "        ('clf', SVC(random_state=seed))])\n",
    "\n",
    "gs_model = GridSearchCV(pipe, hp, n_jobs=-1, scoring='f1')\n",
    "gs_model.fit(X_train, y_train)\n",
    "gs_model.best_params_"
   ]
  },
  {
   "cell_type": "markdown",
   "id": "edd1dbb3",
   "metadata": {},
   "source": [
    "#### Testing model with best hyperparameters"
   ]
  },
  {
   "cell_type": "code",
   "execution_count": 12,
   "id": "d63ffec1",
   "metadata": {},
   "outputs": [
    {
     "name": "stdout",
     "output_type": "stream",
     "text": [
      "Accuracy:  0.8111888111888111\n",
      "Precision:  0.7785714285714286\n",
      "Recall:  0.8861788617886179\n",
      "F1:  0.8288973384030418\n"
     ]
    }
   ],
   "source": [
    "model = Pipeline([\n",
    "        ('scale', StandardScaler()),\n",
    "        ('clf', SVC(C=0.01, gamma=1000, kernel='linear', random_state=seed))])\n",
    "model.fit(X_train, y_train)\n",
    "y_pred = model.predict(X_test)\n",
    "evaluate(y_test, y_pred)"
   ]
  },
  {
   "cell_type": "markdown",
   "id": "6d63c561",
   "metadata": {},
   "source": [
    "### Random Forest Classifier\n",
    "#### Grid search"
   ]
  },
  {
   "cell_type": "code",
   "execution_count": 13,
   "id": "10becab6",
   "metadata": {},
   "outputs": [
    {
     "name": "stdout",
     "output_type": "stream",
     "text": [
      "Fitting 5 folds for each of 24 candidates, totalling 120 fits\n"
     ]
    },
    {
     "data": {
      "text/plain": [
       "{'clf__criterion': 'entropy',\n",
       " 'clf__max_features': 'auto',\n",
       " 'clf__min_samples_split': 4,\n",
       " 'clf__n_estimators': 50}"
      ]
     },
     "execution_count": 13,
     "metadata": {},
     "output_type": "execute_result"
    }
   ],
   "source": [
    "hp = {\n",
    "        'clf__n_estimators': [50, 200],\n",
    "        'clf__max_features': ['auto', 'sqrt', 'log2'],\n",
    "        'clf__criterion': ['gini', 'entropy'],\n",
    "        'clf__min_samples_split': [2, 4]\n",
    "}\n",
    "\n",
    "pipe = Pipeline([\n",
    "        ('scale', StandardScaler()),\n",
    "        ('clf',  RandomForestClassifier(random_state=seed))])\n",
    "\n",
    "gs_model = GridSearchCV(pipe, hp, n_jobs=-1, scoring='f1', verbose=4)\n",
    "gs_model.fit(X_train, y_train)\n",
    "gs_model.best_params_"
   ]
  },
  {
   "cell_type": "markdown",
   "id": "2e557aed",
   "metadata": {},
   "source": [
    "#### Testing model with best hyperparameters"
   ]
  },
  {
   "cell_type": "code",
   "execution_count": 14,
   "id": "833a559b",
   "metadata": {},
   "outputs": [
    {
     "name": "stdout",
     "output_type": "stream",
     "text": [
      "Accuracy:  0.8083916083916084\n",
      "Precision:  0.777511961722488\n",
      "Recall:  0.8807588075880759\n",
      "F1:  0.8259212198221093\n"
     ]
    }
   ],
   "source": [
    "model = Pipeline([\n",
    "        ('scale', StandardScaler()),\n",
    "        ('clf', RandomForestClassifier(criterion='entropy', max_features='auto', min_samples_split=4, n_estimators=50, random_state=seed))])\n",
    "model.fit(X_train, y_train)\n",
    "y_pred = model.predict(X_test)\n",
    "evaluate(y_test, y_pred)"
   ]
  },
  {
   "cell_type": "markdown",
   "id": "c194a181",
   "metadata": {},
   "source": [
    "# Empath"
   ]
  },
  {
   "cell_type": "code",
   "execution_count": 15,
   "id": "027feae0",
   "metadata": {},
   "outputs": [],
   "source": [
    "X_train, y_train, X_test, y_test = prepare_data(dataset_path_train=train_base, \\\n",
    "                                                dataset_path_test=test_base, \\\n",
    "                                                features=basic)\n",
    "X_train = empath(X_train)\n",
    "X_test = empath(X_test)"
   ]
  },
  {
   "cell_type": "markdown",
   "id": "a459898c",
   "metadata": {},
   "source": [
    "## Features Correlation Analysis and Removal"
   ]
  },
  {
   "cell_type": "code",
   "execution_count": 16,
   "id": "c4fe7514",
   "metadata": {},
   "outputs": [],
   "source": [
    "# Determines which features to drop based on the given threshold from phik correlation matrix\n",
    "def cutoff_features(corr_matrix, threshold):\n",
    "    upper_tri = corr_matrix.abs().where(np.triu(np.ones(corr_matrix.shape), k=1).astype(np.bool_))\n",
    "    to_drop = [column for column in upper_tri.columns if any(upper_tri[column] > float(threshold))]\n",
    "    return to_drop"
   ]
  },
  {
   "cell_type": "code",
   "execution_count": 17,
   "id": "e63d88c6",
   "metadata": {},
   "outputs": [],
   "source": [
    "corrs = X_train.phik_matrix(interval_cols=X_train.columns)"
   ]
  },
  {
   "cell_type": "code",
   "execution_count": 18,
   "id": "0e60cc48",
   "metadata": {},
   "outputs": [
    {
     "data": {
      "text/plain": [
       "['health',\n",
       " 'banking',\n",
       " 'night',\n",
       " 'college',\n",
       " 'exasperation',\n",
       " 'reading',\n",
       " 'worship',\n",
       " 'eating',\n",
       " 'water',\n",
       " 'legend',\n",
       " 'neglect',\n",
       " 'swimming',\n",
       " 'love',\n",
       " 'sympathy',\n",
       " 'vehicle',\n",
       " 'disgust',\n",
       " 'sound',\n",
       " 'sailing',\n",
       " 'warmth',\n",
       " 'fun',\n",
       " 'joy',\n",
       " 'affection',\n",
       " 'lust',\n",
       " 'shame',\n",
       " 'anger',\n",
       " 'car',\n",
       " 'technology',\n",
       " 'power',\n",
       " 'white_collar_job',\n",
       " 'party',\n",
       " 'cleaning',\n",
       " 'competing',\n",
       " 'ocean',\n",
       " 'contentment',\n",
       " 'musical']"
      ]
     },
     "execution_count": 18,
     "metadata": {},
     "output_type": "execute_result"
    }
   ],
   "source": [
    "to_drop = cutoff_features(corrs, 0.85)\n",
    "X_train = X_train.drop(columns=to_drop)\n",
    "X_test = X_test.drop(columns=to_drop)\n",
    "to_drop"
   ]
  },
  {
   "cell_type": "markdown",
   "id": "3b0d0d18",
   "metadata": {},
   "source": [
    "## Model training and testing"
   ]
  },
  {
   "cell_type": "markdown",
   "id": "6f12118a",
   "metadata": {},
   "source": [
    "### Logistic Regression"
   ]
  },
  {
   "cell_type": "markdown",
   "id": "ac9ab26d",
   "metadata": {},
   "source": [
    "#### Grid search"
   ]
  },
  {
   "cell_type": "code",
   "execution_count": 19,
   "id": "d26e5fce",
   "metadata": {},
   "outputs": [
    {
     "data": {
      "text/plain": [
       "{'clf__C': 0.1, 'clf__penalty': 'l2', 'clf__solver': 'liblinear'}"
      ]
     },
     "execution_count": 19,
     "metadata": {},
     "output_type": "execute_result"
    }
   ],
   "source": [
    "warnings.filterwarnings('ignore')\n",
    "hp = {\n",
    "        'clf__solver': ['liblinear', 'newton-cg', 'lbfgs'],\n",
    "        'clf__penalty': ['l2', 'elasticnet'],\n",
    "        'clf__C': [0.1, 1, 10],\n",
    "}\n",
    "\n",
    "pipe = Pipeline([\n",
    "        ('scale', StandardScaler()),\n",
    "        ('clf', LogisticRegression(max_iter=1000000, random_state=seed))])\n",
    "\n",
    "gs_model = GridSearchCV(pipe, hp, n_jobs=-1, scoring='f1')\n",
    "gs_model.fit(X_train, y_train)\n",
    "gs_model.best_params_"
   ]
  },
  {
   "cell_type": "markdown",
   "id": "9e374a4a",
   "metadata": {},
   "source": [
    "#### Testing model with best hyperparameters"
   ]
  },
  {
   "cell_type": "code",
   "execution_count": 20,
   "id": "7e9be2ce",
   "metadata": {},
   "outputs": [
    {
     "name": "stdout",
     "output_type": "stream",
     "text": [
      "Accuracy:  0.8111888111888111\n",
      "Precision:  0.782608695652174\n",
      "Recall:  0.8780487804878049\n",
      "F1:  0.8275862068965518\n"
     ]
    }
   ],
   "source": [
    "model = Pipeline([\n",
    "        ('scale', StandardScaler()),\n",
    "        ('clf', LogisticRegression(max_iter=1000000, C=0.1, penalty='l2', solver='liblinear', random_state=seed))])\n",
    "model.fit(X_train, y_train)\n",
    "y_pred = model.predict(X_test)\n",
    "evaluate(y_test, y_pred)"
   ]
  },
  {
   "cell_type": "code",
   "execution_count": 21,
   "id": "0c659713",
   "metadata": {
    "scrolled": true
   },
   "outputs": [
    {
     "name": "stdout",
     "output_type": "stream",
     "text": [
      "                       coefficient\n",
      "roberta_prediction        2.436719\n",
      "tourism                  -0.245269\n",
      "heroic                   -0.214066\n",
      "irritability              0.205909\n",
      "order                     0.179457\n",
      "domestic_work             0.178059\n",
      "negative_emotion          0.177279\n",
      "rage                     -0.176513\n",
      "smell                    -0.175169\n",
      "toy                       0.163679\n",
      "journalism               -0.158093\n",
      "cheerfulness              0.157703\n",
      "childish                 -0.155344\n",
      "business                  0.137923\n",
      "politeness               -0.133528\n",
      "messaging                -0.133029\n",
      "prison                   -0.132982\n",
      "beauty                   -0.130893\n",
      "internet                 -0.128963\n",
      "real_estate              -0.124794\n",
      "writing                   0.123634\n",
      "hearing                   0.122055\n",
      "kill                      0.121010\n",
      "divine                    0.120069\n",
      "positive_emotion         -0.119736\n",
      "science                   0.114320\n",
      "ugliness                  0.113554\n",
      "urban                    -0.110543\n",
      "play                     -0.110375\n",
      "leisure                   0.110227\n",
      "valuable                  0.109782\n",
      "anticipation              0.107507\n",
      "listen                   -0.105783\n",
      "phone                     0.104713\n",
      "economics                 0.102409\n",
      "achievement               0.101727\n",
      "music                    -0.100102\n",
      "deception                -0.099999\n",
      "ship                     -0.098285\n",
      "nervousness               0.097865\n",
      "dance                     0.097240\n",
      "shape_and_size           -0.097016\n",
      "occupation               -0.096530\n",
      "youth                    -0.093256\n",
      "torment                   0.093102\n",
      "terrorism                 0.092631\n",
      "hygiene                   0.092109\n",
      "farming                  -0.091600\n",
      "driving                   0.091132\n",
      "tool                     -0.090253\n",
      "fire                     -0.090200\n",
      "dispute                   0.089528\n",
      "shopping                 -0.089286\n",
      "sleep                    -0.087792\n",
      "payment                  -0.086825\n",
      "crime                     0.086686\n",
      "speaking                 -0.086576\n",
      "breaking                 -0.085587\n",
      "friends                   0.082177\n",
      "emotional                -0.078106\n",
      "disappointment            0.078046\n",
      "medical_emergency         0.077188\n",
      "beach                    -0.076333\n",
      "restaurant               -0.075715\n",
      "art                      -0.072715\n",
      "politics                  0.072359\n",
      "sports                   -0.072169\n",
      "rural                     0.071892\n",
      "negotiate                -0.071436\n",
      "social_media              0.067907\n",
      "furniture                 0.067213\n",
      "dominant_heirarchical    -0.065857\n",
      "pain                      0.065691\n",
      "ridicule                 -0.064756\n",
      "strength                 -0.064349\n",
      "fabric                    0.063850\n",
      "fear                      0.062174\n",
      "sadness                  -0.060297\n",
      "death                     0.060208\n",
      "celebration              -0.059612\n",
      "programming              -0.057051\n",
      "computer                 -0.056921\n",
      "aggression               -0.054271\n",
      "air_travel                0.052890\n",
      "morning                   0.052582\n",
      "work                      0.051248\n",
      "magic                    -0.051177\n",
      "religion                 -0.050231\n",
      "body                      0.048963\n",
      "vacation                  0.048908\n",
      "envy                      0.048058\n",
      "pet                       0.047876\n",
      "clothing                 -0.047400\n",
      "feminine                  0.045856\n",
      "plant                     0.045602\n",
      "superhero                -0.043086\n",
      "sexual                    0.042713\n",
      "attractive                0.042446\n",
      "communication            -0.042297\n",
      "gain                     -0.041139\n",
      "surprise                  0.040637\n",
      "stealing                 -0.040530\n",
      "military                 -0.040516\n",
      "horror                    0.040496\n",
      "violence                  0.038956\n",
      "suffering                 0.038084\n",
      "wealthy                   0.037820\n",
      "medieval                  0.036806\n",
      "poor                      0.036483\n",
      "dominant_personality     -0.035878\n",
      "weapon                    0.035281\n",
      "appearance               -0.035111\n",
      "philosophy                0.034228\n",
      "injury                    0.033581\n",
      "hiking                    0.032945\n",
      "monster                  -0.032837\n",
      "cold                     -0.032535\n",
      "exercise                  0.032049\n",
      "royalty                  -0.028654\n",
      "family                   -0.028030\n",
      "ancient                  -0.024765\n",
      "weather                   0.024751\n",
      "government               -0.024639\n",
      "leader                    0.024009\n",
      "trust                    -0.022946\n",
      "giving                    0.022722\n",
      "independence             -0.021523\n",
      "fight                    -0.021298\n",
      "alcohol                   0.020346\n",
      "zest                      0.019890\n",
      "weakness                  0.019670\n",
      "school                    0.019555\n",
      "meeting                  -0.018985\n",
      "timidity                 -0.017366\n",
      "animal                    0.017310\n",
      "movement                  0.014753\n",
      "pride                    -0.014717\n",
      "hipster                  -0.014317\n",
      "cooking                   0.014136\n",
      "children                 -0.010072\n",
      "noise                     0.009648\n",
      "confusion                 0.009373\n",
      "wedding                  -0.008405\n",
      "masculine                -0.008168\n",
      "swearing_terms            0.007716\n",
      "war                      -0.007545\n",
      "law                       0.007185\n",
      "blue_collar_job           0.005414\n",
      "optimism                 -0.004885\n",
      "home                     -0.004627\n",
      "help                      0.004291\n",
      "hate                      0.003932\n",
      "office                   -0.003822\n",
      "exotic                   -0.003816\n",
      "money                    -0.003499\n",
      "healing                   0.002837\n",
      "fashion                   0.002194\n",
      "traveling                 0.001679\n",
      "liquid                    0.001344\n",
      "anonymity                -0.001179\n"
     ]
    }
   ],
   "source": [
    "cdf = pd.DataFrame(model.get_params()['clf'].coef_.transpose(), X_train.columns, columns=['coefficient'])\n",
    "print(cdf.sort_values(by='coefficient',  key=abs, ascending=False).to_string())"
   ]
  },
  {
   "cell_type": "markdown",
   "id": "41a5e413",
   "metadata": {},
   "source": [
    "### Support Vector Machine"
   ]
  },
  {
   "cell_type": "markdown",
   "id": "fd51b65c",
   "metadata": {},
   "source": [
    "#### Grid search"
   ]
  },
  {
   "cell_type": "code",
   "execution_count": 22,
   "id": "61ff13ae",
   "metadata": {},
   "outputs": [
    {
     "data": {
      "text/plain": [
       "{'clf__C': 0.01, 'clf__gamma': 1000, 'clf__kernel': 'linear'}"
      ]
     },
     "execution_count": 22,
     "metadata": {},
     "output_type": "execute_result"
    }
   ],
   "source": [
    "hp = {\n",
    "        'clf__kernel': ['linear'],\n",
    "        'clf__gamma': [1000, 100, 10, 1, 0.1, 0.01],\n",
    "        'clf__C': [0.01, 0.1, 1, 10],\n",
    "}\n",
    "\n",
    "pipe = Pipeline([\n",
    "        ('scale', StandardScaler()),\n",
    "        ('clf', SVC(random_state=seed))])\n",
    "\n",
    "gs_model = GridSearchCV(pipe, hp, n_jobs=-1, scoring='f1')\n",
    "gs_model.fit(X_train, y_train)\n",
    "gs_model.best_params_"
   ]
  },
  {
   "cell_type": "markdown",
   "id": "817c9e78",
   "metadata": {},
   "source": [
    "#### Testing model with best hyperparameters"
   ]
  },
  {
   "cell_type": "code",
   "execution_count": 23,
   "id": "43343f86",
   "metadata": {},
   "outputs": [
    {
     "name": "stdout",
     "output_type": "stream",
     "text": [
      "Accuracy:  0.8111888111888111\n",
      "Precision:  0.7785714285714286\n",
      "Recall:  0.8861788617886179\n",
      "F1:  0.8288973384030418\n"
     ]
    }
   ],
   "source": [
    "model = Pipeline([\n",
    "        ('scale', StandardScaler()),\n",
    "        ('clf', SVC(C=0.01, gamma=1000, kernel='linear', random_state=seed))])\n",
    "model.fit(X_train, y_train)\n",
    "y_pred = model.predict(X_test)\n",
    "evaluate(y_test, y_pred)"
   ]
  },
  {
   "cell_type": "markdown",
   "id": "4c8ade53",
   "metadata": {},
   "source": [
    "### Random Forest Classifier"
   ]
  },
  {
   "cell_type": "markdown",
   "id": "5c67aa6f",
   "metadata": {},
   "source": [
    "#### Grid search"
   ]
  },
  {
   "cell_type": "code",
   "execution_count": 24,
   "id": "6a115b1c",
   "metadata": {},
   "outputs": [
    {
     "name": "stdout",
     "output_type": "stream",
     "text": [
      "Fitting 5 folds for each of 24 candidates, totalling 120 fits\n"
     ]
    },
    {
     "data": {
      "text/plain": [
       "{'clf__criterion': 'gini',\n",
       " 'clf__max_features': 'auto',\n",
       " 'clf__min_samples_split': 4,\n",
       " 'clf__n_estimators': 200}"
      ]
     },
     "execution_count": 24,
     "metadata": {},
     "output_type": "execute_result"
    }
   ],
   "source": [
    "hp = {\n",
    "        'clf__n_estimators': [50, 200],\n",
    "        'clf__max_features': ['auto', 'sqrt', 'log2'],\n",
    "        'clf__criterion': ['gini', 'entropy'],\n",
    "        'clf__min_samples_split': [2, 4]\n",
    "}\n",
    "\n",
    "pipe = Pipeline([\n",
    "        ('scale', StandardScaler()),\n",
    "        ('clf',  RandomForestClassifier(random_state=seed))])\n",
    "\n",
    "gs_model = GridSearchCV(pipe, hp, n_jobs=-1, scoring='f1', verbose=4)\n",
    "gs_model.fit(X_train, y_train)\n",
    "gs_model.best_params_"
   ]
  },
  {
   "cell_type": "markdown",
   "id": "2a373f0c",
   "metadata": {},
   "source": [
    "#### Testing model with best hyperparameters"
   ]
  },
  {
   "cell_type": "code",
   "execution_count": 26,
   "id": "fb791c2a",
   "metadata": {},
   "outputs": [
    {
     "name": "stdout",
     "output_type": "stream",
     "text": [
      "Accuracy:  0.8083916083916084\n",
      "Precision:  0.777511961722488\n",
      "Recall:  0.8807588075880759\n",
      "F1:  0.8259212198221093\n"
     ]
    }
   ],
   "source": [
    "model = Pipeline([\n",
    "        ('scale', StandardScaler()),\n",
    "        ('clf', RandomForestClassifier(criterion='gini', max_features='auto', min_samples_split=4, n_estimators=200, random_state=seed))])\n",
    "model.fit(X_train, y_train)\n",
    "y_pred = model.predict(X_test)\n",
    "evaluate(y_test, y_pred)"
   ]
  }
 ],
 "metadata": {
  "kernelspec": {
   "display_name": "Python 3 (ipykernel)",
   "language": "python",
   "name": "python3"
  },
  "language_info": {
   "codemirror_mode": {
    "name": "ipython",
    "version": 3
   },
   "file_extension": ".py",
   "mimetype": "text/x-python",
   "name": "python",
   "nbconvert_exporter": "python",
   "pygments_lexer": "ipython3",
   "version": "3.9.7"
  }
 },
 "nbformat": 4,
 "nbformat_minor": 5
}
