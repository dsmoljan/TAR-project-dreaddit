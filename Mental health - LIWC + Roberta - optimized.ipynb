{
 "cells": [
  {
   "cell_type": "code",
   "execution_count": 1,
   "id": "9596b77d",
   "metadata": {},
   "outputs": [],
   "source": [
    "import pandas as pd\n",
    "import numpy as np\n",
    "from sklearn.metrics import *\n",
    "from sklearn.metrics import accuracy_score\n",
    "from sklearn.metrics import f1_score\n",
    "from sklearn.metrics import recall_score\n",
    "from sklearn.linear_model import LogisticRegression\n",
    "import random\n",
    "import matplotlib.pyplot as plt\n",
    "\n",
    "def set_seed(seed: int):\n",
    "    random.seed(seed)\n",
    "    np.random.seed(seed)\n",
    "\n",
    "set_seed(1)"
   ]
  },
  {
   "cell_type": "code",
   "execution_count": 2,
   "id": "c20bfdd3",
   "metadata": {},
   "outputs": [],
   "source": [
    "def prepare_data(dataset_path_train = None,dataset_path_test = None):\n",
    "    if (dataset_path_train is None or dataset_path_test is None):\n",
    "        raise RuntimeException(\"Error! Dataset must be provided\")\n",
    "    train = pd.read_csv(dataset_path_train)\n",
    "    test = pd.read_csv(dataset_path_test)\n",
    "    \n",
    "    y_train = train['label']\n",
    "    y_test = test['label']\n",
    "    \n",
    "    features = []\n",
    "    for feat in train.columns.values:\n",
    "        if 'lex' in feat:\n",
    "            features.append(feat)\n",
    "    features.extend(['roberta_prediction', 'syntax_ari', 'social_karma'])\n",
    "    \n",
    "    X_train = train[features]\n",
    "    X_test = test[features]\n",
    "    \n",
    "    return X_train, y_train, X_test, y_test\n",
    "\n",
    "def evaluate(test_labels, y_pred):\n",
    "    acc = accuracy_score(test_labels, y_pred)\n",
    "    rec = recall_score(test_labels, y_pred, zero_division=1)\n",
    "    prec = precision_score(test_labels, y_pred, zero_division=1)\n",
    "    f1 = f1_score(test_labels, y_pred, zero_division=1)\n",
    "    print(\"Accuracy: \", acc)\n",
    "    print(\"Recall: \", rec)\n",
    "    print(\"Precision: \", prec)\n",
    "    print(\"F1: \", f1)"
   ]
  },
  {
   "cell_type": "markdown",
   "id": "ec932a36",
   "metadata": {},
   "source": [
    "## Grid Search"
   ]
  },
  {
   "cell_type": "markdown",
   "id": "4922eeaf",
   "metadata": {},
   "source": [
    "### Logistic regression"
   ]
  },
  {
   "cell_type": "code",
   "execution_count": 3,
   "id": "513973a3",
   "metadata": {
    "scrolled": false
   },
   "outputs": [
    {
     "name": "stdout",
     "output_type": "stream",
     "text": [
      "Fitting 5 folds for each of 18 candidates, totalling 90 fits\n"
     ]
    },
    {
     "name": "stderr",
     "output_type": "stream",
     "text": [
      "C:\\Users\\38599\\anaconda3\\lib\\site-packages\\sklearn\\model_selection\\_validation.py:378: FitFailedWarning: \n",
      "45 fits failed out of a total of 90.\n",
      "The score on these train-test partitions for these parameters will be set to nan.\n",
      "If these failures are not expected, you can try to debug them by setting error_score='raise'.\n",
      "\n",
      "Below are more details about the failures:\n",
      "--------------------------------------------------------------------------------\n",
      "15 fits failed with the following error:\n",
      "Traceback (most recent call last):\n",
      "  File \"C:\\Users\\38599\\anaconda3\\lib\\site-packages\\sklearn\\model_selection\\_validation.py\", line 686, in _fit_and_score\n",
      "    estimator.fit(X_train, y_train, **fit_params)\n",
      "  File \"C:\\Users\\38599\\anaconda3\\lib\\site-packages\\sklearn\\linear_model\\_logistic.py\", line 1091, in fit\n",
      "    solver = _check_solver(self.solver, self.penalty, self.dual)\n",
      "  File \"C:\\Users\\38599\\anaconda3\\lib\\site-packages\\sklearn\\linear_model\\_logistic.py\", line 71, in _check_solver\n",
      "    raise ValueError(\n",
      "ValueError: Only 'saga' solver supports elasticnet penalty, got solver=liblinear.\n",
      "\n",
      "--------------------------------------------------------------------------------\n",
      "15 fits failed with the following error:\n",
      "Traceback (most recent call last):\n",
      "  File \"C:\\Users\\38599\\anaconda3\\lib\\site-packages\\sklearn\\model_selection\\_validation.py\", line 686, in _fit_and_score\n",
      "    estimator.fit(X_train, y_train, **fit_params)\n",
      "  File \"C:\\Users\\38599\\anaconda3\\lib\\site-packages\\sklearn\\linear_model\\_logistic.py\", line 1091, in fit\n",
      "    solver = _check_solver(self.solver, self.penalty, self.dual)\n",
      "  File \"C:\\Users\\38599\\anaconda3\\lib\\site-packages\\sklearn\\linear_model\\_logistic.py\", line 61, in _check_solver\n",
      "    raise ValueError(\n",
      "ValueError: Solver newton-cg supports only 'l2' or 'none' penalties, got elasticnet penalty.\n",
      "\n",
      "--------------------------------------------------------------------------------\n",
      "15 fits failed with the following error:\n",
      "Traceback (most recent call last):\n",
      "  File \"C:\\Users\\38599\\anaconda3\\lib\\site-packages\\sklearn\\model_selection\\_validation.py\", line 686, in _fit_and_score\n",
      "    estimator.fit(X_train, y_train, **fit_params)\n",
      "  File \"C:\\Users\\38599\\anaconda3\\lib\\site-packages\\sklearn\\linear_model\\_logistic.py\", line 1091, in fit\n",
      "    solver = _check_solver(self.solver, self.penalty, self.dual)\n",
      "  File \"C:\\Users\\38599\\anaconda3\\lib\\site-packages\\sklearn\\linear_model\\_logistic.py\", line 61, in _check_solver\n",
      "    raise ValueError(\n",
      "ValueError: Solver lbfgs supports only 'l2' or 'none' penalties, got elasticnet penalty.\n",
      "\n",
      "  warnings.warn(some_fits_failed_message, FitFailedWarning)\n",
      "C:\\Users\\38599\\anaconda3\\lib\\site-packages\\sklearn\\model_selection\\_search.py:953: UserWarning: One or more of the test scores are non-finite: [0.89246503 0.88978616 0.89014447        nan        nan        nan\n",
      " 0.89625448 0.89515372 0.89619822        nan        nan        nan\n",
      " 0.89168723 0.89154974 0.8920329         nan        nan        nan]\n",
      "  warnings.warn(\n"
     ]
    },
    {
     "name": "stdout",
     "output_type": "stream",
     "text": [
      "Accuracy:  0.8195804195804196\n",
      "Recall:  0.907859078590786\n",
      "Precision:  0.7790697674418605\n",
      "F1:  0.8385481852315394\n"
     ]
    }
   ],
   "source": [
    "from sklearn.preprocessing import StandardScaler\n",
    "from sklearn.model_selection import GridSearchCV\n",
    "from sklearn.linear_model import LogisticRegression\n",
    "\n",
    "X_train, y_train, X_test, y_test = prepare_data(dataset_path_train = 'train_pred_mental_health.csv', dataset_path_test = 'test_pred_mental_health.csv')\n",
    "#sclr = StandardScaler()\n",
    "#X_train = sclr.fit_transform(X_train)\n",
    "#X_test = sclr.transform(X_test)\n",
    "hp = {\n",
    "        'solver': ['liblinear', 'newton-cg', 'lbfgs'],\n",
    "        'penalty': ['l2', 'elasticnet'],\n",
    "        'C': [0.1, 1, 10],\n",
    "    }\n",
    "gs_model = GridSearchCV(LogisticRegression(max_iter=1000000), hp, n_jobs=-1, scoring='f1', verbose=4)\n",
    "gs_model.fit(X_train, y_train)\n",
    "    \n",
    "model = LogisticRegression(max_iter=1000000,**gs_model.best_params_)\n",
    "model.fit(X_train, y_train)\n",
    "y_pred = model.predict(X_test)\n",
    "evaluate(y_test, y_pred)"
   ]
  },
  {
   "cell_type": "code",
   "execution_count": 4,
   "id": "6c859c38",
   "metadata": {},
   "outputs": [
    {
     "data": {
      "text/plain": [
       "{'C': 1, 'penalty': 'l2', 'solver': 'liblinear'}"
      ]
     },
     "execution_count": 4,
     "metadata": {},
     "output_type": "execute_result"
    }
   ],
   "source": [
    "gs_model.best_params_"
   ]
  },
  {
   "cell_type": "code",
   "execution_count": 5,
   "id": "bf86cbdf",
   "metadata": {
    "scrolled": false
   },
   "outputs": [
    {
     "name": "stdout",
     "output_type": "stream",
     "text": [
      "                          coefficient\n",
      "roberta_prediction           4.202665\n",
      "lex_dal_min_activation      -1.354658\n",
      "lex_dal_min_pleasantness    -1.198125\n",
      "lex_dal_avg_pleasantness    -1.139446\n",
      "lex_dal_avg_imagery          0.779881\n",
      "lex_dal_max_pleasantness    -0.637963\n",
      "lex_liwc_death               0.414601\n",
      "lex_liwc_swear               0.367543\n",
      "lex_liwc_negemo             -0.349047\n",
      "lex_liwc_feel                0.324575\n",
      "lex_liwc_nonflu              0.308234\n",
      "lex_liwc_affect              0.299307\n",
      "lex_dal_max_activation      -0.254480\n",
      "lex_dal_max_imagery          0.239398\n",
      "lex_liwc_posemo             -0.233798\n",
      "lex_liwc_informal           -0.219533\n",
      "lex_dal_min_imagery         -0.214619\n",
      "lex_liwc_hear                0.212610\n",
      "lex_liwc_ingest             -0.201360\n",
      "lex_liwc_percept            -0.195031\n",
      "lex_liwc_assent              0.193342\n",
      "lex_liwc_anx                 0.175069\n",
      "lex_liwc_netspeak            0.167057\n",
      "lex_liwc_auxverb            -0.160698\n",
      "lex_liwc_tentat              0.146209\n",
      "lex_liwc_pronoun            -0.141869\n",
      "lex_liwc_see                 0.134728\n",
      "lex_liwc_friend              0.133516\n",
      "lex_liwc_Apostro             0.131438\n",
      "lex_liwc_certain             0.124365\n",
      "lex_liwc_function            0.117769\n",
      "lex_liwc_body               -0.115268\n",
      "lex_liwc_differ             -0.108591\n",
      "lex_liwc_article            -0.107325\n",
      "lex_liwc_we                  0.100675\n",
      "lex_liwc_negate             -0.098812\n",
      "lex_liwc_prep               -0.095452\n",
      "lex_liwc_sexual              0.094103\n",
      "lex_liwc_bio                 0.087586\n",
      "lex_liwc_they               -0.081280\n",
      "lex_liwc_you                 0.077900\n",
      "lex_liwc_conj               -0.077188\n",
      "lex_dal_avg_activation      -0.074241\n",
      "lex_liwc_risk                0.066135\n",
      "lex_liwc_anger               0.065959\n",
      "lex_liwc_OtherP             -0.065651\n",
      "lex_liwc_focusfuture        -0.064197\n",
      "lex_liwc_Parenth            -0.061898\n",
      "lex_liwc_reward             -0.058122\n",
      "lex_liwc_ppron               0.051264\n",
      "lex_liwc_sad                 0.050685\n",
      "lex_liwc_Quote              -0.045203\n",
      "lex_liwc_filler             -0.041456\n",
      "lex_liwc_work                0.041060\n",
      "lex_liwc_quant              -0.040805\n",
      "lex_liwc_achieve             0.040035\n",
      "lex_liwc_relativ            -0.039102\n",
      "lex_liwc_health             -0.037051\n",
      "lex_liwc_adverb             -0.035737\n",
      "lex_liwc_QMark               0.035371\n",
      "lex_liwc_money              -0.034960\n",
      "lex_liwc_Dic                 0.034632\n",
      "lex_liwc_cause               0.032214\n",
      "lex_liwc_Period              0.031525\n",
      "lex_liwc_Dash                0.031476\n",
      "lex_liwc_Comma              -0.031266\n",
      "lex_liwc_discrep            -0.029855\n",
      "syntax_ari                  -0.028052\n",
      "lex_liwc_focuspresent        0.027596\n",
      "lex_liwc_relig              -0.026489\n",
      "lex_liwc_cogproc            -0.026305\n",
      "lex_liwc_ipron              -0.026296\n",
      "lex_liwc_motion             -0.024874\n",
      "lex_liwc_female             -0.024039\n",
      "lex_liwc_social             -0.022562\n",
      "lex_liwc_affiliation         0.020896\n",
      "lex_liwc_WPS                 0.020720\n",
      "lex_liwc_power              -0.019722\n",
      "lex_liwc_space               0.019178\n",
      "lex_liwc_compare            -0.019124\n",
      "lex_liwc_SemiC               0.018540\n",
      "lex_liwc_verb                0.018450\n",
      "lex_liwc_home                0.016798\n",
      "lex_liwc_family              0.016664\n",
      "lex_liwc_time                0.015231\n",
      "lex_liwc_number              0.015173\n",
      "lex_liwc_Clout              -0.013050\n",
      "lex_liwc_Colon              -0.012836\n",
      "lex_liwc_focuspast          -0.011700\n",
      "lex_liwc_shehe              -0.011567\n",
      "lex_liwc_insight            -0.011306\n",
      "lex_liwc_leisure            -0.010199\n",
      "lex_liwc_i                  -0.010140\n",
      "lex_liwc_Tone               -0.007635\n",
      "lex_liwc_male               -0.007172\n",
      "lex_liwc_Exclam              0.007023\n",
      "lex_liwc_Analytic           -0.005860\n",
      "lex_liwc_interrog            0.005806\n",
      "lex_liwc_adj                 0.004976\n",
      "lex_liwc_Sixltr              0.003754\n",
      "lex_liwc_WC                  0.002266\n",
      "lex_liwc_Authentic          -0.001968\n",
      "social_karma                -0.001033\n",
      "lex_liwc_drives             -0.000997\n",
      "lex_liwc_AllPunc            -0.000297\n"
     ]
    }
   ],
   "source": [
    "cdf = pd.DataFrame(model.coef_.transpose(), X_train.columns.values, columns=['coefficient'])\n",
    "print(cdf.sort_values(by='coefficient',  key=abs, ascending=False).to_string())"
   ]
  },
  {
   "cell_type": "markdown",
   "id": "4c24c5e7",
   "metadata": {},
   "source": [
    "### Support Vector Machine"
   ]
  },
  {
   "cell_type": "code",
   "execution_count": 6,
   "id": "13272dbf",
   "metadata": {},
   "outputs": [
    {
     "name": "stdout",
     "output_type": "stream",
     "text": [
      "Fitting 5 folds for each of 24 candidates, totalling 120 fits\n",
      "Accuracy:  0.8181818181818182\n",
      "Recall:  0.9214092140921409\n",
      "Precision:  0.7709750566893424\n",
      "F1:  0.8395061728395061\n"
     ]
    }
   ],
   "source": [
    "from sklearn.svm import SVC\n",
    "\n",
    "X_train, y_train, X_test, y_test = prepare_data(dataset_path_train = 'train_pred_mental_health.csv', dataset_path_test = 'test_pred_mental_health.csv')\n",
    "sclr = StandardScaler()\n",
    "X_train = sclr.fit_transform(X_train)\n",
    "X_test = sclr.transform(X_test)\n",
    "hp = {\n",
    "        'kernel': ['linear'],\n",
    "        'gamma': [1000, 100, 10, 1, 0.1, 0.01],\n",
    "        'C': [0.01, 0.1, 1, 10],\n",
    "    }\n",
    "gs_model = GridSearchCV(SVC(), hp, n_jobs=-1, scoring='f1', verbose=4)\n",
    "gs_model.fit(X_train, y_train)\n",
    "    \n",
    "model = SVC(**gs_model.best_params_)\n",
    "model.fit(X_train, y_train)\n",
    "y_pred = model.predict(X_test)\n",
    "evaluate(y_test, y_pred)"
   ]
  },
  {
   "cell_type": "code",
   "execution_count": 7,
   "id": "316c4a56",
   "metadata": {},
   "outputs": [
    {
     "data": {
      "text/plain": [
       "{'C': 0.01, 'gamma': 1000, 'kernel': 'linear'}"
      ]
     },
     "execution_count": 7,
     "metadata": {},
     "output_type": "execute_result"
    }
   ],
   "source": [
    "gs_model.best_params_"
   ]
  },
  {
   "cell_type": "code",
   "execution_count": 8,
   "id": "05c05bfd",
   "metadata": {},
   "outputs": [
    {
     "name": "stdout",
     "output_type": "stream",
     "text": [
      "Fitting 5 folds for each of 24 candidates, totalling 120 fits\n"
     ]
    },
    {
     "name": "stderr",
     "output_type": "stream",
     "text": [
      "C:\\Users\\38599\\anaconda3\\lib\\site-packages\\sklearn\\ensemble\\_forest.py:427: FutureWarning: `max_features='auto'` has been deprecated in 1.1 and will be removed in 1.3. To keep the past behaviour, explicitly set `max_features='sqrt'` or remove this parameter as it is also the default value for RandomForestClassifiers and ExtraTreesClassifiers.\n",
      "  warn(\n",
      "C:\\Users\\38599\\anaconda3\\lib\\site-packages\\sklearn\\ensemble\\_forest.py:427: FutureWarning: `max_features='auto'` has been deprecated in 1.1 and will be removed in 1.3. To keep the past behaviour, explicitly set `max_features='sqrt'` or remove this parameter as it is also the default value for RandomForestClassifiers and ExtraTreesClassifiers.\n",
      "  warn(\n"
     ]
    },
    {
     "name": "stdout",
     "output_type": "stream",
     "text": [
      "Accuracy:  0.8125874125874126\n",
      "Recall:  0.8997289972899729\n",
      "Precision:  0.7738927738927739\n",
      "F1:  0.8320802005012531\n"
     ]
    }
   ],
   "source": [
    "from sklearn.ensemble import RandomForestClassifier\n",
    "\n",
    "X_train, y_train, X_test, y_test = prepare_data(dataset_path_train = 'train_pred_mental_health.csv', dataset_path_test = 'test_pred_mental_health.csv')\n",
    "\n",
    "hp = {\n",
    "        'n_estimators': [50, 200],\n",
    "        'max_features': ['auto', 'sqrt', 'log2'],\n",
    "        'criterion': ['gini', 'entropy'],\n",
    "        'min_samples_split': [2, 4]\n",
    "    }\n",
    "gs_model = GridSearchCV(RandomForestClassifier(), hp, n_jobs=-1, scoring='f1', verbose=4)\n",
    "gs_model.fit(X_train, y_train)\n",
    "    \n",
    "model = RandomForestClassifier(**gs_model.best_params_)\n",
    "model.fit(X_train, y_train)\n",
    "y_pred = model.predict(X_test)\n",
    "evaluate(y_test, y_pred)"
   ]
  },
  {
   "cell_type": "code",
   "execution_count": 9,
   "id": "9ef7d244",
   "metadata": {},
   "outputs": [
    {
     "data": {
      "text/plain": [
       "{'criterion': 'gini',\n",
       " 'max_features': 'auto',\n",
       " 'min_samples_split': 4,\n",
       " 'n_estimators': 200}"
      ]
     },
     "execution_count": 9,
     "metadata": {},
     "output_type": "execute_result"
    }
   ],
   "source": [
    "gs_model.best_params_"
   ]
  }
 ],
 "metadata": {
  "kernelspec": {
   "display_name": "Python 3 (ipykernel)",
   "language": "python",
   "name": "python3"
  },
  "language_info": {
   "codemirror_mode": {
    "name": "ipython",
    "version": 3
   },
   "file_extension": ".py",
   "mimetype": "text/x-python",
   "name": "python",
   "nbconvert_exporter": "python",
   "pygments_lexer": "ipython3",
   "version": "3.9.7"
  }
 },
 "nbformat": 4,
 "nbformat_minor": 5
}
