{
 "cells": [
  {
   "cell_type": "markdown",
   "id": "3bd7b73c",
   "metadata": {},
   "source": [
    "# Stress Detection Model:\n",
    "#### RoBERTa Classifier Adapted on Mental Health Reddit Posts Dataset"
   ]
  },
  {
   "cell_type": "code",
   "execution_count": 1,
   "id": "dd5bead9",
   "metadata": {},
   "outputs": [],
   "source": [
    "train_base = r'domain-adaptation\\predictions\\train-roberta-base.csv'\n",
    "test_base = r'domain-adaptation\\predictions\\test-roberta-base.csv'\n",
    "train_scr = r'domain-adaptation\\predictions\\train-roberta-scraped.csv'\n",
    "test_scr = r'domain-adaptation\\predictions\\test-roberta-scraped.csv'\n",
    "train_mh = r'domain-adaptation\\predictions\\train-roberta-mentalhealth.csv'\n",
    "test_mh = r'domain-adaptation\\predictions\\test-roberta-mentalhealth.csv'"
   ]
  },
  {
   "cell_type": "code",
   "execution_count": 2,
   "id": "a86d55b3",
   "metadata": {},
   "outputs": [],
   "source": [
    "import pandas as pd\n",
    "import numpy as np\n",
    "import random\n",
    "import phik\n",
    "import warnings\n",
    "import matplotlib.pyplot as plt\n",
    "from sklearn.preprocessing import StandardScaler\n",
    "from sklearn.pipeline import Pipeline\n",
    "from sklearn.linear_model import LogisticRegression\n",
    "from sklearn.ensemble import RandomForestClassifier\n",
    "from sklearn.svm import SVC\n",
    "from sklearn.feature_selection import SelectKBest\n",
    "from sklearn.model_selection import GridSearchCV\n",
    "from sklearn.metrics import *\n",
    "from sklearn.metrics import accuracy_score\n",
    "from sklearn.metrics import f1_score\n",
    "from sklearn.metrics import recall_score\n",
    "from empath import Empath"
   ]
  },
  {
   "cell_type": "code",
   "execution_count": 3,
   "id": "df186a56",
   "metadata": {},
   "outputs": [],
   "source": [
    "# for reproducibility:\n",
    "seed = 1\n",
    "def set_seed(seed: int):\n",
    "    random.seed(seed)\n",
    "    np.random.seed(seed)\n",
    "\n",
    "set_seed(seed)"
   ]
  },
  {
   "cell_type": "markdown",
   "id": "e9851f09",
   "metadata": {},
   "source": [
    "## Data preparation"
   ]
  },
  {
   "cell_type": "code",
   "execution_count": 4,
   "id": "98c9518d",
   "metadata": {},
   "outputs": [],
   "source": [
    "# Prepares training and testing data for classification from given paths\n",
    "def prepare_data(dataset_path_train = None, dataset_path_test = None, features=None):\n",
    "    if (dataset_path_train is None or dataset_path_test is None):\n",
    "        raise RuntimeException(\"Error! Dataset must be provided\")\n",
    "    X_train = pd.read_csv(dataset_path_train)\n",
    "    X_test = pd.read_csv(dataset_path_test)\n",
    "    \n",
    "    y_train = X_train['label']\n",
    "    y_test = X_test['label']\n",
    "        \n",
    "    X_train = X_train.drop(columns=['label'])\n",
    "    X_test = X_test.drop(columns=['label'])\n",
    "    \n",
    "    \n",
    "    if features is not None:\n",
    "        X_train = X_train[features]\n",
    "        X_test = X_test[features]\n",
    "    \n",
    "    return X_train, y_train, X_test, y_test\n",
    "\n",
    "# Calculates Empath features and adds them to the given dataframe\n",
    "def empath(X):\n",
    "    rows = []\n",
    "    for t in X['text']:\n",
    "        empath = Empath().analyze(t, normalize=True)\n",
    "        rows.append(pd.DataFrame([empath]))\n",
    "    df = pd.concat(rows, ignore_index=True)\n",
    "    X = pd.concat([X,df], axis=1)\n",
    "    return X.drop(columns=['text'])\n",
    "\n",
    "# Returns only lexical features from a given dataframe\n",
    "def lex(X):\n",
    "    features = []\n",
    "    for feat in X.columns.values:\n",
    "        if 'lex' in feat:\n",
    "            features.append(feat)\n",
    "    return features"
   ]
  },
  {
   "cell_type": "code",
   "execution_count": 5,
   "id": "4fafbb14",
   "metadata": {},
   "outputs": [],
   "source": [
    "# Evaluates performance of a model given its predictions on the test set\n",
    "def evaluate(y_test, y_pred):\n",
    "    print(\"Accuracy: \", accuracy_score(y_test, y_pred))\n",
    "    print(\"Precision: \", precision_score(y_test, y_pred, zero_division=1))\n",
    "    print(\"Recall: \", recall_score(y_test, y_pred, zero_division=1))\n",
    "    print(\"F1: \", f1_score(y_test, y_pred, zero_division=1))"
   ]
  },
  {
   "cell_type": "code",
   "execution_count": 6,
   "id": "626aceb5",
   "metadata": {},
   "outputs": [],
   "source": [
    "basic = ['roberta_prediction', 'text'] # for creating Empath features\n",
    "lexic = lex(pd.read_csv(train_base))\n",
    "lexic.extend(['roberta_prediction', 'syntax_ari', 'social_karma']) # for getting LIWC features"
   ]
  },
  {
   "cell_type": "markdown",
   "id": "cfec0c74",
   "metadata": {},
   "source": [
    "# LIWC"
   ]
  },
  {
   "cell_type": "code",
   "execution_count": 7,
   "id": "1cc7d985",
   "metadata": {},
   "outputs": [],
   "source": [
    "X_train, y_train, X_test, y_test = prepare_data(dataset_path_train=train_mh, \\\n",
    "                                                dataset_path_test=test_mh, \\\n",
    "                                                features=lexic)"
   ]
  },
  {
   "cell_type": "markdown",
   "id": "e6e07fd8",
   "metadata": {},
   "source": [
    "## Model training and testing\n",
    "### Logistic Regression\n",
    "#### Grid search"
   ]
  },
  {
   "cell_type": "code",
   "execution_count": 8,
   "id": "5a65e2d3",
   "metadata": {},
   "outputs": [
    {
     "data": {
      "text/plain": [
       "{'clf__C': 0.1, 'clf__penalty': 'l2', 'clf__solver': 'newton-cg'}"
      ]
     },
     "execution_count": 8,
     "metadata": {},
     "output_type": "execute_result"
    }
   ],
   "source": [
    "warnings.filterwarnings('ignore')\n",
    "hp = {\n",
    "        'clf__solver': ['liblinear', 'newton-cg', 'lbfgs'],\n",
    "        'clf__penalty': ['l2', 'elasticnet'],\n",
    "        'clf__C': [0.1, 1, 10],\n",
    "}\n",
    "\n",
    "pipe = Pipeline([\n",
    "        ('scale', StandardScaler()),\n",
    "        ('clf', LogisticRegression(max_iter=1000000, random_state=seed))])\n",
    "\n",
    "gs_model = GridSearchCV(pipe, hp, n_jobs=-1, scoring='f1')\n",
    "gs_model.fit(X_train, y_train)\n",
    "gs_model.best_params_"
   ]
  },
  {
   "cell_type": "markdown",
   "id": "a09d987f",
   "metadata": {},
   "source": [
    "#### Testing model with best hyperparameters"
   ]
  },
  {
   "cell_type": "code",
   "execution_count": 37,
   "id": "86a268cc",
   "metadata": {},
   "outputs": [
    {
     "name": "stdout",
     "output_type": "stream",
     "text": [
      "Accuracy:  0.8223776223776224\n",
      "Precision:  0.784037558685446\n",
      "Recall:  0.9051490514905149\n",
      "F1:  0.8402515723270441\n"
     ]
    }
   ],
   "source": [
    "model = Pipeline([\n",
    "        ('scale', StandardScaler()),\n",
    "        ('clf', LogisticRegression(max_iter=1000000, C=0.1, penalty='l2', solver='newton-cg', random_state=seed))])\n",
    "model.fit(X_train, y_train)\n",
    "y_pred = model.predict(X_test)\n",
    "evaluate(y_test, y_pred)"
   ]
  },
  {
   "cell_type": "code",
   "execution_count": 10,
   "id": "0bff5310",
   "metadata": {},
   "outputs": [
    {
     "name": "stdout",
     "output_type": "stream",
     "text": [
      "                          coefficient\n",
      "roberta_prediction           1.941858\n",
      "lex_liwc_function            0.349715\n",
      "lex_liwc_tentat              0.293619\n",
      "lex_liwc_feel                0.283901\n",
      "lex_liwc_OtherP             -0.256457\n",
      "lex_liwc_auxverb            -0.254763\n",
      "lex_liwc_Apostro             0.223892\n",
      "lex_liwc_differ             -0.221136\n",
      "lex_liwc_Dic                 0.220886\n",
      "lex_liwc_death               0.208182\n",
      "lex_liwc_ipron              -0.202623\n",
      "lex_liwc_Tone               -0.200016\n",
      "lex_liwc_swear               0.196680\n",
      "lex_liwc_anx                 0.195844\n",
      "lex_liwc_social             -0.193586\n",
      "lex_liwc_ingest             -0.190344\n",
      "lex_liwc_Clout              -0.187426\n",
      "lex_liwc_negemo             -0.187121\n",
      "lex_dal_avg_pleasantness    -0.174730\n",
      "lex_liwc_focuspresent        0.174090\n",
      "lex_dal_min_activation      -0.172090\n",
      "lex_liwc_certain             0.156947\n",
      "lex_liwc_percept            -0.155014\n",
      "lex_dal_min_pleasantness    -0.154411\n",
      "lex_dal_avg_imagery          0.153001\n",
      "lex_liwc_article            -0.148344\n",
      "lex_liwc_prep               -0.145585\n",
      "lex_liwc_AllPunc            -0.133827\n",
      "lex_liwc_informal           -0.133706\n",
      "lex_liwc_affect              0.131751\n",
      "lex_liwc_WPS                 0.127997\n",
      "lex_liwc_Period              0.119645\n",
      "lex_liwc_friend              0.113964\n",
      "lex_liwc_relativ            -0.109919\n",
      "lex_liwc_QMark               0.108981\n",
      "lex_liwc_pronoun            -0.107566\n",
      "lex_liwc_they               -0.099680\n",
      "lex_liwc_WC                  0.098679\n",
      "lex_liwc_shehe              -0.098549\n",
      "lex_liwc_sexual              0.097906\n",
      "lex_liwc_we                  0.087544\n",
      "lex_liwc_body               -0.087432\n",
      "lex_liwc_hear                0.087049\n",
      "lex_liwc_you                 0.086711\n",
      "lex_liwc_focusfuture        -0.085939\n",
      "lex_liwc_Parenth            -0.085192\n",
      "lex_liwc_nonflu              0.081539\n",
      "syntax_ari                  -0.080927\n",
      "lex_liwc_work                0.078364\n",
      "social_karma                -0.077536\n",
      "lex_liwc_cogproc            -0.074462\n",
      "lex_liwc_motion             -0.071997\n",
      "lex_liwc_bio                 0.070916\n",
      "lex_liwc_reward             -0.068841\n",
      "lex_dal_max_pleasantness    -0.068015\n",
      "lex_liwc_Comma              -0.067951\n",
      "lex_liwc_female             -0.064216\n",
      "lex_liwc_verb                0.063840\n",
      "lex_liwc_adverb              0.063633\n",
      "lex_liwc_focuspast          -0.061855\n",
      "lex_liwc_power              -0.059410\n",
      "lex_liwc_quant              -0.059207\n",
      "lex_liwc_i                   0.058270\n",
      "lex_liwc_anger               0.057712\n",
      "lex_dal_avg_activation       0.057230\n",
      "lex_liwc_money              -0.057012\n",
      "lex_liwc_achieve             0.056659\n",
      "lex_liwc_risk                0.056100\n",
      "lex_liwc_compare            -0.056006\n",
      "lex_liwc_posemo              0.055739\n",
      "lex_dal_max_activation      -0.053659\n",
      "lex_dal_max_imagery          0.053115\n",
      "lex_liwc_affiliation         0.052874\n",
      "lex_liwc_Dash                0.050216\n",
      "lex_liwc_conj               -0.049500\n",
      "lex_liwc_assent              0.048748\n",
      "lex_liwc_negate             -0.046852\n",
      "lex_liwc_netspeak            0.045895\n",
      "lex_liwc_discrep            -0.044517\n",
      "lex_liwc_Authentic          -0.043604\n",
      "lex_liwc_Quote              -0.039097\n",
      "lex_liwc_sad                 0.038612\n",
      "lex_liwc_filler             -0.038068\n",
      "lex_liwc_health              0.036149\n",
      "lex_liwc_Sixltr              0.033130\n",
      "lex_liwc_cause               0.027490\n",
      "lex_liwc_home                0.026400\n",
      "lex_liwc_insight            -0.025547\n",
      "lex_liwc_Analytic           -0.025344\n",
      "lex_liwc_see                 0.024047\n",
      "lex_liwc_male               -0.022423\n",
      "lex_liwc_ppron               0.022179\n",
      "lex_liwc_interrog           -0.020726\n",
      "lex_liwc_number              0.020643\n",
      "lex_liwc_drives              0.016534\n",
      "lex_liwc_family              0.013203\n",
      "lex_liwc_leisure            -0.011935\n",
      "lex_liwc_adj                -0.011733\n",
      "lex_liwc_Colon              -0.007424\n",
      "lex_liwc_SemiC              -0.007251\n",
      "lex_liwc_time                0.006705\n",
      "lex_liwc_relig              -0.005247\n",
      "lex_dal_min_imagery          0.004777\n",
      "lex_liwc_Exclam             -0.003599\n",
      "lex_liwc_space              -0.002508\n"
     ]
    }
   ],
   "source": [
    "cdf = pd.DataFrame(model.get_params()['clf'].coef_.transpose(), X_train.columns, columns=['coefficient'])\n",
    "print(cdf.sort_values(by='coefficient',  key=abs, ascending=False).to_string())"
   ]
  },
  {
   "cell_type": "markdown",
   "id": "a6af8614",
   "metadata": {},
   "source": [
    "### Support Vector Machine\n",
    "#### Grid search"
   ]
  },
  {
   "cell_type": "code",
   "execution_count": 11,
   "id": "359cdbd9",
   "metadata": {},
   "outputs": [
    {
     "data": {
      "text/plain": [
       "{'clf__C': 0.01, 'clf__gamma': 1000, 'clf__kernel': 'linear'}"
      ]
     },
     "execution_count": 11,
     "metadata": {},
     "output_type": "execute_result"
    }
   ],
   "source": [
    "hp = {\n",
    "        'clf__kernel': ['linear'],\n",
    "        'clf__gamma': [1000, 100, 10, 1, 0.1, 0.01],\n",
    "        'clf__C': [0.01, 0.1, 1, 10],\n",
    "}\n",
    "\n",
    "pipe = Pipeline([\n",
    "        ('scale', StandardScaler()),\n",
    "        ('clf', SVC(random_state=seed))])\n",
    "\n",
    "gs_model = GridSearchCV(pipe, hp, n_jobs=-1, scoring='f1')\n",
    "gs_model.fit(X_train, y_train)\n",
    "gs_model.best_params_"
   ]
  },
  {
   "cell_type": "markdown",
   "id": "5392663a",
   "metadata": {},
   "source": [
    "#### Testing model with best hyperparameters"
   ]
  },
  {
   "cell_type": "code",
   "execution_count": 12,
   "id": "93bbcd52",
   "metadata": {},
   "outputs": [
    {
     "name": "stdout",
     "output_type": "stream",
     "text": [
      "Accuracy:  0.8181818181818182\n",
      "Precision:  0.7709750566893424\n",
      "Recall:  0.9214092140921409\n",
      "F1:  0.8395061728395061\n"
     ]
    }
   ],
   "source": [
    "model = Pipeline([\n",
    "        ('scale', StandardScaler()),\n",
    "        ('clf', SVC(C=0.01, gamma=1000, kernel='linear', random_state=seed))])\n",
    "model.fit(X_train, y_train)\n",
    "y_pred = model.predict(X_test)\n",
    "evaluate(y_test, y_pred)"
   ]
  },
  {
   "cell_type": "markdown",
   "id": "50112367",
   "metadata": {},
   "source": [
    "### Random Forest Classifier\n",
    "#### Grid search"
   ]
  },
  {
   "cell_type": "code",
   "execution_count": 13,
   "id": "84d942ba",
   "metadata": {},
   "outputs": [
    {
     "name": "stdout",
     "output_type": "stream",
     "text": [
      "Fitting 5 folds for each of 24 candidates, totalling 120 fits\n"
     ]
    },
    {
     "data": {
      "text/plain": [
       "{'clf__criterion': 'entropy',\n",
       " 'clf__max_features': 'auto',\n",
       " 'clf__min_samples_split': 4,\n",
       " 'clf__n_estimators': 200}"
      ]
     },
     "execution_count": 13,
     "metadata": {},
     "output_type": "execute_result"
    }
   ],
   "source": [
    "hp = {\n",
    "        'clf__n_estimators': [50, 200],\n",
    "        'clf__max_features': ['auto', 'sqrt', 'log2'],\n",
    "        'clf__criterion': ['gini', 'entropy'],\n",
    "        'clf__min_samples_split': [2, 4]\n",
    "}\n",
    "\n",
    "pipe = Pipeline([\n",
    "        ('scale', StandardScaler()),\n",
    "        ('clf',  RandomForestClassifier(random_state=seed))])\n",
    "\n",
    "gs_model = GridSearchCV(pipe, hp, n_jobs=-1, scoring='f1', verbose=4)\n",
    "gs_model.fit(X_train, y_train)\n",
    "gs_model.best_params_"
   ]
  },
  {
   "cell_type": "markdown",
   "id": "c0d47a1e",
   "metadata": {},
   "source": [
    "#### Testing model with best hyperparameters"
   ]
  },
  {
   "cell_type": "code",
   "execution_count": 38,
   "id": "10dc0ec7",
   "metadata": {},
   "outputs": [
    {
     "name": "stdout",
     "output_type": "stream",
     "text": [
      "Accuracy:  0.8153846153846154\n",
      "Precision:  0.7736720554272517\n",
      "Recall:  0.907859078590786\n",
      "F1:  0.8354114713216958\n"
     ]
    }
   ],
   "source": [
    "model = Pipeline([\n",
    "        ('scale', StandardScaler()),\n",
    "        ('clf', RandomForestClassifier(criterion='entropy', max_features='auto', min_samples_split=4, n_estimators=200, random_state=seed))])\n",
    "model.fit(X_train, y_train)\n",
    "y_pred = model.predict(X_test)\n",
    "evaluate(y_test, y_pred)"
   ]
  },
  {
   "cell_type": "markdown",
   "id": "a950d4df",
   "metadata": {},
   "source": [
    "# Empath"
   ]
  },
  {
   "cell_type": "code",
   "execution_count": 15,
   "id": "027feae0",
   "metadata": {},
   "outputs": [],
   "source": [
    "X_train, y_train, X_test, y_test = prepare_data(dataset_path_train=train_mh, \\\n",
    "                                                dataset_path_test=test_mh, \\\n",
    "                                                features=basic)\n",
    "X_train = empath(X_train)\n",
    "X_test = empath(X_test)"
   ]
  },
  {
   "cell_type": "markdown",
   "id": "a459898c",
   "metadata": {},
   "source": [
    "## Features Correlation Analysis and Removal"
   ]
  },
  {
   "cell_type": "code",
   "execution_count": 16,
   "id": "c4fe7514",
   "metadata": {},
   "outputs": [],
   "source": [
    "# Determines which features to drop based on the given threshold from phik correlation matrix\n",
    "def cutoff_features(corr_matrix, threshold):\n",
    "    upper_tri = corr_matrix.abs().where(np.triu(np.ones(corr_matrix.shape), k=1).astype(np.bool_))\n",
    "    to_drop = [column for column in upper_tri.columns if any(upper_tri[column] > float(threshold))]\n",
    "    return to_drop"
   ]
  },
  {
   "cell_type": "code",
   "execution_count": 17,
   "id": "e63d88c6",
   "metadata": {},
   "outputs": [],
   "source": [
    "corrs = X_train.phik_matrix(interval_cols=X_train.columns)"
   ]
  },
  {
   "cell_type": "code",
   "execution_count": 18,
   "id": "0e60cc48",
   "metadata": {},
   "outputs": [
    {
     "data": {
      "text/plain": [
       "['health',\n",
       " 'banking',\n",
       " 'night',\n",
       " 'college',\n",
       " 'exasperation',\n",
       " 'reading',\n",
       " 'worship',\n",
       " 'eating',\n",
       " 'water',\n",
       " 'legend',\n",
       " 'neglect',\n",
       " 'swimming',\n",
       " 'love',\n",
       " 'sympathy',\n",
       " 'vehicle',\n",
       " 'disgust',\n",
       " 'sound',\n",
       " 'sailing',\n",
       " 'warmth',\n",
       " 'fun',\n",
       " 'joy',\n",
       " 'affection',\n",
       " 'lust',\n",
       " 'shame',\n",
       " 'anger',\n",
       " 'car',\n",
       " 'technology',\n",
       " 'power',\n",
       " 'white_collar_job',\n",
       " 'party',\n",
       " 'cleaning',\n",
       " 'competing',\n",
       " 'ocean',\n",
       " 'contentment',\n",
       " 'musical']"
      ]
     },
     "execution_count": 18,
     "metadata": {},
     "output_type": "execute_result"
    }
   ],
   "source": [
    "to_drop = cutoff_features(corrs, 0.85)\n",
    "X_train = X_train.drop(columns=to_drop)\n",
    "X_test = X_test.drop(columns=to_drop)\n",
    "to_drop"
   ]
  },
  {
   "cell_type": "markdown",
   "id": "e229f58c",
   "metadata": {},
   "source": [
    "## Model training and testing"
   ]
  },
  {
   "cell_type": "markdown",
   "id": "6f12118a",
   "metadata": {},
   "source": [
    "### Logistic Regression"
   ]
  },
  {
   "cell_type": "markdown",
   "id": "ac9ab26d",
   "metadata": {},
   "source": [
    "#### Grid search"
   ]
  },
  {
   "cell_type": "code",
   "execution_count": 19,
   "id": "d26e5fce",
   "metadata": {},
   "outputs": [
    {
     "data": {
      "text/plain": [
       "{'clf__C': 0.1, 'clf__penalty': 'l2', 'clf__solver': 'liblinear'}"
      ]
     },
     "execution_count": 19,
     "metadata": {},
     "output_type": "execute_result"
    }
   ],
   "source": [
    "warnings.filterwarnings('ignore')\n",
    "hp = {\n",
    "        'clf__solver': ['liblinear', 'newton-cg', 'lbfgs'],\n",
    "        'clf__penalty': ['l2', 'elasticnet'],\n",
    "        'clf__C': [0.1, 1, 10],\n",
    "}\n",
    "\n",
    "pipe = Pipeline([\n",
    "        ('scale', StandardScaler()),\n",
    "        ('clf', LogisticRegression(max_iter=1000000, random_state=seed))])\n",
    "\n",
    "gs_model = GridSearchCV(pipe, hp, n_jobs=-1, scoring='f1')\n",
    "gs_model.fit(X_train, y_train)\n",
    "gs_model.best_params_"
   ]
  },
  {
   "cell_type": "markdown",
   "id": "9e374a4a",
   "metadata": {},
   "source": [
    "#### Testing model with best hyperparameters"
   ]
  },
  {
   "cell_type": "code",
   "execution_count": 20,
   "id": "7e9be2ce",
   "metadata": {},
   "outputs": [
    {
     "name": "stdout",
     "output_type": "stream",
     "text": [
      "Accuracy:  0.8237762237762237\n",
      "Precision:  0.7845433255269321\n",
      "Recall:  0.907859078590786\n",
      "F1:  0.841708542713568\n"
     ]
    }
   ],
   "source": [
    "model = Pipeline([\n",
    "        ('scale', StandardScaler()),\n",
    "        ('clf', LogisticRegression(max_iter=1000000, C=0.1, penalty='l2', solver='liblinear', random_state=seed))])\n",
    "model.fit(X_train, y_train)\n",
    "y_pred = model.predict(X_test)\n",
    "evaluate(y_test, y_pred)"
   ]
  },
  {
   "cell_type": "code",
   "execution_count": 21,
   "id": "0c659713",
   "metadata": {
    "scrolled": true
   },
   "outputs": [
    {
     "name": "stdout",
     "output_type": "stream",
     "text": [
      "                       coefficient\n",
      "roberta_prediction        2.203177\n",
      "domestic_work             0.211607\n",
      "science                   0.198373\n",
      "tourism                  -0.195794\n",
      "rage                     -0.172874\n",
      "prison                   -0.168178\n",
      "journalism               -0.165871\n",
      "economics                 0.159455\n",
      "childish                 -0.156369\n",
      "kill                      0.144137\n",
      "order                     0.141765\n",
      "irritability              0.140860\n",
      "dance                     0.132753\n",
      "payment                  -0.131911\n",
      "heroic                   -0.130906\n",
      "politeness               -0.127632\n",
      "computer                 -0.127195\n",
      "negative_emotion          0.126188\n",
      "listen                   -0.125875\n",
      "liquid                    0.123557\n",
      "nervousness               0.117320\n",
      "beauty                   -0.116664\n",
      "family                   -0.116646\n",
      "disappointment            0.115853\n",
      "writing                   0.114255\n",
      "toy                       0.113201\n",
      "smell                    -0.112839\n",
      "home                     -0.111656\n",
      "tool                     -0.108147\n",
      "business                  0.105839\n",
      "restaurant               -0.104675\n",
      "weapon                    0.104221\n",
      "school                   -0.102388\n",
      "violence                  0.102104\n",
      "real_estate              -0.099003\n",
      "play                     -0.098241\n",
      "anticipation              0.097993\n",
      "ship                     -0.097364\n",
      "sadness                   0.096170\n",
      "confusion                 0.093325\n",
      "cheerfulness              0.093255\n",
      "leisure                   0.091906\n",
      "messaging                -0.089916\n",
      "crime                     0.089745\n",
      "achievement               0.085940\n",
      "swearing_terms            0.085580\n",
      "beach                    -0.084889\n",
      "envy                      0.082687\n",
      "hiking                    0.082614\n",
      "blue_collar_job          -0.081491\n",
      "internet                 -0.080996\n",
      "fabric                    0.080402\n",
      "art                      -0.079064\n",
      "fear                      0.077491\n",
      "surprise                  0.074843\n",
      "alcohol                  -0.073594\n",
      "animal                    0.073173\n",
      "strength                 -0.071334\n",
      "stealing                 -0.071156\n",
      "healing                  -0.070154\n",
      "clothing                 -0.068795\n",
      "shape_and_size           -0.067181\n",
      "meeting                  -0.065657\n",
      "medical_emergency         0.065032\n",
      "giving                    0.064857\n",
      "body                      0.062878\n",
      "phone                     0.061968\n",
      "pain                      0.061277\n",
      "sleep                    -0.059749\n",
      "military                 -0.059702\n",
      "weakness                  0.059028\n",
      "torment                   0.058896\n",
      "hearing                   0.058343\n",
      "shopping                 -0.056445\n",
      "weather                  -0.056362\n",
      "air_travel                0.056165\n",
      "youth                     0.056118\n",
      "war                      -0.056098\n",
      "speaking                 -0.056008\n",
      "vacation                  0.055196\n",
      "valuable                 -0.054260\n",
      "rural                     0.053678\n",
      "urban                    -0.050729\n",
      "divine                    0.050630\n",
      "dominant_heirarchical    -0.049459\n",
      "furniture                 0.048782\n",
      "sports                    0.048632\n",
      "hygiene                   0.047013\n",
      "injury                   -0.046914\n",
      "farming                  -0.046066\n",
      "hate                      0.044992\n",
      "movement                  0.044208\n",
      "work                      0.043914\n",
      "ugliness                  0.043014\n",
      "trust                    -0.042954\n",
      "breaking                 -0.042777\n",
      "monster                  -0.042486\n",
      "aggression               -0.042476\n",
      "friends                   0.041599\n",
      "masculine                -0.040185\n",
      "death                    -0.040137\n",
      "positive_emotion         -0.039897\n",
      "terrorism                 0.039748\n",
      "occupation               -0.039362\n",
      "ridicule                 -0.039343\n",
      "timidity                 -0.037812\n",
      "fire                     -0.037243\n",
      "children                 -0.035681\n",
      "royalty                   0.032330\n",
      "anonymity                -0.031447\n",
      "optimism                 -0.030941\n",
      "pride                     0.029527\n",
      "magic                    -0.028905\n",
      "government                0.028896\n",
      "cooking                   0.028705\n",
      "medieval                  0.028067\n",
      "morning                   0.024422\n",
      "noise                     0.024283\n",
      "wealthy                   0.023387\n",
      "gain                     -0.023351\n",
      "emotional                -0.022569\n",
      "fashion                  -0.021936\n",
      "driving                   0.021917\n",
      "superhero                 0.021109\n",
      "celebration               0.020848\n",
      "leader                    0.019626\n",
      "social_media              0.019220\n",
      "politics                  0.018843\n",
      "philosophy               -0.018276\n",
      "traveling                -0.018045\n",
      "feminine                  0.017630\n",
      "money                     0.017585\n",
      "independence             -0.017480\n",
      "horror                    0.017236\n",
      "attractive               -0.016765\n",
      "music                    -0.016367\n",
      "exotic                    0.015623\n",
      "office                    0.014915\n",
      "dispute                  -0.013351\n",
      "religion                  0.012825\n",
      "communication             0.012249\n",
      "cold                     -0.011000\n",
      "dominant_personality      0.010208\n",
      "help                     -0.010159\n",
      "negotiate                 0.009746\n",
      "suffering                 0.009166\n",
      "pet                       0.009093\n",
      "wedding                   0.008737\n",
      "ancient                   0.006401\n",
      "deception                -0.005835\n",
      "appearance                0.004413\n",
      "poor                      0.003552\n",
      "hipster                   0.003369\n",
      "programming               0.003254\n",
      "sexual                    0.003024\n",
      "exercise                 -0.002758\n",
      "law                       0.002732\n",
      "plant                     0.002722\n",
      "zest                      0.001361\n",
      "fight                    -0.000932\n"
     ]
    }
   ],
   "source": [
    "cdf = pd.DataFrame(model.get_params()['clf'].coef_.transpose(), X_train.columns, columns=['coefficient'])\n",
    "print(cdf.sort_values(by='coefficient',  key=abs, ascending=False).to_string())"
   ]
  },
  {
   "cell_type": "markdown",
   "id": "41a5e413",
   "metadata": {},
   "source": [
    "### Support Vector Machine"
   ]
  },
  {
   "cell_type": "markdown",
   "id": "fd51b65c",
   "metadata": {},
   "source": [
    "#### Grid search"
   ]
  },
  {
   "cell_type": "code",
   "execution_count": 22,
   "id": "61ff13ae",
   "metadata": {},
   "outputs": [
    {
     "data": {
      "text/plain": [
       "{'clf__C': 0.01, 'clf__gamma': 1000, 'clf__kernel': 'linear'}"
      ]
     },
     "execution_count": 22,
     "metadata": {},
     "output_type": "execute_result"
    }
   ],
   "source": [
    "hp = {\n",
    "        'clf__kernel': ['linear'],\n",
    "        'clf__gamma': [1000, 100, 10, 1, 0.1, 0.01],\n",
    "        'clf__C': [0.01, 0.1, 1, 10],\n",
    "}\n",
    "\n",
    "pipe = Pipeline([\n",
    "        ('scale', StandardScaler()),\n",
    "        ('clf', SVC(random_state=seed))])\n",
    "\n",
    "gs_model = GridSearchCV(pipe, hp, n_jobs=-1, scoring='f1')\n",
    "gs_model.fit(X_train, y_train)\n",
    "gs_model.best_params_"
   ]
  },
  {
   "cell_type": "markdown",
   "id": "817c9e78",
   "metadata": {},
   "source": [
    "#### Testing model with best hyperparameters"
   ]
  },
  {
   "cell_type": "code",
   "execution_count": 23,
   "id": "43343f86",
   "metadata": {},
   "outputs": [
    {
     "name": "stdout",
     "output_type": "stream",
     "text": [
      "Accuracy:  0.8181818181818182\n",
      "Precision:  0.7709750566893424\n",
      "Recall:  0.9214092140921409\n",
      "F1:  0.8395061728395061\n"
     ]
    }
   ],
   "source": [
    "model = Pipeline([\n",
    "        ('scale', StandardScaler()),\n",
    "        ('clf', SVC(C=0.01, gamma=1000, kernel='linear', random_state=seed))])\n",
    "model.fit(X_train, y_train)\n",
    "y_pred = model.predict(X_test)\n",
    "evaluate(y_test, y_pred)"
   ]
  },
  {
   "cell_type": "markdown",
   "id": "4c8ade53",
   "metadata": {},
   "source": [
    "### Random Forest Classifier"
   ]
  },
  {
   "cell_type": "markdown",
   "id": "5c67aa6f",
   "metadata": {},
   "source": [
    "#### Grid search"
   ]
  },
  {
   "cell_type": "code",
   "execution_count": 24,
   "id": "6a115b1c",
   "metadata": {},
   "outputs": [
    {
     "name": "stdout",
     "output_type": "stream",
     "text": [
      "Fitting 5 folds for each of 24 candidates, totalling 120 fits\n"
     ]
    },
    {
     "data": {
      "text/plain": [
       "{'clf__criterion': 'entropy',\n",
       " 'clf__max_features': 'auto',\n",
       " 'clf__min_samples_split': 2,\n",
       " 'clf__n_estimators': 200}"
      ]
     },
     "execution_count": 24,
     "metadata": {},
     "output_type": "execute_result"
    }
   ],
   "source": [
    "hp = {\n",
    "        'clf__n_estimators': [50, 200],\n",
    "        'clf__max_features': ['auto', 'sqrt', 'log2'],\n",
    "        'clf__criterion': ['gini', 'entropy'],\n",
    "        'clf__min_samples_split': [2, 4]\n",
    "}\n",
    "\n",
    "pipe = Pipeline([\n",
    "        ('scale', StandardScaler()),\n",
    "        ('clf',  RandomForestClassifier(random_state=seed))])\n",
    "\n",
    "gs_model = GridSearchCV(pipe, hp, n_jobs=-1, scoring='f1', verbose=4)\n",
    "gs_model.fit(X_train, y_train)\n",
    "gs_model.best_params_"
   ]
  },
  {
   "cell_type": "markdown",
   "id": "2a373f0c",
   "metadata": {},
   "source": [
    "#### Testing model with best hyperparameters"
   ]
  },
  {
   "cell_type": "code",
   "execution_count": 25,
   "id": "fb791c2a",
   "metadata": {},
   "outputs": [
    {
     "name": "stdout",
     "output_type": "stream",
     "text": [
      "Accuracy:  0.8153846153846154\n",
      "Precision:  0.7724137931034483\n",
      "Recall:  0.9105691056910569\n",
      "F1:  0.835820895522388\n"
     ]
    }
   ],
   "source": [
    "model = Pipeline([\n",
    "        ('scale', StandardScaler()),\n",
    "        ('clf', RandomForestClassifier(criterion='entropy', max_features='sqrt', min_samples_split=2, n_estimators=200, random_state=seed))])\n",
    "model.fit(X_train, y_train)\n",
    "y_pred = model.predict(X_test)\n",
    "evaluate(y_test, y_pred)"
   ]
  },
  {
   "cell_type": "markdown",
   "id": "597f1b27",
   "metadata": {},
   "source": [
    "### Comparison with Knežević et al."
   ]
  },
  {
   "cell_type": "code",
   "execution_count": 26,
   "id": "0bb1ad1c",
   "metadata": {},
   "outputs": [],
   "source": [
    "X_train_l, y_train, X_test_l, y_test = prepare_data(dataset_path_train=train_base, \\\n",
    "                                                dataset_path_test=test_base, \\\n",
    "                                                features=lexic)"
   ]
  },
  {
   "cell_type": "code",
   "execution_count": 27,
   "id": "6890522e",
   "metadata": {},
   "outputs": [
    {
     "name": "stdout",
     "output_type": "stream",
     "text": [
      "Accuracy:  0.8125874125874126\n",
      "Precision:  0.7804295942720764\n",
      "Recall:  0.8861788617886179\n",
      "F1:  0.8299492385786803\n"
     ]
    }
   ],
   "source": [
    "knez_model = LogisticRegression(max_iter=1000000)\n",
    "knez_model.fit(X_train_l, y_train)\n",
    "y_pred_l = knez_model.predict(X_test_l)\n",
    "evaluate(y_test, y_pred_l)"
   ]
  },
  {
   "cell_type": "code",
   "execution_count": 28,
   "id": "5ba284e8",
   "metadata": {},
   "outputs": [
    {
     "name": "stdout",
     "output_type": "stream",
     "text": [
      "Accuracy:  0.8237762237762237\n",
      "Precision:  0.7845433255269321\n",
      "Recall:  0.907859078590786\n",
      "F1:  0.841708542713568\n"
     ]
    }
   ],
   "source": [
    "our_model = Pipeline([\n",
    "        ('scale', StandardScaler()),\n",
    "        ('clf', LogisticRegression(max_iter=1000000, C=0.1, penalty='l2', solver='liblinear', random_state=seed))])\n",
    "our_model.fit(X_train, y_train)\n",
    "y_pred = our_model.predict(X_test)\n",
    "evaluate(y_test, y_pred)"
   ]
  },
  {
   "cell_type": "code",
   "execution_count": 29,
   "id": "7d750181",
   "metadata": {},
   "outputs": [],
   "source": [
    "from statsmodels.stats.contingency_tables import mcnemar\n",
    "from mlxtend.evaluate import mcnemar_table\n",
    "from mlxtend.plotting import checkerboard_plot\n",
    "\n",
    "def testsig(y_test, y_model1, y_model2, alpha=0.05):\n",
    "    tb = mcnemar_table(y_target=y_test, \n",
    "                   y_model1=y_model1, \n",
    "                   y_model2=y_model2)\n",
    "    brd = checkerboard_plot(tb,\n",
    "                        figsize=(4, 4),\n",
    "                        fmt='%d',\n",
    "                        col_labels=['model 2 correct', 'model 2 incorrect'],\n",
    "                        row_labels=['model 1 correct', 'model 1 incorrect'])\n",
    "    \n",
    "    result = mcnemar(tb, exact=False)\n",
    "    print('statistic=%.3f, p-value=%.4f' % (result.statistic, result.pvalue))\n",
    "    if result.pvalue > alpha:\n",
    "        print('Same proportions of errors (fail to reject H0)')\n",
    "    else:\n",
    "        print('Different proportions of errors (reject H0)')"
   ]
  },
  {
   "cell_type": "code",
   "execution_count": 30,
   "id": "3503bf8b",
   "metadata": {},
   "outputs": [
    {
     "name": "stdout",
     "output_type": "stream",
     "text": [
      "statistic=0.907, p-value=0.3408\n",
      "Same proportions of errors (fail to reject H0)\n"
     ]
    },
    {
     "data": {
      "image/png": "[encoded data removed]",
      "text/plain": [
       "<Figure size 288x288 with 1 Axes>"
      ]
     },
     "metadata": {
      "needs_background": "light"
     },
     "output_type": "display_data"
    }
   ],
   "source": [
    "testsig(y_test, y_pred_l, y_pred, alpha=0.05)"
   ]
  },
  {
   "cell_type": "markdown",
   "id": "ee949121",
   "metadata": {},
   "source": [
    "Empath features can replace LIWC features."
   ]
  },
  {
   "cell_type": "markdown",
   "id": "cb5d0b13",
   "metadata": {},
   "source": [
    "### Error analysis"
   ]
  },
  {
   "cell_type": "code",
   "execution_count": 31,
   "id": "d35c3163",
   "metadata": {},
   "outputs": [],
   "source": [
    "indexes = []\n",
    "predictions = []\n",
    "for index, (first, second) in enumerate(zip(y_test, y_pred)):\n",
    "    if first != second:\n",
    "        indexes.append(index)\n",
    "        predictions.append(second)\n",
    "        \n",
    "indexes2 = []\n",
    "predictions2 = []\n",
    "for index, (first, second) in enumerate(zip(y_test, y_pred_l)):\n",
    "    if first != second:\n",
    "        indexes2.append(index)\n",
    "        predictions2.append(second)"
   ]
  },
  {
   "cell_type": "code",
   "execution_count": 32,
   "id": "9437033b",
   "metadata": {},
   "outputs": [
    {
     "data": {
      "text/plain": [
       "0.7301587301587301"
      ]
     },
     "execution_count": 32,
     "metadata": {},
     "output_type": "execute_result"
    }
   ],
   "source": [
    "sum(predictions)/len(predictions)"
   ]
  },
  {
   "cell_type": "code",
   "execution_count": 33,
   "id": "007ef837",
   "metadata": {},
   "outputs": [
    {
     "data": {
      "text/plain": [
       "0.6865671641791045"
      ]
     },
     "execution_count": 33,
     "metadata": {},
     "output_type": "execute_result"
    }
   ],
   "source": [
    "sum(predictions2)/len(predictions2)"
   ]
  },
  {
   "cell_type": "code",
   "execution_count": 34,
   "id": "169dd2f2",
   "metadata": {
    "scrolled": true
   },
   "outputs": [
    {
     "name": "stdout",
     "output_type": "stream",
     "text": [
      "                                                                                                                                text  label\n",
      "72  I don’t know. Was this okay? Should I hate him? Or was it just something new? I really don’t know what to make of the situation.      1\n",
      "                                                                                                                                                                                                                                                                                                                         text  label\n",
      "89  We are 100% no contact, and have decided we won't talk to each other for at least a few months, or until we're ready to talk and maybe try to be friends. He says he still cares deeply for me and loves me, but this is for the best. I wish it was easier to get over, but it isn't. What advice do y'all have? Thanks!      0\n",
      "                                                                                                                                                                                                                                                                                                                                                                                                                                                text  label\n",
      "129  I am so confused! Why is he playing these games? I have made it clear I want him back and to me it’s like he has feelings but is unwilling to say anything? TL;DR I’ve been dating a guy for a few months, we split up over a silly petty argument, since we’ve split up he’s been maintaining that he wanted us to break up but he’s checking in on me and asking what I’m doing. Is he just being controlling or does he have feelings still?      1\n",
      "                                                                                                                                                                                                                                                                                                                             text  label\n",
      "194  Things were so good again. Just like the beginning. Then the yelling comes back. I got really sick and had to go to the hospital and he refused to come and visit me when I was home. He told me I was dense for expecting him to come hang out with me when I have such a deadly disease (it was MRSA and not that deadly).      0\n",
      "                                                                                                               text  label\n",
      "212  I dial. 000. I have never used that number before. How does this wor…. “Emergency: Police, Fire or Ambulance?”      0\n",
      "                                                                                                                                                                                                                                                                                                                                                                                                                                 text  label\n",
      "250  Bottom line is this is the first situation in a long while causing me to really get anxious. I'm thinking about it most of the time and waffling about it. And today I got the invitation and started looking into flights and transport and I'm overwhelmed. I'm at an age where traveling alone shouldn't be a big deal, but it is, I never have traveled alone aside from a handful of 2 hr bus trips in 2007ish. Any advice?      1\n",
      "                                                                                                                                                                                                                                                                                                                                                                                               text  label\n",
      "255  Are there any recommendations I should bring up with my doctor? I know going to reddit for medication advice is generally not a good idea, however the psychiatrists and other doctor's I've seen do not seem to have much greater advice. Weight gain is a primary concern as I have a heart condition where weight cannot be increased. Citalopram (Celexa) Escitalopram (Lexapro, Cipralex)      0\n",
      "                                                                                                                                                                                                                                                                                                                                                                                                                                                                                                             text  label\n",
      "285  We ate and he was monitoring my data use because I sent some photos to our friend of her baby shower. And he said he \"hates having to watch over me like a father and he wishes I was more responsible\" but said that he \"accepts that this is the way I am\" I said nothing in response to this and just ate my food and let it slide, smiled at him and small talked. We got back to the park and they had put out a new sign saying they were closed for the rest of the day. This made him even more mad.      1\n",
      "                                                                                                                                                                                                                                                                                                                                                                                                                                                                                                                                                                                                                                                                                                         text  label\n",
      "293  I'm sure as other survivors many of you are overcoming some of the same problems as well, and may have already had some of these realizations (of what makes you YOU) or are in search of them on your journey to becoming whole. It is crazy how DEEP these emotional scars and wounds are, that I literally cried way harder in this session, than in even processing waking up in a hospital bald! In this memory, I had post-partum depression right after my son was born and was living with Nmom and my Edad when they were still married 8 years ago. (I'm so grateful that they are no longer married. He is such an excellent parent/person NOW that he doesn't care about \"undermining her\".)      0\n",
      "                                                                                                                                                                                                                                                                                                                                                                                                                                                                                                                                                                                     text  label\n",
      "369  Edit: She has seen a therapist that diagnosed her with PTSD based on a fear of tornadoes (that she has never been directly affected by other than her parent, father, having them go into a basement as one was nearby). I believe this to be a slight misdiagnosis and the focus of the treatment to be incorrect. I'm looking for support from others that have had similar experiences and perhaps know a bit more about the differences between PD, PTSD, and CPTSD. Going to attempt to summarize the background info with bullet points. -Together for 5 years, married for 1.      0\n",
      "                                                                                                                                                                                                                                                                                                                                                                                                                                                                                                                                                      text  label\n",
      "373  Anytime I have a scheduled transaction towards my checking account, my wages are immediately garnished. However, last night was the real wake up call. After work, I came home drunk and let my stress get the best of me. I ended up getting in a fight with my gf about money, finances and utilities. Not wanting to face the pathetic reality that I have \"sugar momma\" for a girlfriend, I packed everything I own in my vehicle, parked it less than a mile away (incase I may have forgotten anything) and slept in it until the battery died.      1\n",
      "                                                                                                                                                                                                                                                                                                                                                                                                                                                                                                                                                                                                                                                                                                                                                                                                                                                                                                                                                                                                                                                                                                                                                                                                                                                                                                                                                                                                                                                                                                                                                                                                                                                                                                        text  label\n",
      "438  I have a very hard time with trying to find a job, from most places I don't get any feedbacks, but get immediate rejection when I try to apply to other open positions at the same company. Interestingly there's a lot of propaganda around how there's a shortage on manpower, while at the same time people having difficulty finding jobs. There are notable instances of similar experiences, political opponents' family members getting fired for no reason, etc. My father did a big disservice to the local Fidesz by being a key figure against the prison project (which was going to be built by a company very well known for overpriced projects), my grandfather is a well known tankie (who's so racist he's often accidentally agrees with both Fidesz and Jobbik), not to mention I had a lot of bullies in secondary school who thought I was severely mentally disabled (long story short: I had some speech issues I've since overcome for the most part, but thanks to the Hungarian R-word I got some serious shit, such as being accused with my mother taking up huge benefit money which she spends on shoes and jewelry, which leads them having to pay a lot of taxes on their motorcycles, game consoles, phones, etc) and probably wanted to take their revenge this way (which is ironic, because the hard time I had financially radicalized me from an actual centrist to a radical leftist). My father is seriously thinking on kicking me out to the streets if I won't pay, which makes me to go back to my mother, and my abusive stepfather who cannot accept my autistic quirks, implying if I can go back to them and my stepfather will let it all go through.      1\n",
      "                                                                                                                                                                                                                                                                                                                                                                                                                                                                                                                                                                                                                                                                                                                                      text  label\n",
      "470  So I have ptsd from an abusive relationship I ended about 3 years ago. When I felt healthy enough I went to therapy and did emdr and it helped and I thought i was doing well. I even moved to a different state so I could quit triggering my flashbacks a year and a half ago and haven't had a single flashback until last night. I have started dating a guy I'm pretty smitten about and last night we went out with friends and had a really good time but we also had been drinking. Something triggered me and i had a flashback and was not able to control my emotions because I had been drinking it was like I went from laughing having a good time to having a panic attack and asked him if we could leave and we did.      1\n",
      "                                                                                                                                                                                                                                                                                                                                                                                                                                                                                               text  label\n",
      "493  Especially the power of healing brought upon by service animals. I too, have a service dog named Luna. This wonderful man was nice enough to bring the book back in while I was off yesterday with a note with his name and number telling me to call him when I finish the book. This just made my day, it really did. There’s so much negativity in the world today and it seems not many people will stop to do something nice for someone, or help them by doing a random act of kindness.      0\n",
      "                                                                                                                                                                                                                                                                                                                                                                                                                                          text  label\n",
      "528  And everyone was passive aggressive. The manager tried to peg down my salary multiple times like a fucking haggler at a market. Anyway, I decided to go get some antidepressants and the bottle fell out of my pocket, a coworker noticed and reported it to my boss. Who smiled and asked if there was anything I'd like to tell her. The passive aggressive shit really got to me, and then I realized that I was being illegally paid.      0\n",
      "                                                                                                                                                                                                                                                                                                                                                                                                                                                                                                     text  label\n",
      "574  I was in a relationship, so I didn't really let it go anywhere, but hell, it was a new experience for me, and I liked being liked. Fast forward half a year to my breakup. She had moved to a different job, but we bumped into each other in Wal-Mart, if all places. We hit it off, and it wasn't long before a date turned into two, then more. I moved in with her, but maintained a separate apartment for a few months at her request (her family was very judgemental about 'living in sin').      0\n",
      "                                                                                                                                                                                                                                                                                                                                                                                                                                                       text  label\n",
      "616  If you are triggered stop reading but the word is schizophrenia. Just thinking about it freaks me out atm. I keep thinking I will go crazy.... I imagine myself in a mental hospital having panic attacks 24/7 a hellish torture... oh god.... This is because I've always has extreme fear of afterlife and existence, its just so bizarre I've explored every single freaking theory/religion/whatever thats how much I was obsessed with it before.      1\n",
      "                                                                                                                                                                                                                                                                                                                                                                                                                                                                                                                                                                                                                                                 text  label\n",
      "626  how is it possible that he can drive and use his fist to punch you? did you do something wrong?\". The only thing I got from the police was a worn out looking card to the social work department (and by the way they offer counselling - nothing else). To this day, they have not arrested him because apparently the attack occurred in the middle of two districts (apparently it's really hard to determine which district is responsible) and because of bureaucratic issues, the man has not been taken to questioning. My mother helped me tremendously by arranging the divorce for me, and in the divorce, we did not put any alimony.      1\n",
      "                                                                                                                                                                                                                                                                                                                                                                                                                                                                      text  label\n",
      "637  My family thought it was a home invasion so the retrieved their guns and prepair to defend them selves. After the authorities knocked the door down they then announced them selves and threatened to kill everyone inside. My family dropped their guns and surrender peacefully. After several hours of ransacking our house the Feds arrested my little brother on charges that are of the upmost serious kind. He was not allowed to speak or talk to my parents.      0\n",
      "                                                                                                                                                                                                                                                                                                                                                text  label\n",
      "644  Every minor detail feels just so overwhelming that I feel suffocated and panicky all the time. I imagine others here have gone through something similar, so I wanted to ask about your experience with grad school applications. How did you survive? How did you preserve your mental health, and do the best that you could? Thanks so much.      1\n",
      "                                                                                                                                                                                                                                                                                                                                                                                                                                                                                                                                                                           text  label\n",
      "649  While my friends and myself included, have high hopes that this will work out, I’m petrified because I am putting my feelings on the table. I’m going to be so damn vulnerable. While he’s expressed and shown signs that he’s just as into this as I am, if not more so, I’ve also never done this before. I’ve only been in 1 (college) relationship before this, followed by 3 years of singleness and ultimate casual fuckery. I know my feelings for him are real and I owe it to myself to fight for a chance of a relationship with someone I feel so strongly for.      1\n",
      "                                                                                                                                                                                                                                                                                                                                                                                                                                                                                                       text  label\n",
      "699  I just got a new job and I won't get paid until the 18th. I've only been unemployed for a week now, the company I worked for closed and after bills I have no money. I was already trying to get on my feet from being let go from my long-term job in October. If you could help me I will contribute to this sub when I can, pay you back, reciprocate in any way that I can. I don't have family that I can ask for help (both parents are deceased, no siblings, not close with Aunts and Uncles).      1\n",
      "                                                                                                                                                                                                                                                                                                                                                                                                                                                                                                                            text  label\n",
      "708  I take solo back packing trips and my friends really see me as someone fearless and free-spirited. It makes opening up about my mental health issues kinda difficult because they can't \"see\" me acting this way. I have a lot of anxiety and depression issues around my romantic relationships. I also have depersonalization issues, and want to be alone more often then not. I think the fact that I can be so outgoing and positive most of the time, my friends don't realize that I struggle quite a bit some days.      1\n"
     ]
    }
   ],
   "source": [
    "test_ex = pd.read_csv(train_base)[['text', 'label']]\n",
    "for i in indexes:\n",
    "    if i not in indexes2:\n",
    "        print(test_ex.loc[[i]].to_string())"
   ]
  },
  {
   "cell_type": "code",
   "execution_count": 35,
   "id": "799ba094",
   "metadata": {},
   "outputs": [
    {
     "name": "stdout",
     "output_type": "stream",
     "text": [
      "                                                                                                                                                                                                                                                                                                                                                                                                                                                                                                                                                                                                                                 text  label\n",
      "18  If I go to an interview for example, I'll know that I'm a good candidate, I'll know that if I don't get it there will always be other opportunities and it's no big deal. Yet I still get nervous because it's something that I want, I want that employer to like me. If I go to an interview with no expectations at all, not even wanting the job (I've done this a few times for practice interviewing), it'll turn out great. What are your thoughts on this? Edit: FYI I'm talking mostly about social anxiety, though it has happened that I get anxiety in the most random places like just going upstairs in a building.      0\n",
      "                                                                                                                                                                                                                                                                                                                                                                                                                                                                                                                                                                                                                                                                                                                                                                           text  label\n",
      "45  Regarding my abuser, I still feel my heart ache with compassion, and the understanding that no human being is born a monster; it is an environment poisoned with violence they grew up in that guides them into life as an abuser. I have prayed every single day for John Doe and his foster family, in the hopes that he can overcome his inner demons and lead a life of peace. But if and when he finds a new woman to victimize and rob her of dignity, worth, and benevolence, I feel proud that I have taken steps to ensure that even if she is too afraid to step forward, I have taken that first step in her honor. I feel proud to have set the precedent to lead him on a path for growth and healing if he chooses. I feel proud to have broken that silence.      0\n",
      "                                                                                                                                                                                                                                                                                                     text  label\n",
      "53  Hello all, for the next two years I’ll probably be living in my truck. I am going to college for free (thanks AmeriCorps) but I can’t afford to live in a real home. So I live in my truck. Any tips for keeping it clean and keeping things orderly? It’s so much harder than I thought it would be.      1\n",
      "                                                                                                                                                                         text  label\n",
      "62  &#x200B; I'm sorry if this isn't appropriate for the thread. I don't really know if it's appropriate anywhere. I guess that's the point? \"Am I normal or am I fucked up?\"      1\n",
      "                                                                                                                                                                                                                                                                                                                                                                            text  label\n",
      "90  I asked the other day if they've set a date. He laughed in my face and said 'no' as if it were the most ridiculous thing he's ever heard. He comes home late, and showers immediately. Then, he showers every morning before he leaves. He doesn't talk to my mum and I, at all, and he's cagey and secretive about everything, to the point of hostility towards my sister.      1\n",
      "                                                                                                                                                                                                                                                                                                                                                                                                                                                                                                                                                                                    text  label\n",
      "96  My sister is an alcoholic, which is something that seems to run in the family. Everytime my mother invites her over to spend the night, she has to hide all her beer and wine in a futile attempt to keep my sister from drinking it all. However, my sister always sneaks alcohol into the house anyway, and is drunk by nightfall. Then the arguments start. Usually they start over something like dinner not being done soon enough, or because my mother found the boxed wine my sister smuggled in, or because my mother simply said something that stuck in my sister's craw.      0\n",
      "                                                                                                                                                                                                                                           text  label\n",
      "99  Hi everyone. For a few months now I haven't been able to get this off my mind. My abuser was my cousin who is 5-7 years older than me(24F). He is very close to my brother and father. His dad is a wonderful person and my favorite uncle.      0\n",
      "                                                                                                                                                                                                                                                                                                                                                                                                   text  label\n",
      "152  I’m starting to eat far less and constantly poke at my fat, starve, compare myself to other girls and today, I’ve given into regurgitating and that has made me almost lose it. I did mention in a previous post that I have a huge phobia of vomiting, and I see that it’s combatting my body dysmorphia now. I’m at my nerves end. I do have times where I’m calm and collected. Reading a book.      1\n",
      "                                                                                                                                                                                                                                                                                                                                                                                     text  label\n",
      "159  Yeah, not so much. I had a minor surgery on my neck today that just used local anesthetic, so I was fully conscious for it. Everything was fine since I'm not squeamish - until I realized they needed to strap me down to make sure I didn't move. It's a delicate procedure; I understood. But I hadn't been in restraints since the medical trauma, and I completely dissociated.      1\n",
      "                                                                                                                                                                                                                                                                                                                                                                                                                                                                                                                                                                                                                                                                                                   text  label\n",
      "172  This question is not meant to be disrespectful in any way, shape, or form to people who 1) are actually diagnosed autistic, or 2) are in no way autistic, but just suffer from severe social anxieties. This is just about my experience and people who may relate. So, throughout my life, I sometimes struggled with the feeling that there is something \"different\" about myself. A lot of the time I've convinced myself it was just because of low self-esteem, paranoia, or a desire to have some type of diagnosis that would help \"solve\" or explain my awkwardness or social issues. People warn me not to jump to conclusions and it's easy to self-diagnose online in this day and age.      0\n",
      "                                                                                                                                                                                                                                                                                                                                                                    text  label\n",
      "189  Hi all. I recently moved to another country and it pretty much cost everything to get set up here. My roommate just moved out to start a new chapter with their significant other, taking pretty much all the furniture with them and naturally, rent has gone up. I'm wiped out until the 17th. I, my wife and daughter would appreciate any help to tide us over.      0\n",
      "                                                                                                                                                                                                                                                                                                                                                                                                                                              text  label\n",
      "195  We've funnelled about 4k into saving our dog's life. As you can see- we haven't gotten that in donations, but what we've gotten has really saved our asses. I found out my dog had a 'treatable' disease right after graduating from college. The college debt was already a burden, and after my partner got laid off- the panic set in that we would have to put my best friend down. He's too young for this, and has been too good to us.      1\n",
      "                                                                                                                                                                                                                                                                                                                                                           text  label\n",
      "216  I sent a respectful email to my primary psychiatrist explaining my thoughts on how it was inappropriate to have Paterno's picture prominently displayed. Am I fucked up in the head for thinking this wrong? In the past, I had a mild traumatic brain injury. Sometimes I over react. 24 hours post appointment, I'm still bitter about the Paterno pics.      0\n",
      "                                                                                                                                                                                                                                                                                                                   text  label\n",
      "224  But yeah, I was afraid and dumb and feeling vulnerable when I wrote it. So thanks to you guys for calming me, and sharing your own stories (really helped alot). tldr : I was sooper stoopid, but me and my dad are still cool. But thank you to everyone who calmed me down on here when I posted. It meant alot.      0\n",
      "                                                                                                                                                                                                                                                                                                                                     text  label\n",
      "236  New to this sub. Here is some background information about myself. ------------------------- I developed anxiety in my freshman year or high school. The traumatizing event happened when I was young, but an event when I was older triggered memories and sensations, and from then on I have dealt with axiety and panic attacks.      1\n",
      "                                                                                                                                                                                                                                                                                                                                 text  label\n",
      "249  He got off of me, and went into the other room. I laid on his couch trying to breathe while crying. Eventually I got up and started heading towards the door. T started putting his shoes on and said why don’t we go for a little walk. I told him to stay the fuck away from me and I ran out of his door and down the street.      1\n",
      "                                                                                                                                                                                                                                                                                                                                                                                                                                                                                                                                                                                                                                                                                                                                                                                                                                   text  label\n",
      "291  Almost too well. She extends our date twice, buys us a drink each, starts a make out session which lasts for 2 hours, calls me hot, and although neither of us had a house free she gave me oral too. Although she said she had a great time - which I replied to - I then waited to respond to her next message, and I don't know if that killed any momentum because I was already very delayed when we first got talking of course. Anyway, despite our great date and a second one lined up when I asked her out a day later, she ended up cancelling on me, and then told me a week later that she got more serious with another guy - which to me only translated as him being hot and me being ugly. They broke things off a week later, and she did ask me out again, but at one stage I annoyed her with a jokey message.      1\n",
      "                                                                                                                                                                                                                                                                                                                                                                                                                                                                                                                                                                                                                           text  label\n",
      "320  However, his fits of anger kept going at the smallest things such as eating the rest of the corn chips or even mentioning politics that he doesn't agree with. This went on at the same rate of once a month or so until I turned 16, which is when I noticed that it probably wasn't normal. One occurrence of this was when I was trying to buy a pair of sunglasses, but needed to use his paypal as where I'm from you need to be over 18. This for whatever reason ended in him exploding in rage again, because he couldn't remember his password. He left the room, and grabbed me by the throat when he came back.      1\n",
      "                                                                                                                                                                                                                                                                                                                                                                                                                                                                                                                                                                                      text  label\n",
      "330  Hey everyone. Been subbed for a long time and a lot of you guys helped me realize a few things so I thought I can try to help back. I’ve been dealing with anxiety/depression for a long time and never really done anything to deal with it. (Family didn’t really believe in that kind of stuff back in the day) I always believed that I had a passion for extreme sports like skydiving, water rafting etc etc. which is one of the reasons I believe I have anxiety maybe (adrenal produces slightly more adrenaline causing my body to be in a constant flight or fight state).      0\n",
      "                                                                                                                                                                                                                                                                                                                                                                                                                                                                     text  label\n",
      "451  She also wasn’t wearing her ring. She was also extremely upset when I grabbed her phone, which is locked with a password I don’t know, to hand it to her. Well on Monday we barely spoke during the day, and she was very quiet at dinner. Dreading what might come but knowing I had to ask I asked her if everything was ok. She said no, that she couldn’t marry me, couldn’t have kids as she would be a bad mother, and couldn’t see us being together anymore.      1\n",
      "                                                                                                                                                                                                                                                                                                                                                                                                                                                           text  label\n",
      "519  It seems that as of now our best option is just to babysit her for the weekend until she can see a doctor on Monday. Which really, really fucks my weekend, but so be it. FINAL UPDATE: Thanks for all the support, friends. We did end up calling emergency responders for her about twelve hours after my last edit. She was going full-bore psychotic, and it was getting to the point where I was no longer sure she wouldn't attempt to harm herself.      1\n",
      "                                                                                                                                                                                                                                                                                                                                                                                                                                                                                                                                                                      text  label\n",
      "525  I have been seeing mia for about 3-4 months Last night we were together drinking at a little get together before going to the club about 7-8 people in a small group, everyone knows each other pretty well. Mia was drunk and being quite obnoxious which can be fun just as much as it can be bad? She started talking about how her girl friends all get nice things from their boyfriends, a $500 hair job, presents/gifts whatever Made me feel a bit uncomfortable because it was clearly something targeted at me and she was saying this in front of everyone      0\n",
      "                                                                                                                                                                                                                                                                                   text  label\n",
      "526  and I giggled. He stomped towards me, mocked my laugh with an angry face and ripped the keys from my hands. He grabbed me by the top of my shirt and looked me in my eyes and said \"Stop playing these stupid F*CKING games\". That was my childhood. He'd abuse me and my brother.      0\n",
      "                                                                                                                                                                                                                                                                                     text  label\n",
      "534  I had a pretty creepy experience almost a week ago. I've never had a hallucination like that. So disconnected and vivid and super weird. I was anxious because I was in a building filled with people. Then all of a sudden I hallucinated where I was in a dark room all by myself.      1\n",
      "                                                                                                                                                                                                                                                                                                                                                                                                                                             text  label\n",
      "565  As is usually the case with the stories I read here, I've hit the bottom. I'm at the very last point before pitching a tent in a field, and begging at the street corner for pennies. A lot has happened in the last month, so I'll try to pare it down to make sense and then get to the numbers drama. When I say a lot, I mean we have been homeless since Feb 17th and making it work. There's me (27), my wife (23), and our son (10m).      1\n",
      "                                                                                                                                                                                                                                                                                                                                                                                                                                                                                                                                                                                                                                 text  label\n",
      "588  The only issue maybe is that she's quite clingy, which I don't mind to a point, but I like my own time and space and that's something I've really began to miss since we moved in together. This stuff doesn't seem to bother her at all and even after spending entire weeks with me straight, she is often sad and upset when we have time apart. I'm starting to realise she loves me more than I love her. And when I think about marriage and children, I'm wondering whether she is the girl I want to do it all with. At the same time, I don't want to end things and then regret it and never get what we've had again.      0\n",
      "                                                                                                                                                                                                                                                                                                                                                                                                                                                                                                                                      text  label\n",
      "635  This is a long shot and kind of awkward to admit, but I'm a college student who lives 1500 miles away in Ohio. After months of looking for a job, I finally got one but not in time to pay my rent because of that I got a ton of fee's added to my rent for being late. I have been served an eviction and have pay over $1000 by august the 15th. While I have half of that I' am trying to pick up some web design clients--- I was a web designer before I went back to school. I also have experience being a virtual assistant.      0\n",
      "                                                                                                                                                                                                                                                                                                     text  label\n",
      "638  I fully expect to be asked for a higher deposit due to my rental history in the past three years. It is hard to decide. Do I take the bit of cash I've stashed to rent a storage and a truck to move stuff out ASAP? If I do that, I get a bit of the rent back plus my deposit. Once I store stuff.      0\n",
      "                                                                                                                                                                                                                                                                                                                                                     text  label\n",
      "685  -What are you gonna do with that strange looking super shiny thing over there? -That's not really going anywhere *near* me, **is** it??? ? -Wish I could go on my phone right now and play a silly game to distract myself but I've just got to sit here while Dr. fiddles around in my mouth. -I love the way the drill makes a sound like kittens.      0\n",
      "                                                                                                                                                                                                                                                                                                                                                                                                                                                                                                                                                                                                                text  label\n",
      "688  My mom has a degenerative neurological disease, and can barely walk, bathe, or feed herself anymore. Her most problematic symptom is a movement disorder, but she also has declining mental capacity (but not much confusion/forgetfulness). She either needs to receive in home care or be moved to an assisted living facility as soon as possible. My brother and I made an appointment to have her assessed by the regional health authority at the end of the month. She moved back to her hometown a few years ago, and my brother and I can’t take time off work or afford travel, so we can’t be there.      1\n",
      "                                                                                                                                                                                                                                                                                                                                                                                                                                                                                                               text  label\n",
      "701  However, I've vaguely brought it up before and she said that she wants to also invest one day. My gut feeling is that she's comfortable if we both pay rent and lose money, but might feel weird if one person is benefitting and the other person is not. Unfortunately, I'm 99% sure on my stance that I will either live at home or move out when I can invest in my own place, and I'm not sure how to tell her.   ---   **tl;dr**: Friend wants to rent an apartment together, but I'm getting cold feet.      0\n"
     ]
    }
   ],
   "source": [
    "test_ex = pd.read_csv(test_base)[['text', 'label']]\n",
    "for i in indexes2:\n",
    "    if i not in indexes:\n",
    "        print(test_ex.loc[[i]].to_string())"
   ]
  },
  {
   "cell_type": "code",
   "execution_count": 36,
   "id": "f48fde7c",
   "metadata": {
    "scrolled": true
   },
   "outputs": [
    {
     "name": "stdout",
     "output_type": "stream",
     "text": [
      "                                                                                                                                                                                                                                                                                                                                                                           text  label\n",
      "12  PTSD is life changing for the worse. Every day fight. Getting in a fist fight in high school( who did not get into a fight)  I'm not talking about bullying,  Playing video games,  having bad dreams does not cause PTSD. We have seen things, or done things or ,been part of things,  that most people will never understand and hopefully never experience. End of Rant      1\n",
      "                                                                                                                                                                                                                                                                                                                                                                                                                                text  label\n",
      "38  But the life at dads was always kind of not ok? He drank and was angry a lot. His moods would change quickly and at times it was hard to figure out why he was angry. He yelled and throw things and sometimes shoved me around too, but me he never got that physical with like he did with my oldest brother. My dad also cried a lot and forced me to listen to him talk about his sad childhoos and then had me comfort him.      1\n",
      "                                                                                                                                                                                                                                                                                                                                                                                                                                          text  label\n",
      "40  So, I've been homeless since about the first, but I was expecting this. What I wasn't expecting was the changes I've made in my life since becoming homeless. Thankfully I have a job, so I do have money. But I hate everywhere that's affordable to eat! I've been a big junk food/fast food fan for years, so I'm a bit overweight, but lately, I just don't seem to care for meat as much, and fast food is just so.. gross right now.      0\n",
      "                                                                                                                                                                                                                                                                                                                                                                                                                                  text  label\n",
      "47  I'll try to keep this short. I've never been able to feel empathy towards other people, I'm not a sociopath or anything (as far as I know), I know when I should feel bad for/with somebody but I can't make myself care as much as I want to. _ Anyways, my mothers best friend of 45 years just killed himself and she's pretty torn up about it. I gave her a hug and what not but I have no idea what else I'm supposed to do.      0\n",
      "                                                                                                                                                                                                                                                                                                                                                                                         text  label\n",
      "50  None of the issues we discuss get addressed. 6) After a while, I get really pissed, my significant other gets angry with me over some issue, and she ends up breaking up with me. I am weary of this whole emotional drama that I have to go through to end a relationship. I almost feel like it's not even my choice to end a relationship. Is there a way to avoid this whole process?      0\n",
      "                                                                                                                                                                                                                                                                                                                                         text  label\n",
      "52  Like she said \"shes too much attached to her boyfriend, she knows that he fucks other girls but she cant break with him cause he will block her on fb and delete her phone number forever, he is her the best friend, soulmate\" Wtf? Run away and try to fall out of love or... or what? See what future will deliver? Im lost right now.      0\n",
      "                                                                                                                                                                                                                                                                                                                                                                                                                                                                                                                                                                                                                 text  label\n",
      "56  Like, I don't think they happen if I distract myself with the Internet or doing some hobby that I like.  I remember feeling like this at least once a week ever since I was around 15 or so.   I used to have nightmares about either fighting for life with my brother or my dad or someone else, or about seizures happening to me or people around me every day. Now I have them maybe once a week or two. I get something that feels like an adrenaline rush when I'm bringing this up, for instance as I'm writing this, or when my brother decides to visit my mom, and sometimes it just happens randomly.      0\n",
      "                                                                                                                                                                                                                                                                                                                                      text  label\n",
      "60  I was younger than 13 during my period of abuse and one thing I'm noticing now is that I can't wrap my head around consent. People tell me that I couldn't possibly consent to anything that happened, even if I asked for it. That I didn't even know what was happening to me. It doesn't feel that way to me. On paper, I get that.      0\n",
      "                                                                                                                                                                                                                                                                                                                                                          text  label\n",
      "61  That's why I've come to you guys. \\- If the formatting is weird, it's because it's midnight and I've edited this damn thing so many times I want to cut off my own hands so I can't torture myself with editing it any more. It's probably garbled af. Yes, I did proofread it, but I can't guarantee quality because it's midnight lmao. I'm super tired.      0\n",
      "                                                                                                                                                                                                                                                                                                                                                                                                                                                                                                                                                                             text  label\n",
      "77  My (now ex) boyfriend (19M) broke up with me (20F) 4 days ago. We would have been together for 6 months this Sunday. However, the way in which he did it leaves me wondering if he left the door open or not. The reason why he broke up with me is that this coming semester, he will be working/in class for 12 hours a day and he doesn’t want to put me through that, since he won’t have enough time to give me. He then said that he didn’t think this would be the last time we spoke, and that we would somehow find our way back into each other’s lives eventually.      0\n",
      "                                                                                                                                                                                                                                                                                                                                                                                                                  text  label\n",
      "83  Please, I'm NOT looking for any handouts. That's the last thing in the world I need. I WANT to pay back every penny that's loaned to me. I just feel like this is too big of a loan to ask on /r/borrow, and I'm stuck in such a rut. I've found a few nice cars around here that I feel would fit the bill in the $2500 price range, and then tax, tag and title, and maybe a couple months of insurance payment.      0\n",
      "                                                                                                                                                                                                                                                                                                                                                                                                                                                                                                                                                                                                                                              text  label\n",
      "86  How can I be a good boyfriend in this situation? I don't think she should “give up having friends” and I think she should hold on to the ones who suffer from similar issues and understand (and some of them are also great, kind people that she should hold on to regardless). I think spending time with other people than me is good for her, but she is so afraid of ruining things for others. TL;DR: Girlfriend has anxiety attacks and cancels plans with friends, not all friends are very understanding. I know how to comfort her when she's feeling down, but how do I otherwise support and advise her in the best possible way?      0\n",
      "                                                                                                                                                                                                                                                                                                                                                                                                                                                text  label\n",
      "91  I can't support their relationship on any level. To make it clear, neither does my mother. She only allows him to remain here because he'd be homeless and be forced to move hours away to a place with almost no transport and he'd take my sister with him (he did it before. It culminated in the allegations of cheating and the choking), and that's the last thing we want. Better the devil you know and your enemies close or something.      0\n",
      "                                                                                                                                                                                                                                                                                                                                                                                                                                                                                          text  label\n",
      "95  Last night one firmed and I were texting about something unrelated and B was brought up. I basically told her that I have distanced myself from B because of XYZ. She said she understands but B has been really nice lately and has been supportive of her pregnancy and has bought the baby tons of stuff... I don’t know why but I feel weird about that conversation. I even told her that I refrained from telling anyone for so long bc I don’t want anyone to view her differently.      0\n",
      "                                                                                                                                                                                                                                                                                                                                                                                                                                                        text  label\n",
      "101  Best friend knows I have anxiety and I am always asking her if she's mad at me. Well, yesterday she asked if I wanted to go to the beach next weekend, I said yes, and then today I told her I couldn't because I was supposed to watch my sister's kids. She wants to know why I don't take them with us. It's a two hour drive, and I really just don't want to go. But then she says that I always say no when she asks me to go somewhere with her.      0\n",
      "                                                                                                                                                                                                                                                                                                                                                                                                                      text  label\n",
      "105  Do you huddle up in the corner of some obscure building that's out of the way? Under a pine tree that's thick enough to prevent any outsiders knowing you're there? Those are kind of the best ideas I have... but I really don't know and I would greatly appreciate any advice. I don't want to give too many details but I live in a city of just over 100,000 people. I'm already on food and medical assistance.      1\n",
      "                                                                                                                                                                                                                                                                                                                                                                                                                                                                                                                                                                                                                                                                                                                                                                                                                                                                                                              text  label\n",
      "112  Spring 2102 I began to see a man that I worked with and that only made my roommate jealous and angry. I went to a pdoc (who was basically a pharmaceutical dispensary and appointments only lasted 15 minutes) who diagnosed me with ADHD, generalized anxiety disorder and caffeine dependency. My ex-roommate(who had PTSD from fighting in Iraq and BPD) became jealous that I was hanging out with and spending all my time with a man that was not him, he began to hide my prescription anxiety and sleep medication so I would have to spend more time at my apartment and with him. Late summer 2012 I was able to catch him doing a series of illegal things, had him arrested for petty theft and evicted him from the apartment. I spent a couple months more in the apartment and ultimately ended up moving in with the man I had begun to see (he and I have now been together almost 5 years).      0\n",
      "                                                                                                                                                                                                                                                                                                                                                                                                                                                                                                                                                                                                                                                                                                                                                                                                                                                                                                                                                                                                                                                                                                                                                                                                                                                                                                                     text  label\n",
      "124  I'd never heard this idea until recently, and I'm starting to see it cropping up more, always in opposition to any kind of support (or even empathy) for the homeless - any attempt to help the homeless is pointless because 'most' homeless people want to be homeless; therefore housing programs/assistance, mental health & substance abuse support are wasted because the homeless are too lazy to get themselves out of homelessness and 'enjoy' their condition, because they don't have to work, because they don't have to pay bills, because they don't have responsibilities, because they're lazy etc. I strenuously disagree with this, and I feel like it's an attempt to move the goalposts; there's a growing awareness that homeless people may not necessarily be homeless because they got themselves into that position and they 'deserve' it, but because of substance abuse issues and mental health problems, coupled with a breakdown in social network. But that's a lie, or 'lefty propaganda', for some people; they want to believe, despite whatever legitimate reasons some homeless may have for not being in shelters, say, that it's a *moral failing* \\- going full circle, they don't deserve help because their homelessness is a consequence of decisions they made. Thoughts?      0\n",
      "                                                                                                                                                                                                                                                                                                                                                                                                                                                                                                                                                                                   text  label\n",
      "127  I have a question about my ex who has a past of violence against women. I was never warned about it but I found out he was violent and I left. His ex has a full life restraining order against him.Now he is on probation for assaulting a police officer for 3 years in the past year he has gone to jail three times for domestic violence. His latest trip to jail was last week for domestic violence his third time. I was wondering what do you think his punishment will be since he's not learning his lesson from the punishments given to him and he just doesn't care.      0\n",
      "                                                                                                                                                                                                                                                                                                                                                                                                                                                                                                                                                                                                                                                                                                                                                                                                                                                                                                                                                                                                                            text  label\n",
      "148  I dwell on negativity quite easily and am I easily impressionable to brooding. I tend to express myself intensely to people without realizing it, giving the wrong impression because it's natural for me to be intense, but I am also quite composed and can for the most part be 'chill' but it's just that I only have two parts to me, a 'chill' way of expressing myself, and a passionate/intense way of expressing myself, so I come off the wrong way without realizing it when I think I'm being normal. People say that I'm a great person and easily liked but I don't realize sometimes how my expression and tone may come off, and people naturally give me a benefit of a doubt that I'm just passionate. My jealousy is extreme, and it causes me to be a questioning type but I use subtle ways to get information so it appears as normal a  question because I have attachment issues and fear of loss. There is more to explain but I got to the bare bottom of the issue after realizing these habits.      0\n",
      "                                                                                                                                                                                                                                                                                                                                                                                                                                                                                                                                                                                                                                                              text  label\n",
      "149  I realized how small nuances subconsciously give me thoughts without me feeding into it. They feed into itself and I watch it do it all on its own, and it causes responses in my body and anxiety without trying. It's almost as is if another person is living in here but what it is, it's all instinctual. The awareness has given me a better grasp on things but it feels like an illness now with this new perspective because it comes over me like one. It's like being drugged and having no control over the effects, and you have no choice but to let it occur, and you fight any urges it gives you, although you may be aware of it happening.      1\n",
      "                                                                                                                                                                                                                                                                                         text  label\n",
      "151  It's just us two and it's, really intense. She hugs me, tells me how much she's missed me. Reminisces about our relationship. Tells me how I broke her heart. She tells me about lads she's been with since and it felt like she was comparing them all to me and gets really emotional.      1\n",
      "                                                                                                                                                                                                                                                                                                                                                                                                                                                                                                                                                                                                                                           text  label\n",
      "166  Hi PTSD forums, Selective mutism has been something i have been afflicted with for 7 years since middle school. It was only in senior year of high school that I began speaking again thanks to the help of a few friends whom i no longer am in contact with and also my football coach/teacher. Now in college however I dread presentations. Often, I would lock down and say one or two sentences and after that say \"i'm done, ill hand it off to my group member\" or I would splurge out incoherent sentences that have no purpose or thought behind them during presentations and people would have a confused look on their faces.      0\n",
      "                                                                                                                                                                                                                                                                                                                                                                                                                                                text  label\n",
      "168  I don't mind the fact that she goes, I don't even mind if she goes at the same time as me. I just wish she wouldn't make such a big deal out of doing it together. How do I convey this to her without looking like a selfish asshole? **Tl;dr: I prefer to work out by myself for various reasons. My roommate decided to start going with me and is requesting that I make accommodations to my schedule and routine so that she can join me.      1\n",
      "                                                                                                                                                                                                                                                                                                                                                                                                                                                                                                                 text  label\n",
      "170  After getting startled, I have this thing where I'm really angry and defensive for 30-120 minutes afterwards. I can put myself in the most calm of situations, but the duration of this seems to be somewhat independent of my environment. I'm guessing this is because my PTSD brain does not respond well to stress hormones? Sometimes I try to push through it and just go about my day anyway, but it's usually counter-productive. I'd like to train my service dog to alert to the physiological change.      0\n",
      "                                                                                                                                                                                                                                                                                                                                                                                                                     text  label\n",
      "173  Maybe anyone with a history of abuse or trauma can tell me if there are particular things to be sensitive to here: I tried to be supportive but obviously failed in the end here. She's talking about wanting to divorce me. We're looking into couples therapy. I really appreciate any insight or advice. **TLDR**: Wife is working on an art piece that is important for her career in the arts non-profit world.      1\n",
      "                                                                                                                                                                                                                                                                                                                                                                                                                                                                                                                                                                                                                                                                                                                                             text  label\n",
      "174  He is our little angel and we are both gaga for him, but money has been extraordinary tight, adjusting to parent life and sleep deprivation has been tough for both of us. We were fighting and bickering a bit for the first time in his first months of life, but I figured that was normal for new parents. I work in the financial industry for a modest income (working hard currently to get to the next level where I'll make substantially more) and she works for an arts-based nonprofit. I have no particular attachment to the financial industry, it's just been a way to pay the bills and I find it interesting enough. She's a passionate artist though, always knew she wanted to be one, and it's really important to her.      1\n",
      "                                                                                                                                                                                                                                                                                                                                                                                                                                                                                                                                                                          text  label\n",
      "175  We met about 2.5 years ago, both somewhat fresh off our respective divorces. I felt we had a real connection, we fell for each other hard, dated (eventually lived together) for a little less than a year before she got pregnant. We were both really happy as we had both talked about wanting children - at the time we got pregnant we were \"not NOT trying,\" we had definitely had many conversations and were both on board and happy to have a child together. We felt we had met our true love in each other. Things have been rough since the birth of our son.      1\n",
      "                                                                                                                                                                                                                                                                                                                                                                                                                                                                                                                                                                                                                                                                                      text  label\n",
      "178  Hey guys, how are you? So, I've been diagnosed with anxiety disorder for 6 years now, though I know I've had it for more than ten years, I just didn't know it was an anxiety issue. I'm a 30 years old straight dude who started struggling with anxiety when I started to think I was gay (now I know this thing is called HOCD, but at the time I even came out as bisexual to my mother). After I went to therapy hoping to accept my sexuality, I discovered my problem wasn't self acceptance but an anxiety disorder, so that made sense, because I came out as bisexual even though I don't feel attracted to men. I thought I was burying my desires or something like that.      0\n",
      "                                                                                                                                                                                                                                                                                                                                                                                                                                                                                                                                                                                                    text  label\n",
      "181  For instance, there was a show on netflix that I thought would be fun to watch together, but she said she couldn't because she used to watch it with her ex and it reminds her of him. Like, are you even over him? She constantly compares me to her ex's in subtle (maybe not subtle) ways, like \"[ex] used to do this thing you do, and you know how I feel about that.\" I'm not your ex, I don't think it's fair of you to compare me to him like that all the time. She says she's \"not used to being single,\" it kind of makes me feel like she's using me to get reassurance and validation.      1\n",
      "                                                                                                                                                                                                                                                                                                                                                              text  label\n",
      "197  I’m  asking yall how can I live life properly? Immediately after I threw up  in year 2, I never feared it happening again. I admit when this happened  I was in tears, and same in year 3- I was crying next to my mum by the  toilet but it was over quick and again- I was eating chocolate again the  day after. But now, nausea? Stop eating for the day.      0\n",
      "                                                                                                                                                                                                                                                                                                                                                                                                                                                                                  text  label\n",
      "199  I'm sorry if I didn't post this in the right place and such, it'd be really comforting if someone had this as well and told me about it. edit: another way to describe it may be a million thoughts at once. it's really irritable. It's not like I'm thinking \"what if\" as I have seen many people describe, it's just random things, imagine 100 TV channels playing at once and you know what none of them are about or to do with you. It's also very sudden, like an attack.      0\n",
      "                                                                                                                                             text  label\n",
      "205  If I am to survive I must defy him I'm leaving this behind I'll go so far away He'll never find me I know that I'm Making that the last time      0\n",
      "                                                                                                                                                                                                                                                                                                                                                                                                                                                                                                                                                                                                             text  label\n",
      "217  In a day I went from broke and facing a dark, foreclosed home with no utilities to having enough money to totally catch up on all my bills. Then I had an appointment with my psychiatrist and case worker at the clinic I go to. I shamefully told the doctor there that I had been out of control, off meds, binging on alcohol and not following advice. She explained that it was not surprising for someone with my condition to lose control with all the stress I was facing. She increased my prozac dose and made appointments to follow up and see a therapist and reassured me about many things.      0\n",
      "                                                                                                                                                                                                                                                                                                                                                    text  label\n",
      "226  Hello everyone, A very close friend of mine was in an accident a few years ago and deals with PTSD. He has horrific nightmares that wake him up and keep him in a state of fright. We live in separate provinces, so when he does have his dreams it is difficult to comfort him. Each time he calls, and I struggle with what to say on the phone.      0\n",
      "                                                                                                                                                                                                                                                                                                                 text  label\n",
      "239  She's the first person I've ever really opened up to. I haven't told her everything about whats happened, but she does know about my anxiety (which I get from my PTSD) and she reacts sportively to it. To some extent, I let me be \"myself\" around her, whatever I am. She's moving. She's moving to Maryland.      1\n",
      "                                                                                                                                                                                                                                                                                                                                                                                                                                                                    text  label\n",
      "241  I feel like I am just being written off because of my diagnosis before anyone even tries to look into it and see if anything else might be at play. I'd just as soon not say anything about my PTSD to be taken seriously, but it appears in my medical records. Or when I list my medications as required, Drs usually ask me what the meds are treating and it comes up then. Has anyone else had this experience? What has worked for you to be taken seriously?      0\n",
      "                                                                                                                                                                                                                                                                                                                                                                                                                                                                                                                                                                                                                                                                                                                                text  label\n",
      "242  I can't guarantee that I will never change my mind, but I've never dreamt of happily ever after, I don't really believe in eternal love and soulmates and all this stuff so I guess it's not really likely. I'm not asexual or aromantic, I love sex and I love him in a non-platonic way, I just can't compromise on that kind of thing, I wouldn't even know how to do it. I could meet his family, pretend to like them, pretend to bond with them and pretend to care, but that's really just lying to make him happy. I've tried it before and it makes me hating myself and them. I've always told him the the truth about the level of commitment I'm comfortable with, but nevertheless I feel like I'm leading him on.      0\n",
      "                                                                                                                                                                                                                                                                                                                                                                                                                                                                                                                                  text  label\n",
      "246  I have been suffering from anxiety and panic attacks since I was a teenager. I have been to the ER more times than I can count cause I thought I was dying. For the longest time I thought that I was the only person who this was happening to, until I met a girl who was going through it too. It felt good knowing I wasn't alone but I still was in the dark and scared. As time went on I met more people who were going through the same thing and it really helped to have some one to talk to who knew what it was like.      0\n",
      "                                                                                                                                                                                                                                                                                                                                                                                                                                                                                                                                                                                                                                                                                                                                                                                                         text  label\n",
      "254  I don't know how to maintain my relationship with my brother while he still lives under my parents' control \\(which covers everything from finances, to communication with other people, to leaving their house \\-\\- or rather not being outside the house without them other than for school and work\\). I'm lucky enough to have a few wonderful friends who supported me in various ways while I've been getting situated, but I don't know how to grow my friendships with them now that I have the freedom to. I got so used to not talking much to them as their other friends would, and I guess they're used to that from me. With new people that I meet, I find it very difficult to relate to their lives. I feel uncomfortable answering questions about myself, my past, and my background.      0\n",
      "                                                                                                                                                                                                                                                                                                                                                                                                                                                                                    text  label\n",
      "256  This internet ban subsequently resulted in me failing my studies, and in turn lead to my parents despising my relationship. Needless to say, they had noticed a huge change in my personality on top of failing my studies. I want allowed to speak to these friends either. She worried that they would be finding ways to show porn to me, and made them out to be terrible friends, which I of course believed. I failed to mention how incredibly good she was at manipulation.      0\n",
      "                                                                                                                                                                                                                                                                                                                                                                                                                                                                                                                                        text  label\n",
      "257  The police in Mt. Sterling, Kentucky were... decidedly unhelpful. The local citizenry sympathized with my plight in that respect. I had to hitch-hike back to Lexington. The most I've been able to replace ID-wise so far has been my ATM card and my pre-paid card -- I opened up an account at a national chain bank while I was here the past two weeks and my banker here obviously knows who I am -- and the temp labor place I had been working at had a copy of my ID, so I was able to get that information from them as well.      1\n",
      "                                                                                                                                                                                                                                                                                                                           text  label\n",
      "269  He pretty much told me that he was angry and disappointed and would probably not forgive me for a while and that I owe him. I was going to go... I still want to. I just am looking at either going to this wedding and being evicted or not going and dealing with the disappointment. I don't feel like I have a choice.      0\n",
      "                                                                                                                                                                                                                                                                                                                                                                                                                                                                                                    text  label\n",
      "273  He wanted me to say once again that of course I was in the wrong and I need to change my selfish ways and give him the kind of love he deserves. When I stated I need space, he then demanded I be out by midnight tonight. I pointed out I would simply ask our roommate to spend 1 more night in the house as a guest. So he conceded to letting me sleep there tonight. This break up and crossroads is yet another opportunity for me to prioritize my needs in a creative and synergistic way.      1\n",
      "                                                                                                                                                                                                                                                                                                                                                                                                     text  label\n",
      "283  He was my best buddy in high school and we’re still really close. And my girlfriend, who goes to school in DC, is home too so I can see her. I’m grateful for them but wish I had a bigger friend group from home that I was still close to. I’ve loved college, but haven’t really found a new best friend yet. I’ve still kinda struggled with feeling like an outsider and not really fitting in.      0\n",
      "                                                                                                                                                                                                                                                                                                                                                                                                                                                                                                                                                                                                                         text  label\n",
      "287  Are there federal or state (IN) laws that govern shelters for shelters that don't accept any federal funds? According to a news story I have found on this shelter they don't accept federal funding, grants or any kind of corporate or foundation funds. There are so many things going on here that don't seem legal, and many more that are totally unethical. I've been here for a month and here's just a couple of the things that are jumping out at me: * Our meds are kept locked up in a cabinet in a room accessible only by staff and \"resident staff\" (which also seems like a HUGE conflict of interest.)      0\n",
      "                                                                                                                                                                                                                                                                                                                                                                                                                                                                                                                                         text  label\n",
      "292  She said she always had to message first, and she decided to completely blank me when I apologised, and that was that. The first girl to ever express proper interest in me in my life ends up going completely down the drain. I don't know if it was because of my own management of messages or me being unattractive in general, but despite this great date occurring I only feel absolutely awful because of it in the end. Oh, and to rub salt into the wounds I even noticed she unliked my profile picture of all things. Ouch.      0\n",
      "                                                                                                                                                                                                                                                                                                                                                                                                                                                     text  label\n",
      "314  I've been renting since university and I'm getting sick of seeing the same amount of money I'd pay towards a mortgage go into the pocket of someone else. I have a junior role in the company, it's going somewhere (I hope) but not fast. I find financially I'm staying basically cash-neutral and my quality of life isn't brilliant. I'm not managing to save anything. I've been thinking that I should get a house with the money I inherited.      0\n",
      "                                                                                                                                                                                                                                                                                                                      text  label\n",
      "317  He broke up with me, accused me of lying about my cousin, saying he never heard of her despite the fact he has. I ended up sleeping with my friend that night. Then there was the issue with him threatening to hide my belongings with an unnamed friend. I wouldn't get to know who. A whole bunch of crazy ensued.      0\n",
      "                                                                                                                                                                                                                                                                                                                                                                                                                                                                                                                 text  label\n",
      "324  That's it. My mom made me delete it and said \"that's what is wrong with your generation, you act too grown.\" Nothing about my picture was \"grown\" I was actually wearing a long white t shirt and boyfriend jeans. Even when we go to the beach with my siblings, me and my sister were wearing the exact same bikini and she said something to me about \"needing to sit my fast tailed butt down.\" Mind you, my sister is two years younger than me and the bikinis weren't even provocative in a bikini sense.      1\n",
      "                                                                                                                                                                                                                                                                                                                                                                                                                                                                                                        text  label\n",
      "332  I'm currently between jobs and looking to make money in any way I can, so I was wondering if anyone would be interested in buying a cross stitch commission from me. I can do any type of pattern or design, in various sizes. Here are some examples of things I've made: <url> I would really appreciate any help I can get! Times are rough and my mental health is not great right now, so it would be nice to have something to work on that would also help me pay my bills and medical expenses!      1\n",
      "                                                                                                                                                                                                                                                                                                                                                                                                                                                                                              text  label\n",
      "336  You can still trigger them even though you are a good guy. You can still get offended when they tell you they can't trust you even though it is the PTSD talking and not them. You feel like a failure when they tell you they feel hopeless and that nobody can help them. It really sucks when all you want to do is love them and they can't accept it or feel it. Especially when they are the most amazing person you have ever met when they are not triggered and in their right mind.      0\n",
      "                                                                                                                                                                                                                                                                                                                               text  label\n",
      "346  That will never go away. I’ll be right with you cause family comes first and I don’t want Mum and Dad to feel in the middle of it all anymore. Its going to take time. I again left it a few hours, but I felt incredibly annoyed by her reply, which I felt was very dismissive of her own actions. I decided to cut her out.      0\n",
      "                                                                                                                                                                                                                                                                                                                                                                                                                                                                                              text  label\n",
      "359  It’s getting up above 100 here, and I’d like to have something I can easily carry in my car to give out since I’m working deliveries. Unfortunately I’ve been without a steady job for 6 months so I can’t do to much, but I was thinking about buying a bunch of plastic water bottles, freezing them, and carrying them in a cooler in my car to give out when I’m at lights. Would this be helpful? What other small or inexpensive things would help make the summer a bit more bearable?      1\n",
      "                                                                                                                                                                                                                                                                                                                                                                     text  label\n",
      "376  If he's the textbook abuser, she is the textbook victim. She keeps giving him chances and accepting his apologies and living in this cycle of abuse. She thinks she's the one doing something wrong. I keep telling her that the only thing she is doing wrong is staying with this guy and thinking he will change. I tell her she does not deserve this treatment.      0\n",
      "                                                                                                                                                                                                                                                                                        text  label\n",
      "389  She told me that things had to go back to where we were before we ever went to the concert. I agreed, and stopped talking to her aside from professional responsibilities. NOW... in that period of time since two MAJOR things have happened. 1. Her mother was diagnosed with cancer.      1\n",
      "                                                                                                                                                                                                                                    text  label\n",
      "391  Little over 3 hours ago, my dad had attacked me. I'm not sure who to go to for advice, hoping someone can share any here. Thank you. Here's the full story Preceding physical contact, me and my dad were having a verbal argument.      0\n",
      "                                                                                                                                                                                                                               text  label\n",
      "393  Still had moments of anxiety but I got through them. We can do it guys! It's so tough and I know I'll have bad days but hoping that the good days outweigh them. Completely shattered now though. Could sleep a million years.      0\n",
      "                                                                                                                                                                                                                                                                                                                                                                                                                                                                                                                       text  label\n",
      "401  Now I’m in a healthy relationship. This man is the love of my life. He always pushes for me to be better and I resist it sometimes. I’ve turned on him fearing him having a dark objective, and I don’t understand all my triggers. All I know is sometimes I see my incredibly loving boyfriend as my incredibly abusive ex and it breaks my heart because he’s the only person that tends to me so well... he does everything he can to help me always he saved me from that awful relationship... he saved my life.      0\n",
      "                                                                                                                                                                                                                                                                                                                                                                                                                                                                                                          text  label\n",
      "407  He is coming round tomorrow for a cup of tea and I want to broach the idea of knocking down his small shed for this larger and better insulated cabin, without offending or embarrassing him. How on earth do I go about this? TLDR: my blind neighbour is sleeping in a very small and very cold shed. He is profoundly proud of his self sufficiency. My husband and I have sourced better (mainly for peace of mind) but I don’t know how to broach the subject without offending or embarrassing him.      0\n",
      "                                                                                                                                                                                                                                                                                                                                                                                                                                                                                                                                                                                                                                                                                                                                                                                                                  text  label\n",
      "412  Backstory: My late grandparents home, the home I was raised and still currently live in, is being short sold to a relative by the bank. My grandparent did a reverse mortgage, died and their home went into foreclosure, got put up for a short sale, and is now in the closing process. The relative who's purchasing the home clearly wants to profit off of the home and is warning me that in the coming days it'll be time for me to go. Unfortunately, my next stop will be a shelter as I have no money saved up to move into an apartment of my own, nor do I make enough working part-time to pay rent, and I don't have many ready available options that I'm aware of. The only question I have is does the relative have to pay us to move out or can they just kick us to the curb without a penny?      0\n",
      "                                                                                                                                                                                                                                                                                                                                                                                                                                                                                                                                                                                           text  label\n",
      "424  Now that I’m single I find that I don’t have much friends I can hang out with. With the few guy friends I have we all just play sports together and that’s literally it, nothing outside of that. No one I can really be like “hey let’s go to this concert” or “Yo, let’s hit this party up”. I also feel like I’m kind of too mature for ppl my age, which is conflict sometimes too. I also genuinely want some gal friends and nothing romantic but just some girls to hang out with but I feel all girls just assume all guys have bad intentions or just want to get in their pants.      0\n",
      "                                                                                                                                                                                                                                                                                                                                                                                                                                                     text  label\n",
      "425  The few gal friends I associate with are either in relationships or kind of just brush me off or fake like they want to hang out but really don’t when the time comes. My school has no clubs whatsoever, so I can’t really meet anybody that way. I do go to a fairly small school though, around 7,000 students. I always wanted to be in that group that always hangs out. So I honestly don’t know what to do or how to go about this situation.      0\n",
      "                                                                                                                                                                                                                                                                                                                                                                                                                                                                                                                                                                                   text  label\n",
      "428  But once he explained his fascination, I was more sympathetic, but laid down the boundary that divorce talk can’t be a part of our relationship. My youngest never remembered her dad’s abuse, and is very upset that she doesn’t get to see him. My oldest remembers a bit more, but was not the victim most of the time, and also feels a little mad. It’s hard to talk about divorce without having the conversation about their dad, and it’s even harder to explain to them why they can’t see their dad. It was worse when they were younger, so I wanted to avoid the talk.      0\n",
      "                                                                                                                                                                                                                                                                                                                                                                                                                                                                                                                                                     text  label\n",
      "464  She tells me and her friends constantly about how this girl gives her butterflies, feelings of love, and worries out loud if she's gay/bi. Her boyfriend knows about this, since she talks to anyone she can about her life. He's a huge pushover though and doesn't seem to care allows her to continue texting and stalking this girl's social media profile. I'm okay with my sister exploring her sexuality, but I'm upset she's doing this to someone who takes care of everything for her. But he's okay with it, so is it any of my business?      0\n",
      "                                                                                                                                                                                                                                                                                                                                                                                                                                                                                                                                                                                                                            text  label\n",
      "471  This weekend she had a breakdown and gave me the following reasons:  - I'm almost a momma's boy  - My mom shares an unhealthy relationship with her children (my mom has admittedly told my gf a number of times that she makes her jealous and I care for another woman, but that's because my mom doesn't have a life outside our family and is understandable. My mom however cares for my gf, buys her presents, keeps in mind her allergies and cooks her food that she'd eat, so I don't get why my gf would have an issue)  - Apparently it's weird that I spend all my time and don't like to hang out with friends      0\n",
      "                                                                                                                                                                                                                                                                                                                                                                                                                                                                                                                                                                                                                                                                                                                                                                                          text  label\n",
      "480  I don't remember always being like this, but over the last two years or so I have had a few tumultuous friendships/dating connections with people (I make deep connections quickly, or seemingly deep anyways with lots of self disclosure and vice versa) and after things don't work out I feel like I am lost and won't be able to cope on my own. I recently started talking to someone again after not talking to them for a few months, there was no bad blood between us we just decided it would be best to move on and not talk anymore. They reached out first about a month ago, then nothing. I have been going through it at work, feeling overwhelmed and anxious and so I feel stupid for doing this but I began talking to them again. I feel better, even if its slight.      0\n",
      "                                                                                                                                                                                                                                                                                                                                                                                                                                                                                text  label\n",
      "487  SIL and BIL are seeing s couples therapist as well as individual therapists. SIL is adamant that she wants my wife and I to participate in group therapy with both of them and that my BIL wants to set the record straight and feels awkward around our family. He hasn't personally apologized for his actions and states that my SIL fell and hit her head on dumbbells in their apt. I do not believe him. He has only apologized that we had to deal with the entire mess.      0\n",
      "                                                                                                                                                                                                                                                                                                                                                                                                                                                                                                                                                                                                         text  label\n",
      "489  I was raised by a narcissistic grandmother and emotionally unavailable mother. In fact, when I was born, she tried to take it upon herself to take full custody away from my mother because apparently my mom was 'unfit' to be a mother. She never did because she found out that my biological father might have had to be involved. My grandma kept me away from my father my entire life, he barely knows I exist, I've never spoken directly with him, in fact, his identity was hidden from me for 22 years, up until last May. My grandmother was very emotionally abusive towards me as a child.      0\n",
      "                                                                                                                                                                                                                                       text  label\n",
      "507  We had 2 classes together, so we spent a few hours together most days working through problem sets. This next semester, I won't even have that. I'll probably be in more isolation this time around. Any tips are appreciated. Thanks!      1\n",
      "                                                                                                                                                                                                                                                                           text  label\n",
      "509  Am I wrong to be pissed about this? Was he really just being nice to her or is he just biding his time until they live closer?   ---   **tl;dr**: My boyfriend said \"you never know what the future holds\" when talking to a former fling. He says he was just being nice.      1\n",
      "                                                                                                                                                                                                                                                                                                                                                                                                                                                                                                                                                                                                                                                                                                                                                                                                                                                                                                                           text  label\n",
      "510  First off I'm male but my relationship with the woman is strictly platonic stemming from professional, we are co-workers. It's no secret to anyone that she's in an abusive relationship as she's come to work several times over the last several months with blackeyes etc and admits to being abused. She been in the relationship for 1.5 years which turned   info is out of the way, here's the new twist that has brought me to split roads. Yesterday she showed me a text from him detailing how angry he'd been at her 12 yr old and that if he didn't have so much will power he would have choked her son to death and that she needs to get her son to behave so he doesn't have to crack his skull. I encouraged her to show that to Leo and have him removed from the apartment as well as get an order of protection, she seemed to be considering that but has expressed fear of retaliation in the past.      1\n",
      "                                                                                                                                                                                                                                                                                                                                                                                                                                                                                                                                                                                                                                text  label\n",
      "515  I was never given a birthday party because it was inconvenient to have a bunch of kids over. In my pre-teen years I faced several years of having nothing and having to hide when someone knocked on the door because they were debt collectors or people who demanded payment for something. I faced the threat of homelessness, I faced abuse and horrible living conditions, I was bullied to the point of having to go to several different schools. I grew up not being loved, not being cared about, and having to fend for myself because no one would come home until 9-10 at night. I grew up being ashamed of myself.      0\n",
      "                                                                                                                                                                                                                                                                                                                                                                                                                                                                                                                                                                                                                                                                                                                                                                                                                                                                                                                 text  label\n",
      "531  I also added up the value of everything I can possibly remember that's either missing or destroyed, and it reaches over 2,100 dollars...and that's a lenient estimate, I definitely rounded down. But I'd love to charge another grand for mental anguish or whatever. The whole ordeal has been like Trigger-City for someone like me who is struggling to recover from mental illnesses and over a year and 9 months clean after 10-12 years of substance abuse. I'm also receiving supportive services from a county program aimed at helping mentally \"screwed up\" people become independent, for lack of a better term. What's cool about the service is that I get a case manager who I can call for advice and in turn checks on me and referred me to a halfway house which only lasts 30 days but it's much better than having to stay at the local shelter, which might be my only option come June...      1\n",
      "                                                                                                                                                                                                                                                                                                                                                                                         text  label\n",
      "535  I didn’t tell her my feelings, because I value her too much, but do not want to hurt her. I just want to let go of all my feelings, but I can’t. There’s only a few days left at school, after which we might go our different ways. But I have this strange feeling inside, that I do not want to live in any sort of regret, about not telling her how I felt. It’s just really weird.      0\n",
      "                                                                                                                                                                                                                                                                                                                                               text  label\n",
      "542  The curfew at the shelter keeps me grounded and safe from myself. The rules and the structure with morning routine even though I've just felt it for one day, has already boosted me. I used to stay up until 2-3am, blowing all my money just binging and purging. Now I have to pause and ride out my emotions. I have to be in bed at 10pm.      0\n",
      "                                                                                                                                                                                                                                                                                                                                                                                                                                                                                                          text  label\n",
      "543  Well, 18 years of being in and out of hospitals, treatment and addiction finally caught up to me. This is my first time homeless and it's scary but I'm grateful for the bright light that I've started to see. I don't abuse alcohol or drugs, but I'm no different than someone who does...I have other mental health issues that I feel nobody really can understand. It has essentially rendered me a useless piece of shit. I was engaging in unhealthy behaviors up to 10 hours a day, if not more.      0\n",
      "                                                                                                                                                                                                                                                                                                                                                                                                                                                                                                                                                                                                                                                                                                                                                                                                                                                                                                                                                                                            text  label\n",
      "548  Im studying at a university abroad And I have failed or got a really bad grade my first semester subjects due to starting a month late and searching for accommodation for atleast 2 weeks or I would have stayed on the streets. I have been doing my absolute best to pass but the subject were very difficult on my own....I have tried studying and watching old lectures and everything but the syllabus was too long in several cases ( mathematics was much more difficult and longer than abitur according to our professor) and exams were just too hard for me in my situation so I failed. The thing is she linked this with studying with my friends which I only recently started doing it because they were very helpful and my progress increased significantly. She now commands me to just cut all relations with any friends that I have made whom for the first time in my life are ones who i looked forward to seeing them the next day because I enjoy there company.      0\n",
      "                                                                                                                                                                                                                                                                                                                                                                                                   text  label\n",
      "551  My neighbors, a young gay couple, just had a very loud fight, with lots of objects being thrown around. I've heard shouting matches before, this was different. I wasn't quite sure how to handle it. We went and the door was open so we walked inside to make sure everyone was ok, and nobody was in the process of being killed so we left as we were asked to. There were no visible bruises.      0\n",
      "                                                                                                                                                                                                                                                                                                                text  label\n",
      "563  The last straw that broke me completely happened the night before/early morning of St Patty's day 2013 (age 21). I went to a bar for a pre-party. I had one shot with the bartender and some other guys there. I then started drinking water and talking to the guy sitting next to me. He said he was a pilot.      1\n",
      "                                                                                                                                                                                                                                                                                                                                                                                                                                                                                                               text  label\n",
      "566  I would like to reach out for help from someone supportive before an episode becomes too intense to ask for help. I would like to acknowledge the symptoms and temporary nature of the situation as to let it pass without causing additional damage. I finally realized that fighting my traumatic episodes is like a rigid oak tree trying to resist a flooding dam. Do any of you guys have ways to be \"okay\" with an episode? If so, how do you find the flexibility and patience to not fight against it?      1\n",
      "                                                                                                                                                                                                                                                                                                                                                                                                                                                                                              text  label\n",
      "583  - She left a youtube comment on one of my videos saying \"I have many ways of contacting you\". - She blamed me for the outburst, saying that if I just gave her what she wanted she wouldn't have to do this - She told me that \"the water dripping thing\" (nice diminishing statement of what she did) was a joke/prank - I threatened to call the police if she didn't stop - She angrily e-mailed one more time but then immediately became apologetic begging me to not contact the police      0\n",
      "                                                                                                                                                                                                                                                                                                                                                                                                                                                                                                                                                                                                                                      text  label\n",
      "584  3 days before, she called me, pretty upset, to say that she didn't feel able to come. Naturally I've learned that she suffers from panic attacks occasionally, and has also said that she is reluctant to try a full relationship because of worries that I'll outgrow her or find someone else (we HAVE gone on dates since she has said these things). Eventually I put the pieces together and began to understand her a little better, but I also have my own neurological obstacles that have affected my thinking with this girl. I'm going to do my best to lay them out now: -Like I mentioned, I have ADHD in a serious way.      0\n",
      "                                                                                                                                                                                                                                                                                                                                                                                                                                                                                                                                  text  label\n",
      "598  Hey guys, circumstances in my life has brought me to being homeless starting tomorrow. I live in Central Florida and the reason why I come to this position is due to my car breaking down, not being able to make it to work since its a 35 mile commute, and now that I can't pay rent, I have to leave the room I'm renting. Lately though Ive been thinking a lot of leaving to New York. I'll be homeless there, yes, but at least I'll be able to get around with 24/7 transportation. My question is: Is this a good idea?      0\n",
      "                                                                                                                                                                                                                                                                                                                                                                                                                     text  label\n",
      "604  My flaws seemed huge to me, and I assumed everyone thought negatively of me all the time. My life was consumed by a spiral of negative thoughts and social anxiety. I went to my doc, admitted my social anxiety, and he prescribed me Lexapro 10mg/day. I took my first pill a few days ago, and not two hours later, I had nearly complete relief of my anxiety of all kinds. The bad thoughts completely stopped.      0\n"
     ]
    },
    {
     "name": "stdout",
     "output_type": "stream",
     "text": [
      "                                                                                                                                                                                                                                                                                                                                                                                    text  label\n",
      "605  I've got a good handle on my triggers. I know how to prepare myself when I have to encounter a trigger and how to move past it without too much discomfort. That being said today I encountered an event that blindsided me. I was not prepared at all. I know its possible I will come across triggers without warning, but this was something that had not been a trigger before.      1\n",
      "                                                                                                                                                                                                                                                                                                                                                                                                                                                                                                                                   text  label\n",
      "615  I'd like to note that I have had a couple close individuals look at my emails, evidence, etc since the last court date. I'm not that crazy, but I showed them the emails because I wanted to make sure they were real. The emails, evidence, and notes are all real. I checked my phone history, and the phone calls to the advocate and office are all logged and sufficient in length to indicate that an actual conversation occurred. I never doubted reality before the abuse, and I have never done so outside of the abuse.      1\n",
      "                                                                                                                                                                                                                                                                                                                                                       text  label\n",
      "620  My best friend died last year, of a rare type of bacteria that killed him very quickly, a contagious disease. He was a year younger than me. I am still relatively young but also starting to get old, my age is in between somewhere. I can feel the medicine starting to work and I am not as anxious now. I have been typing for over half an hour.      1\n",
      "                                                                                                                                                                                                                                                                      text  label\n",
      "622  I need to be my own person, however flawed I am. My panic attack ended at least 20 minutes ago, now. I think that is the end of this post. What more is there to say, other than, I am sorry for writing something so long? It is just who I am, I write long things.      0\n",
      "                                                                                                                                                                                                                                                                                                             text  label\n",
      "631  It’s why I was okay with paying so much rent for them in the first place. But I don’t have a job anymore. I’m trying to get one again, but I have historically had a hard time finding employment. I have my own rent and bills to pay. I need to get into therapy, and I want to go back to school someday.      0\n",
      "                                                                                                                                                                                                                                                                                                                                                                                                                                                                                                                                                                                                                             text  label\n",
      "633  But it took me months afterward to end it. I remember him screaming at me, calling me stupid, calling me a moody bitch when I got frustrated at him for screaming and insulting me, threatening to break up with me, holding his “love” for me over my head when I wasn’t doing things his way, getting drunk and high and cheating on me and then coercing me into helping him fake a piss test, and on and on and on.... And the whole time I knew he was being an abusive asshole and I *still stayed. * I had absolutely no reason not to leave him, and it was 100% in my power to end things between us. But I didn’t.      0\n",
      "                                                                                                                                                                                                                                                                                                            text  label\n",
      "650  I still have issues with writing, driving, standing up to people/for myself, and with the aforementioned complex PTSD. It's generally triggered by loud confrontation. I do have a great fiancee these days. She has helped me a ton. It's the first genuinely healthy romantic relationship I've ever had.      0\n",
      "                                                                                                                                                                                                                                                                                                                                                                                text  label\n",
      "651  When I was 17, my mom turned her attacks on my writing into high gear. She constantly berated me about how pointless, worthless, stupid and childish it was to write. How I'd never make it as a writer. How I'd be poor and alone. How (again) I needed to stop doing \"childish things\" like writing (and any other hobby/passion she decided to attack that day) and grow up.      0\n",
      "                                                                                                                                                                                                                                                                                                                                                                                                                             text  label\n",
      "654  Almost decided to live in my car, live with a crack head, travel the country (aka: begin my homeless life, cause I really had no money and if I did it would've gone to beer). I was losing my mind. After being heavily suicidal for a week I decided I can't live like this anymore - but I don't want to die right now. I planted a thought in my head. 'if you ever want to overcome this, you need to begin to change'.      0\n",
      "                                                                                                                                                                                                                                                                                                                         text  label\n",
      "656  I'm a single dad of two daughters (3 and 4). I live in a privately owned apartment with them and the AC went out but is getting fixed tomorrow. I live paycheck to paycheck and can't afford to get a hotel. They are at daycare until 4 when I get off work. I live in Mesa AZ and its been over 100 degrees for weeks.      0\n",
      "                                                                                                                                                                                                                                                                                                                                                             text  label\n",
      "662  The judge had to postpone the court date. As of this morning janes mother appeared at the house and gave jane the NEW lease showing that jane is no longer on the lease and wants her out. She left almost immediately, to avoid the police that were called right away. And now she does not know what to do .... I wish I can help but I dont know either.      0\n",
      "                                                                                                                                                                                                                                                                                                                                                                                                                                                                                                                                                                                                                                                                                                                                                                                               text  label\n",
      "671  I was told by my peers, the media, so many things, that what I was doing was okay, was fine, was normal, was desired by every boy my age. I'm sure the majority of my abusers knew I was underage, how could they not? I told some of them how old I was, and most of the ones I told were okay with me being underage, although were extremely coercive, threatening, and frightening at times. I was constantly gaslight, verbally abused, and made to feel frightened and ashamed by many of these people, but I felt like I had to keep trying, like I had to be there to perform for them. All of the physical abuse (sexual and otherwise) that I've survived, happened after I turned 18, starting with my first REAL girlfriend, and the relationships that immediately proceeded her.      0\n",
      "                                                                                                                                                                                                                                                                                                                                  text  label\n",
      "672  You were so kind, thoughtful, and helpful. And right. I felt so exposed and vulnerable that I forgot a few things: my husband has *never* done something he knew would hurt me. More importantly, when I am not ok, he isn’t either, even though it doesn’t show. I don’t have a family of my own that I can trust, and it sucks.      0\n",
      "                                                                                                                                                                                                                                                                                                                                                                                                                                                               text  label\n",
      "684  He told me to never talk to him again and that he found someone else. I was so hurt and depressed. I've tried to talk to him and ask him what I've done to make him feel this way and he just continued to curse me and belittle me. He then ignored me and posted pictures of him and a girl all over his Instagram which he knew that I would see. I wanted to make him jealous too so I posted pictures of me and my friend on Instagram with heart emojis.      0\n",
      "                                                                                                                                                                                                                                                                                                                                                                                                                                                        text  label\n",
      "687  My mother has always been a difficult person to talk with. She is extremely stubborn, and I have never seen her consider another person’s suggestion or opinion. She usually considers helpful advice or offers of assistance to be personal attacks. When having a conversation, she doesn’t listen to the other person, but only waits for her next turn to speak. She tends to obsess about a single topic and will refuse talk about anything else.      0\n",
      "                                                                                                                                                                                                                                                                                                                                                                                                                                                  text  label\n",
      "694  Hi everyone, also posted on r/rapecounseling. Sorry for my english, it’s not my mother tongue. Past few months were pretty rough and I think i’m finally ready to write it down, like if I needed it… I was raped by a “friend” (let’s call him L), the exact day I met my actual boyfriend (let’s call him N), 5 years ago. L wasn’t really a friend of mine, I never appreciated him, but he was closely related to my best friend at the time.      0\n",
      "                                                                                                                                                                                                                                                                                                                                                                                                                                                 text  label\n",
      "705  I'm not massively worried about it at the moment because it feels good but my question is: Is this a normal symptom of PTSD and if it continues tomorrow, should I call 111 for medical advice? I'm home alone for the next few days, should I try and stay at a friends? Thank you! Edit: Thanks for the advice, I have got in touch with my doctor and they are going to give me a call later today. Hopefully I can get this sorted out soon!      0\n",
      "                                                                                                                                                                                                                                                                                                                                                                                      text  label\n",
      "711  Also I can't think about both of them without getting angry and jealous again, but to talk to each of them is actually helping me a lot.   ---   **tl;dr**: Three Friends where one M was fallen in Love with F and F was fallen in Love with the other M, which isn't feeling anything for her as an Girlfriend. We could be the best template for an 2,5h long Teenager-Drama.  ---      1\n"
     ]
    }
   ],
   "source": [
    "inter = np.intersect1d(indexes, indexes2)\n",
    "suma = 0\n",
    "for i in inter:\n",
    "    print(test_ex.loc[[i]].to_string())\n",
    "    suma += test_ex['label'].iloc[i]"
   ]
  }
 ],
 "metadata": {
  "kernelspec": {
   "display_name": "Python 3 (ipykernel)",
   "language": "python",
   "name": "python3"
  },
  "language_info": {
   "codemirror_mode": {
    "name": "ipython",
    "version": 3
   },
   "file_extension": ".py",
   "mimetype": "text/x-python",
   "name": "python",
   "nbconvert_exporter": "python",
   "pygments_lexer": "ipython3",
   "version": "3.9.7"
  }
 },
 "nbformat": 4,
 "nbformat_minor": 5
}
