{
 "cells": [
  {
   "cell_type": "code",
   "execution_count": 1,
   "id": "9596b77d",
   "metadata": {},
   "outputs": [],
   "source": [
    "import pandas as pd\n",
    "import numpy as np\n",
    "from sklearn.metrics import *\n",
    "from sklearn.metrics import accuracy_score\n",
    "from sklearn.metrics import f1_score\n",
    "from sklearn.metrics import recall_score\n",
    "from sklearn.linear_model import LogisticRegression\n",
    "import random\n",
    "import matplotlib.pyplot as plt\n",
    "\n",
    "def set_seed(seed: int):\n",
    "    random.seed(seed)\n",
    "    np.random.seed(seed)\n",
    "\n",
    "set_seed(1)"
   ]
  },
  {
   "cell_type": "code",
   "execution_count": 2,
   "id": "c20bfdd3",
   "metadata": {},
   "outputs": [],
   "source": [
    "def prepare_data(dataset_path_train = None,dataset_path_test = None):\n",
    "    if (dataset_path_train is None or dataset_path_test is None):\n",
    "        raise RuntimeException(\"Error! Dataset must be provided\")\n",
    "    train = pd.read_csv(dataset_path_train)\n",
    "    test = pd.read_csv(dataset_path_test)\n",
    "    \n",
    "    y_train = train['label']\n",
    "    y_test = test['label']\n",
    "    \n",
    "    features = []\n",
    "    for feat in train.columns.values:\n",
    "        if 'lex' in feat:\n",
    "            features.append(feat)\n",
    "    features.extend(['roberta_prediction', 'syntax_ari', 'social_karma'])\n",
    "    \n",
    "    X_train = train[features]\n",
    "    X_test = test[features]\n",
    "    \n",
    "    return X_train, y_train, X_test, y_test\n",
    "\n",
    "def evaluate(test_labels, y_pred):\n",
    "    acc = accuracy_score(test_labels, y_pred)\n",
    "    rec = recall_score(test_labels, y_pred, zero_division=1)\n",
    "    prec = precision_score(test_labels, y_pred, zero_division=1)\n",
    "    f1 = f1_score(test_labels, y_pred, zero_division=1)\n",
    "    print(\"Accuracy: \", acc)\n",
    "    print(\"Recall: \", rec)\n",
    "    print(\"Precision: \", prec)\n",
    "    print(\"F1: \", f1)"
   ]
  },
  {
   "cell_type": "markdown",
   "id": "ec932a36",
   "metadata": {},
   "source": [
    "## Grid Search"
   ]
  },
  {
   "cell_type": "markdown",
   "id": "4922eeaf",
   "metadata": {},
   "source": [
    "### Logistic regression"
   ]
  },
  {
   "cell_type": "code",
   "execution_count": 3,
   "id": "513973a3",
   "metadata": {
    "scrolled": true
   },
   "outputs": [
    {
     "name": "stdout",
     "output_type": "stream",
     "text": [
      "Fitting 5 folds for each of 18 candidates, totalling 90 fits\n"
     ]
    },
    {
     "name": "stderr",
     "output_type": "stream",
     "text": [
      "C:\\Users\\38599\\anaconda3\\lib\\site-packages\\sklearn\\model_selection\\_search.py:922: UserWarning: One or more of the test scores are non-finite: [0.89667657 0.89531903 0.89567113        nan        nan        nan\n",
      " 0.9004022  0.90005368 0.90005368        nan        nan        nan\n",
      " 0.89858957 0.89829633 0.89858957        nan        nan        nan]\n",
      "  warnings.warn(\n"
     ]
    },
    {
     "name": "stdout",
     "output_type": "stream",
     "text": [
      "Accuracy:  0.8223776223776224\n",
      "Recall:  0.907859078590786\n",
      "Precision:  0.7827102803738317\n",
      "F1:  0.8406524466750314\n"
     ]
    }
   ],
   "source": [
    "from sklearn.preprocessing import StandardScaler\n",
    "from sklearn.model_selection import GridSearchCV\n",
    "from sklearn.linear_model import LogisticRegression\n",
    "\n",
    "X_train, y_train, X_test, y_test = prepare_data(dataset_path_train = 'train_pred_roberta_our_scraped_data.csv', dataset_path_test = 'test_pred_roberta_our_scraped_data.csv')\n",
    "#sclr = StandardScaler()\n",
    "#X_train = sclr.fit_transform(X_train)\n",
    "#X_test = sclr.transform(X_test)\n",
    "hp = {\n",
    "        'solver': ['liblinear', 'newton-cg', 'lbfgs'],\n",
    "        'penalty': ['l2', 'elasticnet'],\n",
    "        'C': [0.1, 1, 10],\n",
    "    }\n",
    "gs_model = GridSearchCV(LogisticRegression(max_iter=1000000), hp, n_jobs=-1, scoring='f1', verbose=4)\n",
    "gs_model.fit(X_train, y_train)\n",
    "    \n",
    "model = LogisticRegression(max_iter=1000000,**gs_model.best_params_)\n",
    "model.fit(X_train, y_train)\n",
    "y_pred = model.predict(X_test)\n",
    "evaluate(y_test, y_pred)"
   ]
  },
  {
   "cell_type": "code",
   "execution_count": 4,
   "id": "6c859c38",
   "metadata": {},
   "outputs": [
    {
     "data": {
      "text/plain": [
       "{'C': 1, 'penalty': 'l2', 'solver': 'liblinear'}"
      ]
     },
     "execution_count": 4,
     "metadata": {},
     "output_type": "execute_result"
    }
   ],
   "source": [
    "gs_model.best_params_"
   ]
  },
  {
   "cell_type": "code",
   "execution_count": 5,
   "id": "bf86cbdf",
   "metadata": {
    "scrolled": false
   },
   "outputs": [
    {
     "name": "stdout",
     "output_type": "stream",
     "text": [
      "                          coefficient\n",
      "roberta_prediction           4.169896\n",
      "lex_dal_min_pleasantness    -1.091760\n",
      "lex_dal_avg_pleasantness    -1.011313\n",
      "lex_dal_min_activation      -0.964860\n",
      "lex_dal_max_pleasantness    -0.548430\n",
      "lex_liwc_swear               0.462981\n",
      "lex_dal_avg_imagery          0.434238\n",
      "lex_liwc_feel                0.391156\n",
      "lex_dal_min_imagery         -0.344969\n",
      "lex_liwc_death               0.342899\n",
      "lex_dal_max_imagery          0.325529\n",
      "lex_liwc_nonflu              0.296493\n",
      "lex_dal_avg_activation       0.266796\n",
      "lex_liwc_informal           -0.254419\n",
      "lex_liwc_pronoun            -0.238219\n",
      "lex_liwc_ingest             -0.235750\n",
      "lex_liwc_percept            -0.234830\n",
      "lex_liwc_assent              0.233177\n",
      "lex_liwc_hear                0.231064\n",
      "lex_liwc_netspeak            0.229155\n",
      "lex_dal_max_activation      -0.220326\n",
      "lex_liwc_filler              0.173994\n",
      "lex_liwc_friend              0.170552\n",
      "lex_liwc_body               -0.164653\n",
      "lex_liwc_auxverb            -0.155505\n",
      "lex_liwc_ppron               0.153511\n",
      "lex_liwc_see                 0.145944\n",
      "lex_liwc_Colon              -0.137930\n",
      "lex_liwc_certain             0.132311\n",
      "lex_liwc_sexual              0.128670\n",
      "lex_liwc_Apostro             0.128527\n",
      "lex_liwc_tentat              0.126672\n",
      "lex_liwc_anx                 0.122952\n",
      "lex_liwc_negemo             -0.121306\n",
      "lex_liwc_negate             -0.116544\n",
      "lex_liwc_function            0.115262\n",
      "lex_liwc_we                  0.110920\n",
      "lex_liwc_conj               -0.107572\n",
      "lex_liwc_bio                 0.104652\n",
      "lex_liwc_affect              0.102845\n",
      "lex_liwc_article            -0.099212\n",
      "lex_liwc_prep               -0.098152\n",
      "lex_liwc_SemiC               0.096233\n",
      "lex_liwc_family              0.091457\n",
      "lex_liwc_ipron               0.087978\n",
      "lex_liwc_relig              -0.080597\n",
      "lex_liwc_motion             -0.077944\n",
      "lex_liwc_focusfuture        -0.072012\n",
      "lex_liwc_you                 0.067872\n",
      "lex_liwc_compare            -0.067453\n",
      "lex_liwc_Parenth            -0.065272\n",
      "lex_liwc_adverb             -0.064814\n",
      "lex_liwc_OtherP             -0.064728\n",
      "lex_liwc_Dash                0.061592\n",
      "lex_liwc_posemo             -0.058578\n",
      "lex_liwc_they               -0.051935\n",
      "lex_liwc_health             -0.051180\n",
      "lex_liwc_cogproc            -0.049092\n",
      "lex_liwc_anger               0.048657\n",
      "lex_liwc_Exclam              0.048038\n",
      "lex_liwc_risk                0.047896\n",
      "lex_liwc_sad                 0.046729\n",
      "lex_liwc_differ             -0.046634\n",
      "lex_liwc_cause               0.043262\n",
      "lex_liwc_social             -0.042499\n",
      "lex_liwc_quant              -0.039479\n",
      "lex_liwc_Quote              -0.036932\n",
      "lex_liwc_work                0.035805\n",
      "lex_liwc_insight             0.034635\n",
      "lex_liwc_Dic                 0.034126\n",
      "lex_liwc_leisure            -0.033982\n",
      "lex_liwc_i                  -0.030007\n",
      "lex_liwc_female             -0.026840\n",
      "lex_liwc_affiliation         0.026667\n",
      "lex_liwc_QMark               0.024472\n",
      "lex_liwc_male               -0.024126\n",
      "lex_liwc_home                0.023001\n",
      "lex_liwc_shehe               0.022839\n",
      "lex_liwc_achieve             0.022833\n",
      "lex_liwc_drives             -0.020660\n",
      "syntax_ari                  -0.020120\n",
      "lex_liwc_reward             -0.020108\n",
      "lex_liwc_WPS                 0.019904\n",
      "lex_liwc_interrog            0.019216\n",
      "lex_liwc_Comma              -0.018955\n",
      "lex_liwc_relativ             0.018883\n",
      "lex_liwc_focuspresent        0.017880\n",
      "lex_liwc_time               -0.017704\n",
      "lex_liwc_money              -0.017561\n",
      "lex_liwc_space              -0.017306\n",
      "lex_liwc_number              0.016256\n",
      "lex_liwc_verb                0.016090\n",
      "lex_liwc_adj                 0.013423\n",
      "lex_liwc_Clout              -0.012520\n",
      "lex_liwc_focuspast          -0.009561\n",
      "lex_liwc_AllPunc            -0.009251\n",
      "lex_liwc_Tone               -0.007610\n",
      "lex_liwc_Period              0.007320\n",
      "lex_liwc_Analytic           -0.007176\n",
      "lex_liwc_Sixltr              0.006982\n",
      "lex_liwc_discrep            -0.006720\n",
      "lex_liwc_Authentic          -0.005456\n",
      "lex_liwc_power               0.002345\n",
      "lex_liwc_WC                  0.001997\n",
      "social_karma                -0.000972\n"
     ]
    }
   ],
   "source": [
    "cdf = pd.DataFrame(model.coef_.transpose(), X_train.columns.values, columns=['coefficient'])\n",
    "print(cdf.sort_values(by='coefficient',  key=abs, ascending=False).to_string())"
   ]
  },
  {
   "cell_type": "code",
   "execution_count": 6,
   "id": "3c845cbb",
   "metadata": {},
   "outputs": [],
   "source": [
    "import phik\n",
    "def pairs(X, threshold):\n",
    "    corr =  X.phik_matrix(interval_cols=X.columns)\n",
    "    columns = corr.columns\n",
    "    high_corr = dict()\n",
    "    feature_corr_n = dict.fromkeys(X.columns, 0)\n",
    "    for column1 in columns:\n",
    "        for column2 in columns:\n",
    "            value = corr[column1][column2]\n",
    "            if value > threshold and column1 != column2 and (column2, column1) not in high_corr:\n",
    "                high_corr[(column1,column2)] = value\n",
    "    return high_corr"
   ]
  },
  {
   "cell_type": "code",
   "execution_count": 7,
   "id": "76f5d0f5",
   "metadata": {},
   "outputs": [
    {
     "data": {
      "text/plain": [
       "{('lex_liwc_Dic', 'lex_liwc_function'): 0.8742640297022712,\n",
       " ('lex_liwc_function', 'lex_dal_min_imagery'): 0.8719230724812735,\n",
       " ('lex_liwc_pronoun', 'lex_liwc_ppron'): 0.8786921613950186,\n",
       " ('lex_liwc_you', 'lex_dal_min_imagery'): 0.9533623568286118,\n",
       " ('lex_liwc_affect', 'lex_liwc_negemo'): 0.8770119365967479,\n",
       " ('lex_liwc_affect', 'lex_liwc_anger'): 0.8690108478796704,\n",
       " ('lex_liwc_negemo', 'lex_liwc_sad'): 0.8842411498300708,\n",
       " ('lex_liwc_AllPunc', 'lex_liwc_QMark'): 0.8678308171716569,\n",
       " ('lex_liwc_AllPunc', 'lex_liwc_OtherP'): 0.9129396114583693}"
      ]
     },
     "execution_count": 7,
     "metadata": {},
     "output_type": "execute_result"
    }
   ],
   "source": [
    "X_train, y_train, X_test, y_test = prepare_data(dataset_path_train = 'train_pred_roberta_our_scraped_data.csv', dataset_path_test = 'test_pred_roberta_our_scraped_data.csv')\n",
    "high_corr = pairs(X_train, 0.85)\n",
    "high_corr"
   ]
  },
  {
   "cell_type": "code",
   "execution_count": 8,
   "id": "c6783f0f",
   "metadata": {},
   "outputs": [],
   "source": [
    "X_train, y_train, X_test, y_test = prepare_data(dataset_path_train = 'train_pred_roberta_our_scraped_data.csv', dataset_path_test = 'test_pred_roberta_our_scraped_data.csv')\n",
    "to_drop = ['lex_liwc_ppron', 'lex_liwc_AllPunc', 'lex_dal_min_imagery', 'lex_liwc_negemo']\n",
    "X_train = X_train.drop(columns=to_drop)\n",
    "X_test = X_test.drop(columns=to_drop)"
   ]
  },
  {
   "cell_type": "code",
   "execution_count": 9,
   "id": "c0e1dfe9",
   "metadata": {},
   "outputs": [
    {
     "name": "stdout",
     "output_type": "stream",
     "text": [
      "Accuracy:  0.8223776223776224\n",
      "Recall:  0.907859078590786\n",
      "Precision:  0.7827102803738317\n",
      "F1:  0.8406524466750314\n"
     ]
    }
   ],
   "source": [
    "model = LogisticRegression(max_iter=1000000,**gs_model.best_params_)\n",
    "model.fit(X_train, y_train)\n",
    "y_pred = model.predict(X_test)\n",
    "evaluate(y_test, y_pred)"
   ]
  },
  {
   "cell_type": "code",
   "execution_count": 12,
   "id": "47bb1840",
   "metadata": {},
   "outputs": [
    {
     "name": "stdout",
     "output_type": "stream",
     "text": [
      "0.9024844248132702\n",
      "67\n"
     ]
    },
    {
     "data": {
      "image/png": "[encoded data removed]",
      "text/plain": [
       "<Figure size 432x288 with 1 Axes>"
      ]
     },
     "metadata": {
      "needs_background": "light"
     },
     "output_type": "display_data"
    }
   ],
   "source": [
    "from sklearn.feature_selection import SelectKBest\n",
    "from sklearn.model_selection import KFold\n",
    "from sklearn.model_selection import cross_val_score\n",
    "\n",
    "k = 1\n",
    "f1s = []\n",
    "ks = []\n",
    "best = 0\n",
    "kbest = 0\n",
    "while k <= 105:\n",
    "    cv = KFold(n_splits=5, shuffle=True)\n",
    "    scores = cross_val_score(model, X_train, y_train, cv=cv, n_jobs=-1, scoring='f1')\n",
    "    f1 = sum(scores)/len(scores)\n",
    "    ks.append(k)\n",
    "    f1s.append(f1)\n",
    "    if best < f1: \n",
    "        best = f1\n",
    "        kbest = k\n",
    "    k += 1\n",
    "    \n",
    "plt.plot(ks, f1s)\n",
    "plt.xlabel('number of features')\n",
    "plt.ylabel('f1')\n",
    "#plt.ylim([0.83, 0.85])\n",
    "print(best)\n",
    "print(kbest)"
   ]
  },
  {
   "cell_type": "code",
   "execution_count": 13,
   "id": "30d5486b",
   "metadata": {},
   "outputs": [
    {
     "name": "stdout",
     "output_type": "stream",
     "text": [
      "Accuracy:  0.8195804195804196\n",
      "Recall:  0.907859078590786\n",
      "Precision:  0.7790697674418605\n",
      "F1:  0.8385481852315394\n"
     ]
    }
   ],
   "source": [
    "X_train, y_train, X_test, y_test = prepare_data(dataset_path_train = 'train_pred_roberta_our_scraped_data.csv', dataset_path_test = 'test_pred_roberta_our_scraped_data.csv')\n",
    "sel = SelectKBest(k=kbest)\n",
    "X_train_k = sel.fit_transform(X_train, y_train)\n",
    "X_test_k = sel.transform(X_test)\n",
    "model = LogisticRegression(max_iter=1000000,**gs_model.best_params_)\n",
    "model.fit(X_train_k, y_train)\n",
    "y_pred = model.predict(X_test_k)\n",
    "evaluate(y_test, y_pred)"
   ]
  },
  {
   "cell_type": "code",
   "execution_count": 14,
   "id": "e3d1562c",
   "metadata": {},
   "outputs": [
    {
     "name": "stdout",
     "output_type": "stream",
     "text": [
      "                          ANOVA f-value\n",
      "roberta_prediction          4762.131018\n",
      "lex_liwc_Tone                665.667517\n",
      "lex_liwc_Clout               552.525167\n",
      "lex_liwc_i                   541.606144\n",
      "lex_liwc_negemo              502.542804\n",
      "lex_dal_min_pleasantness     275.252875\n",
      "lex_liwc_Authentic           232.533821\n",
      "lex_liwc_posemo              224.200886\n",
      "lex_liwc_anx                 205.861266\n",
      "lex_liwc_social              189.150052\n",
      "lex_liwc_Analytic            185.749398\n",
      "lex_liwc_Dic                 175.701906\n",
      "lex_liwc_function            168.672851\n",
      "lex_liwc_anger               142.856293\n",
      "lex_liwc_you                 131.546897\n",
      "lex_liwc_feel                115.778067\n",
      "lex_liwc_sad                 113.622894\n",
      "lex_liwc_Apostro             103.334092\n",
      "lex_liwc_ppron               103.189466\n",
      "lex_liwc_focuspresent        102.662869\n",
      "lex_liwc_negate              102.503145\n",
      "lex_liwc_pronoun             101.455718\n",
      "lex_liwc_risk                 93.607490\n",
      "lex_liwc_affiliation          92.475708\n",
      "lex_liwc_adverb               91.320239\n",
      "lex_liwc_article              82.497112\n",
      "lex_dal_avg_pleasantness      79.836893\n",
      "lex_liwc_swear                77.171361\n",
      "lex_dal_avg_activation        60.875617\n",
      "lex_liwc_verb                 60.766871\n",
      "lex_liwc_we                   58.117756\n",
      "lex_liwc_affect               56.442698\n",
      "lex_liwc_conj                 51.016713\n",
      "lex_dal_max_activation        49.617272\n",
      "lex_liwc_number               46.525299\n",
      "lex_liwc_Comma                43.921198\n",
      "lex_liwc_female               38.394254\n",
      "lex_liwc_auxverb              38.307838\n",
      "lex_liwc_leisure              32.151968\n",
      "lex_liwc_cause                31.714484\n",
      "lex_liwc_WC                   28.920984\n",
      "lex_liwc_Colon                27.885248\n",
      "lex_liwc_cogproc              27.280489\n",
      "lex_liwc_death                27.187966\n",
      "lex_liwc_insight              26.919387\n",
      "lex_liwc_drives               25.370019\n",
      "lex_liwc_health               25.350726\n",
      "lex_liwc_quant                25.004371\n",
      "syntax_ari                    24.627831\n",
      "lex_liwc_see                  23.364753\n",
      "lex_liwc_interrog             23.217500\n",
      "lex_liwc_AllPunc              21.634918\n",
      "lex_liwc_Sixltr               21.120487\n",
      "lex_liwc_Exclam               20.199305\n",
      "lex_liwc_sexual               18.797433\n",
      "lex_liwc_Parenth              18.707605\n",
      "lex_liwc_body                 18.451798\n",
      "lex_liwc_OtherP               17.578621\n",
      "lex_liwc_ingest               16.495080\n",
      "lex_liwc_bio                  16.018034\n",
      "lex_liwc_work                 15.968600\n",
      "lex_liwc_money                14.502841\n",
      "lex_dal_max_pleasantness      14.156690\n",
      "lex_liwc_WPS                  12.236745\n",
      "lex_liwc_percept              11.676379\n",
      "lex_liwc_they                 11.430504\n",
      "lex_liwc_Dash                 11.360922\n"
     ]
    }
   ],
   "source": [
    "from sklearn.feature_selection import f_classif\n",
    "sdf = pd.DataFrame(f_classif(X_train, y_train)[0].transpose(), X_train.columns.values, columns=['ANOVA f-value'])\n",
    "print(sdf.sort_values(by='ANOVA f-value',  key=abs, ascending=False)[0:kbest].to_string())"
   ]
  }
 ],
 "metadata": {
  "kernelspec": {
   "display_name": "Python 3 (ipykernel)",
   "language": "python",
   "name": "python3"
  },
  "language_info": {
   "codemirror_mode": {
    "name": "ipython",
    "version": 3
   },
   "file_extension": ".py",
   "mimetype": "text/x-python",
   "name": "python",
   "nbconvert_exporter": "python",
   "pygments_lexer": "ipython3",
   "version": "3.9.7"
  }
 },
 "nbformat": 4,
 "nbformat_minor": 5
}
