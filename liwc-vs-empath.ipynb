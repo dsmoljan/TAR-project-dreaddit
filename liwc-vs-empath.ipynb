{
 "cells": [
  {
   "cell_type": "markdown",
   "id": "81262479",
   "metadata": {},
   "source": [
    "# LIWC and Empath Features Comparison on Stress Detection Task\n",
    "\n",
    "This notebook serves the purpose of statistical testing of Empath compared to LIWC on the task of stress detection using the [Dreaddit](https://aclanthology.org/D19-6213/) dataset. \n",
    "\n",
    "Both feature sets are tested on default sklearn implementations of next algorithms:\n",
    "- Logistic Regression, \n",
    "- Support Vector Machine,\n",
    "- Random Forest.\n",
    "\n",
    "Each algorithm is performed both with and without standard scaling.\n",
    "\n",
    "Each algorithm is also performed with different Roberta predictions:\n",
    "- Without Roberta predictions,\n",
    "- Base Roberta predictions,\n",
    "- Roberta predictions adapted on scraped data,\n",
    "- Roberta predictions adapted on  [Mental Health Reddit Posts](https://huggingface.co/datasets/solomonk/reddit_mental_health_posts).\n",
    "\n",
    "In total it makes 20 different McNemar tests."
   ]
  },
  {
   "cell_type": "code",
   "execution_count": 1,
   "id": "62254c14",
   "metadata": {},
   "outputs": [],
   "source": [
    "import pandas as pd\n",
    "import numpy as np\n",
    "import random\n",
    "import phik\n",
    "import warnings\n",
    "import matplotlib.pyplot as plt\n",
    "from sklearn.preprocessing import StandardScaler\n",
    "from sklearn.pipeline import Pipeline\n",
    "from sklearn.linear_model import LogisticRegression\n",
    "from sklearn.ensemble import RandomForestClassifier\n",
    "from sklearn.svm import SVC\n",
    "from sklearn.model_selection import GridSearchCV\n",
    "from sklearn.metrics import *\n",
    "from sklearn.metrics import accuracy_score\n",
    "from sklearn.metrics import f1_score\n",
    "from sklearn.metrics import recall_score\n",
    "from empath import Empath\n",
    "from statsmodels.stats.contingency_tables import mcnemar\n",
    "from mlxtend.evaluate import mcnemar_table\n",
    "from mlxtend.plotting import checkerboard_plot"
   ]
  },
  {
   "cell_type": "code",
   "execution_count": 2,
   "id": "2c0335cd",
   "metadata": {},
   "outputs": [],
   "source": [
    "# for reproducibility:\n",
    "seed = 1\n",
    "def set_seed(seed: int):\n",
    "    random.seed(seed)\n",
    "    np.random.seed(seed)\n",
    "\n",
    "set_seed(seed)"
   ]
  },
  {
   "cell_type": "code",
   "execution_count": 3,
   "id": "16957b41",
   "metadata": {},
   "outputs": [],
   "source": [
    "# Prepares training and testing data for classification from given paths\n",
    "def prepare_data(dataset_path_train = None, dataset_path_test = None, features=None):\n",
    "    if (dataset_path_train is None or dataset_path_test is None):\n",
    "        raise RuntimeException(\"Error! Dataset must be provided\")\n",
    "    X_train = pd.read_csv(dataset_path_train)\n",
    "    X_test = pd.read_csv(dataset_path_test)\n",
    "    \n",
    "    y_train = X_train['label']\n",
    "    y_test = X_test['label']\n",
    "        \n",
    "    X_train = X_train.drop(columns=['label'])\n",
    "    X_test = X_test.drop(columns=['label'])\n",
    "    \n",
    "    \n",
    "    if features is not None:\n",
    "        X_train = X_train[features]\n",
    "        X_test = X_test[features]\n",
    "    \n",
    "    return X_train, y_train, X_test, y_test\n",
    "\n",
    "# Calculates Empath features and adds them to the given dataframe\n",
    "def empath(X):\n",
    "    rows = []\n",
    "    for t in X['text']:\n",
    "        empath = Empath().analyze(t, normalize=True)\n",
    "        rows.append(pd.DataFrame([empath]))\n",
    "    df = pd.concat(rows, ignore_index=True)\n",
    "    X = pd.concat([X,df], axis=1)\n",
    "    return X.drop(columns=['text'])\n",
    "\n",
    "# Returns only lexical features from a given dataframe\n",
    "def lex(X):\n",
    "    features = []\n",
    "    for feat in X.columns.values:\n",
    "        if 'lex' in feat:\n",
    "            features.append(feat)\n",
    "    return features"
   ]
  },
  {
   "cell_type": "code",
   "execution_count": 4,
   "id": "db5563a3",
   "metadata": {},
   "outputs": [],
   "source": [
    "train_base = r'domain-adaptation\\predictions\\train-roberta-base.csv'\n",
    "test_base = r'domain-adaptation\\predictions\\test-roberta-base.csv'\n",
    "train_scr = r'domain-adaptation\\predictions\\train-roberta-scraped.csv'\n",
    "test_scr = r'domain-adaptation\\predictions\\test-roberta-scraped.csv'\n",
    "train_mh = r'domain-adaptation\\predictions\\train-roberta-mentalhealth.csv'\n",
    "test_mh = r'domain-adaptation\\predictions\\test-roberta-mentalhealth.csv'\n",
    "\n",
    "basic = ['roberta_prediction', 'text'] # for creating Empath features\n",
    "to_drop = ['health','banking','night','college','exasperation','reading','worship',    \\\n",
    "           'eating','water','legend','neglect','swimming','love','sympathy','vehicle', \\\n",
    "           'disgust','sound','sailing','warmth','fun','joy','affection','lust','shame', \\\n",
    "           'anger','car','technology','power','white_collar_job','party','cleaning',   \\\n",
    "           'competing','ocean','contentment','musical']\n",
    "lexic = lex(pd.read_csv(train_base))\n",
    "lexic.extend(['roberta_prediction']) # for getting LIWC features"
   ]
  },
  {
   "cell_type": "code",
   "execution_count": 5,
   "id": "be3a41bd",
   "metadata": {},
   "outputs": [],
   "source": [
    "# Evaluates performance of a model given its predictions on the test set\n",
    "def evaluate(y_test, y_pred):\n",
    "    print(\"Accuracy: \", accuracy_score(y_test, y_pred))\n",
    "    print(\"Precision: \", precision_score(y_test, y_pred, zero_division=1))\n",
    "    print(\"Recall: \", recall_score(y_test, y_pred, zero_division=1))\n",
    "    print(\"F1: \", f1_score(y_test, y_pred, zero_division=1))\n",
    "\n",
    "# Returns predictions for a test set for a given model with training and testing data, prints evaluation scores\n",
    "def get_predictions(X_train, y_train, X_test, y_test, model, hp={}):\n",
    "    model.fit(X_train, y_train)\n",
    "    y_pred = model.predict(X_test)\n",
    "    evaluate(y_test, y_pred)\n",
    "    return y_pred\n",
    "\n",
    "# Tests the proportion of errors given two model's predictions using McNemar test with the given level of significance\n",
    "def testsig(y_test, y_model1, y_model2, alpha=0.05):\n",
    "    tb = mcnemar_table(y_target=y_test, y_model1=y_model1, y_model2=y_model2)\n",
    "    brd = checkerboard_plot(tb,\n",
    "                        figsize=(4, 4),\n",
    "                        fmt='%d',\n",
    "                        col_labels=['model 2 correct', 'model 2 incorrect'],\n",
    "                        row_labels=['model 1 correct', 'model 1 incorrect'])\n",
    "    result = mcnemar(tb, exact=False)\n",
    "    print('statistic=%.3f, p-value=%.4f' % (result.statistic, result.pvalue))\n",
    "    if result.pvalue > alpha:\n",
    "        print('Same proportions of errors (fail to reject H0)')\n",
    "    else:\n",
    "        print('Different proportions of errors (reject H0)')\n",
    "    plt.show()"
   ]
  },
  {
   "cell_type": "markdown",
   "id": "47cddf47",
   "metadata": {},
   "source": [
    "## Base roberta"
   ]
  },
  {
   "cell_type": "code",
   "execution_count": 6,
   "id": "0a2d6099",
   "metadata": {},
   "outputs": [],
   "source": [
    "X_train_l, y_train, X_test_l, y_test = prepare_data(dataset_path_train=train_base, dataset_path_test=test_base, features=lexic)\n",
    "X_train_e, y_train, X_test_e, y_test = prepare_data(dataset_path_train=train_base, dataset_path_test=test_base, features=basic)\n",
    "\n",
    "X_train_e = empath(X_train_e)\n",
    "X_test_e = empath(X_test_e)\n",
    "\n",
    "X_train_e = X_train_e.drop(columns=to_drop)\n",
    "X_test_e = X_test_e.drop(columns=to_drop)"
   ]
  },
  {
   "cell_type": "markdown",
   "id": "22255afc",
   "metadata": {},
   "source": [
    "### Logistic Regression"
   ]
  },
  {
   "cell_type": "code",
   "execution_count": 7,
   "id": "4aed7101",
   "metadata": {},
   "outputs": [
    {
     "name": "stdout",
     "output_type": "stream",
     "text": [
      "-- WITH STANDARD SCALING --\n",
      "- LIWC -\n",
      "Accuracy:  0.8111888111888111\n",
      "Precision:  0.7799043062200957\n",
      "Recall:  0.8834688346883469\n",
      "F1:  0.8284625158831003\n",
      "\n",
      "- Empath -\n",
      "Accuracy:  0.8111888111888111\n",
      "Precision:  0.7853658536585366\n",
      "Recall:  0.8726287262872628\n",
      "F1:  0.8267008985879333\n",
      "\n",
      "- MCNEMAR TEST -\n",
      "statistic=0.083, p-value=0.7728\n",
      "Same proportions of errors (fail to reject H0)\n"
     ]
    },
    {
     "data": {
      "image/png": "[encoded data removed]",
      "text/plain": [
       "<Figure size 288x288 with 1 Axes>"
      ]
     },
     "metadata": {
      "needs_background": "light"
     },
     "output_type": "display_data"
    },
    {
     "name": "stdout",
     "output_type": "stream",
     "text": [
      "\n",
      "-- WITHOUT SCALING --\n",
      "- LIWC -\n",
      "Accuracy:  0.8125874125874126\n",
      "Precision:  0.7804295942720764\n",
      "Recall:  0.8861788617886179\n",
      "F1:  0.8299492385786803\n",
      "\n",
      "- Empath -\n",
      "Accuracy:  0.8111888111888111\n",
      "Precision:  0.7785714285714286\n",
      "Recall:  0.8861788617886179\n",
      "F1:  0.8288973384030418\n",
      "\n",
      "- MCNEMAR TEST -\n",
      "statistic=0.000, p-value=1.0000\n",
      "Same proportions of errors (fail to reject H0)\n"
     ]
    },
    {
     "data": {
      "image/png": "[encoded data removed]",
      "text/plain": [
       "<Figure size 288x288 with 1 Axes>"
      ]
     },
     "metadata": {
      "needs_background": "light"
     },
     "output_type": "display_data"
    }
   ],
   "source": [
    "pipe = Pipeline([\n",
    "        ('scale', StandardScaler()),\n",
    "        ('clf', LogisticRegression(max_iter=1000000, random_state=seed))])\n",
    "print('-- WITH STANDARD SCALING --')\n",
    "print('- LIWC -')\n",
    "y_l = get_predictions(X_train_l, y_train, X_test_l, y_test, pipe)\n",
    "print('\\n- Empath -')\n",
    "y_e = get_predictions(X_train_e, y_train, X_test_e, y_test, pipe)\n",
    "\n",
    "print('\\n- MCNEMAR TEST -')\n",
    "testsig(y_test, y_l, y_e)\n",
    "\n",
    "\n",
    "print('\\n-- WITHOUT SCALING --')\n",
    "print('- LIWC -')\n",
    "y_l = get_predictions(X_train_l, y_train, X_test_l, y_test, LogisticRegression(max_iter=1000000, random_state=seed))\n",
    "print('\\n- Empath -')\n",
    "y_e = get_predictions(X_train_e, y_train, X_test_e, y_test, LogisticRegression(max_iter=1000000, random_state=seed))\n",
    "\n",
    "print('\\n- MCNEMAR TEST -')\n",
    "testsig(y_test, y_l, y_e)"
   ]
  },
  {
   "cell_type": "markdown",
   "id": "77f27007",
   "metadata": {},
   "source": [
    "### SVM"
   ]
  },
  {
   "cell_type": "code",
   "execution_count": 8,
   "id": "2c9a4963",
   "metadata": {},
   "outputs": [
    {
     "name": "stdout",
     "output_type": "stream",
     "text": [
      "-- WITH STANDARD SCALING --\n",
      "- LIWC -\n",
      "Accuracy:  0.8097902097902098\n",
      "Precision:  0.7793764988009593\n",
      "Recall:  0.8807588075880759\n",
      "F1:  0.8269720101781172\n",
      "\n",
      "- Empath -\n",
      "Accuracy:  0.806993006993007\n",
      "Precision:  0.7866004962779156\n",
      "Recall:  0.8590785907859079\n",
      "F1:  0.8212435233160622\n",
      "\n",
      "- MCNEMAR TEST -\n",
      "statistic=0.045, p-value=0.8312\n",
      "Same proportions of errors (fail to reject H0)\n"
     ]
    },
    {
     "data": {
      "image/png": "[encoded data removed]",
      "text/plain": [
       "<Figure size 288x288 with 1 Axes>"
      ]
     },
     "metadata": {
      "needs_background": "light"
     },
     "output_type": "display_data"
    },
    {
     "name": "stdout",
     "output_type": "stream",
     "text": [
      "\n",
      "-- WITHOUT SCALING --\n",
      "- LIWC -\n",
      "Accuracy:  0.7552447552447552\n",
      "Precision:  0.7400990099009901\n",
      "Recall:  0.8102981029810298\n",
      "F1:  0.7736093143596376\n",
      "\n",
      "- Empath -\n",
      "Accuracy:  0.8111888111888111\n",
      "Precision:  0.7785714285714286\n",
      "Recall:  0.8861788617886179\n",
      "F1:  0.8288973384030418\n",
      "\n",
      "- MCNEMAR TEST -\n",
      "statistic=10.711, p-value=0.0011\n",
      "Different proportions of errors (reject H0)\n"
     ]
    },
    {
     "data": {
      "image/png": "[encoded data removed]",
      "text/plain": [
       "<Figure size 288x288 with 1 Axes>"
      ]
     },
     "metadata": {
      "needs_background": "light"
     },
     "output_type": "display_data"
    }
   ],
   "source": [
    "pipe = Pipeline([\n",
    "        ('scale', StandardScaler()),\n",
    "        ('clf', SVC(random_state=seed))])\n",
    "\n",
    "print('-- WITH STANDARD SCALING --')\n",
    "print('- LIWC -')\n",
    "y_l = get_predictions(X_train_l, y_train, X_test_l, y_test, pipe)\n",
    "print('\\n- Empath -')\n",
    "y_e = get_predictions(X_train_e, y_train, X_test_e, y_test, pipe)\n",
    "\n",
    "print('\\n- MCNEMAR TEST -')\n",
    "testsig(y_test, y_l, y_e)\n",
    "\n",
    "\n",
    "print('\\n-- WITHOUT SCALING --')\n",
    "print('- LIWC -')\n",
    "y_l = get_predictions(X_train_l, y_train, X_test_l, y_test, SVC(random_state=seed))\n",
    "print('\\n- Empath -')\n",
    "y_e = get_predictions(X_train_e, y_train, X_test_e, y_test, SVC(random_state=seed))\n",
    "\n",
    "print('\\n- MCNEMAR TEST -')\n",
    "testsig(y_test, y_l, y_e)"
   ]
  },
  {
   "cell_type": "markdown",
   "id": "2ad2a7ad",
   "metadata": {},
   "source": [
    "### Random Forest"
   ]
  },
  {
   "cell_type": "code",
   "execution_count": 9,
   "id": "52996826",
   "metadata": {},
   "outputs": [
    {
     "name": "stdout",
     "output_type": "stream",
     "text": [
      "-- WITH STANDARD SCALING --\n",
      "- LIWC -\n",
      "Accuracy:  0.8083916083916084\n",
      "Precision:  0.777511961722488\n",
      "Recall:  0.8807588075880759\n",
      "F1:  0.8259212198221093\n",
      "\n",
      "- Empath -\n",
      "Accuracy:  0.806993006993007\n",
      "Precision:  0.7756563245823389\n",
      "Recall:  0.8807588075880759\n",
      "F1:  0.8248730964467005\n",
      "\n",
      "- MCNEMAR TEST -\n",
      "statistic=0.000, p-value=1.0000\n",
      "Same proportions of errors (fail to reject H0)\n"
     ]
    },
    {
     "data": {
      "image/png": "[encoded data removed]",
      "text/plain": [
       "<Figure size 288x288 with 1 Axes>"
      ]
     },
     "metadata": {
      "needs_background": "light"
     },
     "output_type": "display_data"
    },
    {
     "name": "stdout",
     "output_type": "stream",
     "text": [
      "\n",
      "-- WITHOUT SCALING --\n",
      "- LIWC -\n",
      "Accuracy:  0.8083916083916084\n",
      "Precision:  0.777511961722488\n",
      "Recall:  0.8807588075880759\n",
      "F1:  0.8259212198221093\n",
      "\n",
      "- Empath -\n",
      "Accuracy:  0.806993006993007\n",
      "Precision:  0.7756563245823389\n",
      "Recall:  0.8807588075880759\n",
      "F1:  0.8248730964467005\n",
      "\n",
      "- MCNEMAR TEST -\n",
      "statistic=0.000, p-value=1.0000\n",
      "Same proportions of errors (fail to reject H0)\n"
     ]
    },
    {
     "data": {
      "image/png": "[encoded data removed]",
      "text/plain": [
       "<Figure size 288x288 with 1 Axes>"
      ]
     },
     "metadata": {
      "needs_background": "light"
     },
     "output_type": "display_data"
    }
   ],
   "source": [
    "pipe = Pipeline([\n",
    "        ('scale', StandardScaler()),\n",
    "        ('clf',  RandomForestClassifier(random_state=seed))])\n",
    "\n",
    "print('-- WITH STANDARD SCALING --')\n",
    "print('- LIWC -')\n",
    "y_l = get_predictions(X_train_l, y_train, X_test_l, y_test, pipe)\n",
    "print('\\n- Empath -')\n",
    "y_e = get_predictions(X_train_e, y_train, X_test_e, y_test, pipe)\n",
    "\n",
    "print('\\n- MCNEMAR TEST -')\n",
    "testsig(y_test, y_l, y_e)\n",
    "\n",
    "\n",
    "print('\\n-- WITHOUT SCALING --')\n",
    "print('- LIWC -')\n",
    "y_l = get_predictions(X_train_l, y_train, X_test_l, y_test, RandomForestClassifier(random_state=seed))\n",
    "print('\\n- Empath -')\n",
    "y_e = get_predictions(X_train_e, y_train, X_test_e, y_test, RandomForestClassifier(random_state=seed))\n",
    "\n",
    "print('\\n- MCNEMAR TEST -')\n",
    "testsig(y_test, y_l, y_e)"
   ]
  },
  {
   "cell_type": "markdown",
   "id": "79df5e5e",
   "metadata": {},
   "source": [
    "## Scraped data"
   ]
  },
  {
   "cell_type": "code",
   "execution_count": 10,
   "id": "99752aa0",
   "metadata": {},
   "outputs": [],
   "source": [
    "X_train_l, y_train, X_test_l, y_test = prepare_data(dataset_path_train=train_scr, dataset_path_test=test_scr, features=lexic)\n",
    "X_train_e, y_train, X_test_e, y_test = prepare_data(dataset_path_train=train_scr, dataset_path_test=test_scr, features=basic)\n",
    "\n",
    "X_train_e = empath(X_train_e)\n",
    "X_test_e = empath(X_test_e)\n",
    "\n",
    "X_train_e = X_train_e.drop(columns=to_drop)\n",
    "X_test_e = X_test_e.drop(columns=to_drop)"
   ]
  },
  {
   "cell_type": "markdown",
   "id": "4377b7b8",
   "metadata": {},
   "source": [
    "### Logistic Regression"
   ]
  },
  {
   "cell_type": "code",
   "execution_count": 11,
   "id": "cd12e657",
   "metadata": {},
   "outputs": [
    {
     "name": "stdout",
     "output_type": "stream",
     "text": [
      "-- WITH STANDARD SCALING --\n",
      "- LIWC -\n",
      "Accuracy:  0.8195804195804196\n",
      "Precision:  0.7790697674418605\n",
      "Recall:  0.907859078590786\n",
      "F1:  0.8385481852315394\n",
      "\n",
      "- Empath -\n",
      "Accuracy:  0.8223776223776224\n",
      "Precision:  0.7880952380952381\n",
      "Recall:  0.8970189701897019\n",
      "F1:  0.8390367553865653\n",
      "\n",
      "- MCNEMAR TEST -\n",
      "statistic=0.056, p-value=0.8137\n",
      "Same proportions of errors (fail to reject H0)\n"
     ]
    },
    {
     "data": {
      "image/png": "[encoded data removed]",
      "text/plain": [
       "<Figure size 288x288 with 1 Axes>"
      ]
     },
     "metadata": {
      "needs_background": "light"
     },
     "output_type": "display_data"
    },
    {
     "name": "stdout",
     "output_type": "stream",
     "text": [
      "\n",
      "-- WITHOUT SCALING --\n",
      "- LIWC -\n",
      "Accuracy:  0.8195804195804196\n",
      "Precision:  0.7790697674418605\n",
      "Recall:  0.907859078590786\n",
      "F1:  0.8385481852315394\n",
      "\n",
      "- Empath -\n",
      "Accuracy:  0.8167832167832167\n",
      "Precision:  0.7741935483870968\n",
      "Recall:  0.9105691056910569\n",
      "F1:  0.8368617683686178\n",
      "\n",
      "- MCNEMAR TEST -\n",
      "statistic=0.250, p-value=0.6171\n",
      "Same proportions of errors (fail to reject H0)\n"
     ]
    },
    {
     "data": {
      "image/png": "[encoded data removed]",
      "text/plain": [
       "<Figure size 288x288 with 1 Axes>"
      ]
     },
     "metadata": {
      "needs_background": "light"
     },
     "output_type": "display_data"
    }
   ],
   "source": [
    "pipe = Pipeline([\n",
    "        ('scale', StandardScaler()),\n",
    "        ('clf', LogisticRegression(max_iter=1000000, random_state=seed))])\n",
    "print('-- WITH STANDARD SCALING --')\n",
    "print('- LIWC -')\n",
    "y_l = get_predictions(X_train_l, y_train, X_test_l, y_test, pipe)\n",
    "print('\\n- Empath -')\n",
    "y_e = get_predictions(X_train_e, y_train, X_test_e, y_test, pipe)\n",
    "\n",
    "print('\\n- MCNEMAR TEST -')\n",
    "testsig(y_test, y_l, y_e)\n",
    "\n",
    "\n",
    "print('\\n-- WITHOUT SCALING --')\n",
    "print('- LIWC -')\n",
    "y_l = get_predictions(X_train_l, y_train, X_test_l, y_test, LogisticRegression(max_iter=1000000, random_state=seed))\n",
    "print('\\n- Empath -')\n",
    "y_e = get_predictions(X_train_e, y_train, X_test_e, y_test, LogisticRegression(max_iter=1000000, random_state=seed))\n",
    "\n",
    "print('\\n- MCNEMAR TEST -')\n",
    "testsig(y_test, y_l, y_e)"
   ]
  },
  {
   "cell_type": "markdown",
   "id": "3fecae75",
   "metadata": {},
   "source": [
    "### SVM"
   ]
  },
  {
   "cell_type": "code",
   "execution_count": 12,
   "id": "6f1c1f0c",
   "metadata": {},
   "outputs": [
    {
     "name": "stdout",
     "output_type": "stream",
     "text": [
      "-- WITH STANDARD SCALING --\n",
      "- LIWC -\n",
      "Accuracy:  0.8153846153846154\n",
      "Precision:  0.7762237762237763\n",
      "Recall:  0.9024390243902439\n",
      "F1:  0.8345864661654137\n",
      "\n",
      "- Empath -\n",
      "Accuracy:  0.813986013986014\n",
      "Precision:  0.7864077669902912\n",
      "Recall:  0.8780487804878049\n",
      "F1:  0.8297055057618438\n",
      "\n",
      "- MCNEMAR TEST -\n",
      "statistic=0.000, p-value=1.0000\n",
      "Same proportions of errors (fail to reject H0)\n"
     ]
    },
    {
     "data": {
      "image/png": "[encoded data removed]",
      "text/plain": [
       "<Figure size 288x288 with 1 Axes>"
      ]
     },
     "metadata": {
      "needs_background": "light"
     },
     "output_type": "display_data"
    },
    {
     "name": "stdout",
     "output_type": "stream",
     "text": [
      "\n",
      "-- WITHOUT SCALING --\n",
      "- LIWC -\n",
      "Accuracy:  0.7552447552447552\n",
      "Precision:  0.7400990099009901\n",
      "Recall:  0.8102981029810298\n",
      "F1:  0.7736093143596376\n",
      "\n",
      "- Empath -\n",
      "Accuracy:  0.8167832167832167\n",
      "Precision:  0.7741935483870968\n",
      "Recall:  0.9105691056910569\n",
      "F1:  0.8368617683686178\n",
      "\n",
      "- MCNEMAR TEST -\n",
      "statistic=12.664, p-value=0.0004\n",
      "Different proportions of errors (reject H0)\n"
     ]
    },
    {
     "data": {
      "image/png": "[encoded data removed]",
      "text/plain": [
       "<Figure size 288x288 with 1 Axes>"
      ]
     },
     "metadata": {
      "needs_background": "light"
     },
     "output_type": "display_data"
    }
   ],
   "source": [
    "pipe = Pipeline([\n",
    "        ('scale', StandardScaler()),\n",
    "        ('clf', SVC(random_state=seed))])\n",
    "\n",
    "print('-- WITH STANDARD SCALING --')\n",
    "print('- LIWC -')\n",
    "y_l = get_predictions(X_train_l, y_train, X_test_l, y_test, pipe)\n",
    "print('\\n- Empath -')\n",
    "y_e = get_predictions(X_train_e, y_train, X_test_e, y_test, pipe)\n",
    "\n",
    "print('\\n- MCNEMAR TEST -')\n",
    "testsig(y_test, y_l, y_e)\n",
    "\n",
    "\n",
    "print('\\n-- WITHOUT SCALING --')\n",
    "print('- LIWC -')\n",
    "y_l = get_predictions(X_train_l, y_train, X_test_l, y_test, SVC(random_state=seed))\n",
    "print('\\n- Empath -')\n",
    "y_e = get_predictions(X_train_e, y_train, X_test_e, y_test, SVC(random_state=seed))\n",
    "\n",
    "print('\\n- MCNEMAR TEST -')\n",
    "testsig(y_test, y_l, y_e)"
   ]
  },
  {
   "cell_type": "markdown",
   "id": "898f2e83",
   "metadata": {},
   "source": [
    "### Random Forest"
   ]
  },
  {
   "cell_type": "code",
   "execution_count": 13,
   "id": "adfe6ba8",
   "metadata": {},
   "outputs": [
    {
     "name": "stdout",
     "output_type": "stream",
     "text": [
      "-- WITH STANDARD SCALING --\n",
      "- LIWC -\n",
      "Accuracy:  0.8111888111888111\n",
      "Precision:  0.7746478873239436\n",
      "Recall:  0.8943089430894309\n",
      "F1:  0.830188679245283\n",
      "\n",
      "- Empath -\n",
      "Accuracy:  0.8181818181818182\n",
      "Precision:  0.7798594847775175\n",
      "Recall:  0.9024390243902439\n",
      "F1:  0.8366834170854272\n",
      "\n",
      "- MCNEMAR TEST -\n",
      "statistic=1.231, p-value=0.2673\n",
      "Same proportions of errors (fail to reject H0)\n"
     ]
    },
    {
     "data": {
      "image/png": "[encoded data removed]",
      "text/plain": [
       "<Figure size 288x288 with 1 Axes>"
      ]
     },
     "metadata": {
      "needs_background": "light"
     },
     "output_type": "display_data"
    },
    {
     "name": "stdout",
     "output_type": "stream",
     "text": [
      "\n",
      "-- WITHOUT SCALING --\n",
      "- LIWC -\n",
      "Accuracy:  0.8111888111888111\n",
      "Precision:  0.7746478873239436\n",
      "Recall:  0.8943089430894309\n",
      "F1:  0.830188679245283\n",
      "\n",
      "- Empath -\n",
      "Accuracy:  0.8181818181818182\n",
      "Precision:  0.7798594847775175\n",
      "Recall:  0.9024390243902439\n",
      "F1:  0.8366834170854272\n",
      "\n",
      "- MCNEMAR TEST -\n",
      "statistic=1.231, p-value=0.2673\n",
      "Same proportions of errors (fail to reject H0)\n"
     ]
    },
    {
     "data": {
      "image/png": "[encoded data removed]",
      "text/plain": [
       "<Figure size 288x288 with 1 Axes>"
      ]
     },
     "metadata": {
      "needs_background": "light"
     },
     "output_type": "display_data"
    }
   ],
   "source": [
    "pipe = Pipeline([\n",
    "        ('scale', StandardScaler()),\n",
    "        ('clf',  RandomForestClassifier(random_state=seed))])\n",
    "\n",
    "print('-- WITH STANDARD SCALING --')\n",
    "print('- LIWC -')\n",
    "y_l = get_predictions(X_train_l, y_train, X_test_l, y_test, pipe)\n",
    "print('\\n- Empath -')\n",
    "y_e = get_predictions(X_train_e, y_train, X_test_e, y_test, pipe)\n",
    "\n",
    "print('\\n- MCNEMAR TEST -')\n",
    "testsig(y_test, y_l, y_e)\n",
    "\n",
    "\n",
    "print('\\n-- WITHOUT SCALING --')\n",
    "print('- LIWC -')\n",
    "y_l = get_predictions(X_train_l, y_train, X_test_l, y_test, RandomForestClassifier(random_state=seed))\n",
    "print('\\n- Empath -')\n",
    "y_e = get_predictions(X_train_e, y_train, X_test_e, y_test, RandomForestClassifier(random_state=seed))\n",
    "\n",
    "print('\\n- MCNEMAR TEST -')\n",
    "testsig(y_test, y_l, y_e)"
   ]
  },
  {
   "cell_type": "markdown",
   "id": "a27f6331",
   "metadata": {},
   "source": [
    "## Mental Health Reddit Posts"
   ]
  },
  {
   "cell_type": "code",
   "execution_count": 14,
   "id": "23799d28",
   "metadata": {},
   "outputs": [],
   "source": [
    "X_train_l, y_train, X_test_l, y_test = prepare_data(dataset_path_train=train_mh, dataset_path_test=test_mh, features=lexic)\n",
    "X_train_e, y_train, X_test_e, y_test = prepare_data(dataset_path_train=train_mh, dataset_path_test=test_mh, features=basic)\n",
    "\n",
    "X_train_e = empath(X_train_e)\n",
    "X_test_e = empath(X_test_e)\n",
    "\n",
    "X_train_e = X_train_e.drop(columns=to_drop)\n",
    "X_test_e = X_test_e.drop(columns=to_drop)"
   ]
  },
  {
   "cell_type": "markdown",
   "id": "70cb6177",
   "metadata": {},
   "source": [
    "### Logistic Regression"
   ]
  },
  {
   "cell_type": "code",
   "execution_count": 15,
   "id": "7a1f019d",
   "metadata": {},
   "outputs": [
    {
     "name": "stdout",
     "output_type": "stream",
     "text": [
      "-- WITH STANDARD SCALING --\n",
      "- LIWC -\n",
      "Accuracy:  0.8195804195804196\n",
      "Precision:  0.7777777777777778\n",
      "Recall:  0.9105691056910569\n",
      "F1:  0.8389513108614233\n",
      "\n",
      "- Empath -\n",
      "Accuracy:  0.8223776223776224\n",
      "Precision:  0.784037558685446\n",
      "Recall:  0.9051490514905149\n",
      "F1:  0.8402515723270441\n",
      "\n",
      "- MCNEMAR TEST -\n",
      "statistic=0.045, p-value=0.8312\n",
      "Same proportions of errors (fail to reject H0)\n"
     ]
    },
    {
     "data": {
      "image/png": "[encoded data removed]",
      "text/plain": [
       "<Figure size 288x288 with 1 Axes>"
      ]
     },
     "metadata": {
      "needs_background": "light"
     },
     "output_type": "display_data"
    },
    {
     "name": "stdout",
     "output_type": "stream",
     "text": [
      "\n",
      "-- WITHOUT SCALING --\n",
      "- LIWC -\n",
      "Accuracy:  0.8181818181818182\n",
      "Precision:  0.777262180974478\n",
      "Recall:  0.907859078590786\n",
      "F1:  0.8374999999999999\n",
      "\n",
      "- Empath -\n",
      "Accuracy:  0.8181818181818182\n",
      "Precision:  0.7709750566893424\n",
      "Recall:  0.9214092140921409\n",
      "F1:  0.8395061728395061\n",
      "\n",
      "- MCNEMAR TEST -\n",
      "statistic=0.100, p-value=0.7518\n",
      "Same proportions of errors (fail to reject H0)\n"
     ]
    },
    {
     "data": {
      "image/png": "[encoded data removed]",
      "text/plain": [
       "<Figure size 288x288 with 1 Axes>"
      ]
     },
     "metadata": {
      "needs_background": "light"
     },
     "output_type": "display_data"
    }
   ],
   "source": [
    "pipe = Pipeline([\n",
    "        ('scale', StandardScaler()),\n",
    "        ('clf', LogisticRegression(max_iter=1000000, random_state=seed))])\n",
    "print('-- WITH STANDARD SCALING --')\n",
    "print('- LIWC -')\n",
    "y_l = get_predictions(X_train_l, y_train, X_test_l, y_test, pipe)\n",
    "print('\\n- Empath -')\n",
    "y_e = get_predictions(X_train_e, y_train, X_test_e, y_test, pipe)\n",
    "\n",
    "print('\\n- MCNEMAR TEST -')\n",
    "testsig(y_test, y_l, y_e)\n",
    "\n",
    "\n",
    "print('\\n-- WITHOUT SCALING --')\n",
    "print('- LIWC -')\n",
    "y_l = get_predictions(X_train_l, y_train, X_test_l, y_test, LogisticRegression(max_iter=1000000, random_state=seed))\n",
    "print('\\n- Empath -')\n",
    "y_e = get_predictions(X_train_e, y_train, X_test_e, y_test, LogisticRegression(max_iter=1000000, random_state=seed))\n",
    "\n",
    "print('\\n- MCNEMAR TEST -')\n",
    "testsig(y_test, y_l, y_e)"
   ]
  },
  {
   "cell_type": "markdown",
   "id": "a11992ca",
   "metadata": {},
   "source": [
    "### SVM"
   ]
  },
  {
   "cell_type": "code",
   "execution_count": 16,
   "id": "364bb347",
   "metadata": {},
   "outputs": [
    {
     "name": "stdout",
     "output_type": "stream",
     "text": [
      "-- WITH STANDARD SCALING --\n",
      "- LIWC -\n",
      "Accuracy:  0.8181818181818182\n",
      "Precision:  0.7734553775743707\n",
      "Recall:  0.9159891598915989\n",
      "F1:  0.8387096774193549\n",
      "\n",
      "- Empath -\n",
      "Accuracy:  0.813986013986014\n",
      "Precision:  0.7783018867924528\n",
      "Recall:  0.8943089430894309\n",
      "F1:  0.832282471626734\n",
      "\n",
      "- MCNEMAR TEST -\n",
      "statistic=0.174, p-value=0.6767\n",
      "Same proportions of errors (fail to reject H0)\n"
     ]
    },
    {
     "data": {
      "image/png": "[encoded data removed]",
      "text/plain": [
       "<Figure size 288x288 with 1 Axes>"
      ]
     },
     "metadata": {
      "needs_background": "light"
     },
     "output_type": "display_data"
    },
    {
     "name": "stdout",
     "output_type": "stream",
     "text": [
      "\n",
      "-- WITHOUT SCALING --\n",
      "- LIWC -\n",
      "Accuracy:  0.7538461538461538\n",
      "Precision:  0.7382716049382716\n",
      "Recall:  0.8102981029810298\n",
      "F1:  0.7726098191214469\n",
      "\n",
      "- Empath -\n",
      "Accuracy:  0.8181818181818182\n",
      "Precision:  0.7709750566893424\n",
      "Recall:  0.9214092140921409\n",
      "F1:  0.8395061728395061\n",
      "\n",
      "- MCNEMAR TEST -\n",
      "statistic=13.322, p-value=0.0003\n",
      "Different proportions of errors (reject H0)\n"
     ]
    },
    {
     "data": {
      "image/png": "[encoded data removed]",
      "text/plain": [
       "<Figure size 288x288 with 1 Axes>"
      ]
     },
     "metadata": {
      "needs_background": "light"
     },
     "output_type": "display_data"
    }
   ],
   "source": [
    "pipe = Pipeline([\n",
    "        ('scale', StandardScaler()),\n",
    "        ('clf', SVC(random_state=seed))])\n",
    "\n",
    "print('-- WITH STANDARD SCALING --')\n",
    "print('- LIWC -')\n",
    "y_l = get_predictions(X_train_l, y_train, X_test_l, y_test, pipe)\n",
    "print('\\n- Empath -')\n",
    "y_e = get_predictions(X_train_e, y_train, X_test_e, y_test, pipe)\n",
    "\n",
    "print('\\n- MCNEMAR TEST -')\n",
    "testsig(y_test, y_l, y_e)\n",
    "\n",
    "\n",
    "print('\\n-- WITHOUT SCALING --')\n",
    "print('- LIWC -')\n",
    "y_l = get_predictions(X_train_l, y_train, X_test_l, y_test, SVC(random_state=seed))\n",
    "print('\\n- Empath -')\n",
    "y_e = get_predictions(X_train_e, y_train, X_test_e, y_test, SVC(random_state=seed))\n",
    "\n",
    "print('\\n- MCNEMAR TEST -')\n",
    "testsig(y_test, y_l, y_e)"
   ]
  },
  {
   "cell_type": "markdown",
   "id": "3b03a587",
   "metadata": {},
   "source": [
    "### Random Forest"
   ]
  },
  {
   "cell_type": "code",
   "execution_count": 17,
   "id": "01064543",
   "metadata": {},
   "outputs": [
    {
     "name": "stdout",
     "output_type": "stream",
     "text": [
      "-- WITH STANDARD SCALING --\n",
      "- LIWC -\n",
      "Accuracy:  0.8083916083916084\n",
      "Precision:  0.7735849056603774\n",
      "Recall:  0.8888888888888888\n",
      "F1:  0.8272383354350568\n",
      "\n",
      "- Empath -\n",
      "Accuracy:  0.8167832167832167\n",
      "Precision:  0.7754629629629629\n",
      "Recall:  0.907859078590786\n",
      "F1:  0.8364544319600499\n",
      "\n",
      "- MCNEMAR TEST -\n",
      "statistic=1.042, p-value=0.3074\n",
      "Same proportions of errors (fail to reject H0)\n"
     ]
    },
    {
     "data": {
      "image/png": "[encoded data removed]",
      "text/plain": [
       "<Figure size 288x288 with 1 Axes>"
      ]
     },
     "metadata": {
      "needs_background": "light"
     },
     "output_type": "display_data"
    },
    {
     "name": "stdout",
     "output_type": "stream",
     "text": [
      "\n",
      "-- WITHOUT SCALING --\n",
      "- LIWC -\n",
      "Accuracy:  0.8083916083916084\n",
      "Precision:  0.7735849056603774\n",
      "Recall:  0.8888888888888888\n",
      "F1:  0.8272383354350568\n",
      "\n",
      "- Empath -\n",
      "Accuracy:  0.8167832167832167\n",
      "Precision:  0.7754629629629629\n",
      "Recall:  0.907859078590786\n",
      "F1:  0.8364544319600499\n",
      "\n",
      "- MCNEMAR TEST -\n",
      "statistic=1.042, p-value=0.3074\n",
      "Same proportions of errors (fail to reject H0)\n"
     ]
    },
    {
     "data": {
      "image/png": "[encoded data removed]",
      "text/plain": [
       "<Figure size 288x288 with 1 Axes>"
      ]
     },
     "metadata": {
      "needs_background": "light"
     },
     "output_type": "display_data"
    }
   ],
   "source": [
    "pipe = Pipeline([\n",
    "        ('scale', StandardScaler()),\n",
    "        ('clf',  RandomForestClassifier(random_state=seed))])\n",
    "\n",
    "print('-- WITH STANDARD SCALING --')\n",
    "print('- LIWC -')\n",
    "y_l = get_predictions(X_train_l, y_train, X_test_l, y_test, pipe)\n",
    "print('\\n- Empath -')\n",
    "y_e = get_predictions(X_train_e, y_train, X_test_e, y_test, pipe)\n",
    "\n",
    "print('\\n- MCNEMAR TEST -')\n",
    "testsig(y_test, y_l, y_e)\n",
    "\n",
    "\n",
    "print('\\n-- WITHOUT SCALING --')\n",
    "print('- LIWC -')\n",
    "y_l = get_predictions(X_train_l, y_train, X_test_l, y_test, RandomForestClassifier(random_state=seed))\n",
    "print('\\n- Empath -')\n",
    "y_e = get_predictions(X_train_e, y_train, X_test_e, y_test, RandomForestClassifier(random_state=seed))\n",
    "\n",
    "print('\\n- MCNEMAR TEST -')\n",
    "testsig(y_test, y_l, y_e)"
   ]
  },
  {
   "cell_type": "markdown",
   "id": "56675516",
   "metadata": {},
   "source": [
    "## No Roberta Predictions"
   ]
  },
  {
   "cell_type": "code",
   "execution_count": 18,
   "id": "be3ac7f0",
   "metadata": {},
   "outputs": [],
   "source": [
    "X_train_l = X_train_l.drop(columns=['roberta_prediction'])\n",
    "X_test_l = X_test_l.drop(columns=['roberta_prediction'])\n",
    "X_train_e = X_train_e.drop(columns=['roberta_prediction'])\n",
    "X_test_e = X_test_e.drop(columns=['roberta_prediction'])"
   ]
  },
  {
   "cell_type": "markdown",
   "id": "143ce587",
   "metadata": {},
   "source": [
    "### Logistic Regression"
   ]
  },
  {
   "cell_type": "code",
   "execution_count": 19,
   "id": "a596f7ca",
   "metadata": {},
   "outputs": [
    {
     "name": "stdout",
     "output_type": "stream",
     "text": [
      "-- WITH STANDARD SCALING --\n",
      "- LIWC -\n",
      "Accuracy:  0.7342657342657343\n",
      "Precision:  0.7220843672456576\n",
      "Recall:  0.7886178861788617\n",
      "F1:  0.7538860103626943\n",
      "\n",
      "- Empath -\n",
      "Accuracy:  0.6895104895104895\n",
      "Precision:  0.6939313984168866\n",
      "Recall:  0.7127371273712737\n",
      "F1:  0.7032085561497325\n",
      "\n",
      "- MCNEMAR TEST -\n",
      "statistic=4.665, p-value=0.0308\n",
      "Different proportions of errors (reject H0)\n"
     ]
    },
    {
     "data": {
      "image/png": "[encoded data removed]",
      "text/plain": [
       "<Figure size 288x288 with 1 Axes>"
      ]
     },
     "metadata": {
      "needs_background": "light"
     },
     "output_type": "display_data"
    },
    {
     "name": "stdout",
     "output_type": "stream",
     "text": [
      "\n",
      "-- WITHOUT SCALING --\n",
      "- LIWC -\n",
      "Accuracy:  0.7384615384615385\n",
      "Precision:  0.7286432160804021\n",
      "Recall:  0.7859078590785907\n",
      "F1:  0.7561929595827901\n",
      "\n",
      "- Empath -\n",
      "Accuracy:  0.6937062937062937\n",
      "Precision:  0.6720183486238532\n",
      "Recall:  0.7940379403794038\n",
      "F1:  0.7279503105590062\n",
      "\n",
      "- MCNEMAR TEST -\n",
      "statistic=5.280, p-value=0.0216\n",
      "Different proportions of errors (reject H0)\n"
     ]
    },
    {
     "data": {
      "image/png": "[encoded data removed]",
      "text/plain": [
       "<Figure size 288x288 with 1 Axes>"
      ]
     },
     "metadata": {
      "needs_background": "light"
     },
     "output_type": "display_data"
    }
   ],
   "source": [
    "pipe = Pipeline([\n",
    "        ('scale', StandardScaler()),\n",
    "        ('clf', LogisticRegression(max_iter=1000000, random_state=seed))])\n",
    "print('-- WITH STANDARD SCALING --')\n",
    "print('- LIWC -')\n",
    "y_l = get_predictions(X_train_l, y_train, X_test_l, y_test, pipe)\n",
    "print('\\n- Empath -')\n",
    "y_e = get_predictions(X_train_e, y_train, X_test_e, y_test, pipe)\n",
    "\n",
    "print('\\n- MCNEMAR TEST -')\n",
    "testsig(y_test, y_l, y_e)\n",
    "\n",
    "\n",
    "print('\\n-- WITHOUT SCALING --')\n",
    "print('- LIWC -')\n",
    "y_l = get_predictions(X_train_l, y_train, X_test_l, y_test, LogisticRegression(max_iter=1000000, random_state=seed))\n",
    "print('\\n- Empath -')\n",
    "y_e = get_predictions(X_train_e, y_train, X_test_e, y_test, LogisticRegression(max_iter=1000000, random_state=seed))\n",
    "\n",
    "print('\\n- MCNEMAR TEST -')\n",
    "testsig(y_test, y_l, y_e)"
   ]
  },
  {
   "cell_type": "markdown",
   "id": "f848f078",
   "metadata": {},
   "source": [
    "### SVM"
   ]
  },
  {
   "cell_type": "code",
   "execution_count": 20,
   "id": "78c702b2",
   "metadata": {},
   "outputs": [
    {
     "name": "stdout",
     "output_type": "stream",
     "text": [
      "-- WITH STANDARD SCALING --\n",
      "- LIWC -\n",
      "Accuracy:  0.7608391608391608\n",
      "Precision:  0.75\n",
      "Recall:  0.8048780487804879\n",
      "F1:  0.7764705882352942\n",
      "\n",
      "- Empath -\n",
      "Accuracy:  0.6909090909090909\n",
      "Precision:  0.7032967032967034\n",
      "Recall:  0.6937669376693767\n",
      "F1:  0.69849931787176\n",
      "\n",
      "- MCNEMAR TEST -\n",
      "statistic=13.192, p-value=0.0003\n",
      "Different proportions of errors (reject H0)\n"
     ]
    },
    {
     "data": {
      "image/png": "[encoded data removed]",
      "text/plain": [
       "<Figure size 288x288 with 1 Axes>"
      ]
     },
     "metadata": {
      "needs_background": "light"
     },
     "output_type": "display_data"
    },
    {
     "name": "stdout",
     "output_type": "stream",
     "text": [
      "\n",
      "-- WITHOUT SCALING --\n",
      "- LIWC -\n",
      "Accuracy:  0.7524475524475525\n",
      "Precision:  0.7376237623762376\n",
      "Recall:  0.8075880758807588\n",
      "F1:  0.7710219922380336\n",
      "\n",
      "- Empath -\n",
      "Accuracy:  0.7104895104895105\n",
      "Precision:  0.7120418848167539\n",
      "Recall:  0.7371273712737128\n",
      "F1:  0.7243675099866844\n",
      "\n",
      "- MCNEMAR TEST -\n",
      "statistic=4.672, p-value=0.0307\n",
      "Different proportions of errors (reject H0)\n"
     ]
    },
    {
     "data": {
      "image/png": "[encoded data removed]",
      "text/plain": [
       "<Figure size 288x288 with 1 Axes>"
      ]
     },
     "metadata": {
      "needs_background": "light"
     },
     "output_type": "display_data"
    }
   ],
   "source": [
    "pipe = Pipeline([\n",
    "        ('scale', StandardScaler()),\n",
    "        ('clf', SVC(random_state=seed))])\n",
    "\n",
    "print('-- WITH STANDARD SCALING --')\n",
    "print('- LIWC -')\n",
    "y_l = get_predictions(X_train_l, y_train, X_test_l, y_test, pipe)\n",
    "print('\\n- Empath -')\n",
    "y_e = get_predictions(X_train_e, y_train, X_test_e, y_test, pipe)\n",
    "\n",
    "print('\\n- MCNEMAR TEST -')\n",
    "testsig(y_test, y_l, y_e)\n",
    "\n",
    "\n",
    "print('\\n-- WITHOUT SCALING --')\n",
    "print('- LIWC -')\n",
    "y_l = get_predictions(X_train_l, y_train, X_test_l, y_test, SVC(random_state=seed))\n",
    "print('\\n- Empath -')\n",
    "y_e = get_predictions(X_train_e, y_train, X_test_e, y_test, SVC(random_state=seed))\n",
    "\n",
    "print('\\n- MCNEMAR TEST -')\n",
    "testsig(y_test, y_l, y_e)"
   ]
  },
  {
   "cell_type": "markdown",
   "id": "29a39cca",
   "metadata": {},
   "source": [
    "### Random Forest"
   ]
  },
  {
   "cell_type": "code",
   "execution_count": 21,
   "id": "0bf4809f",
   "metadata": {},
   "outputs": [
    {
     "name": "stdout",
     "output_type": "stream",
     "text": [
      "-- WITH STANDARD SCALING --\n",
      "- LIWC -\n",
      "Accuracy:  0.7538461538461538\n",
      "Precision:  0.7443037974683544\n",
      "Recall:  0.7967479674796748\n",
      "F1:  0.7696335078534031\n",
      "\n",
      "- Empath -\n",
      "Accuracy:  0.6937062937062937\n",
      "Precision:  0.6913265306122449\n",
      "Recall:  0.7344173441734417\n",
      "F1:  0.712220762155059\n",
      "\n",
      "- MCNEMAR TEST -\n",
      "statistic=9.855, p-value=0.0017\n",
      "Different proportions of errors (reject H0)\n"
     ]
    },
    {
     "data": {
      "image/png": "[encoded data removed]",
      "text/plain": [
       "<Figure size 288x288 with 1 Axes>"
      ]
     },
     "metadata": {
      "needs_background": "light"
     },
     "output_type": "display_data"
    },
    {
     "name": "stdout",
     "output_type": "stream",
     "text": [
      "\n",
      "-- WITHOUT SCALING --\n",
      "- LIWC -\n",
      "Accuracy:  0.7552447552447552\n",
      "Precision:  0.7461928934010152\n",
      "Recall:  0.7967479674796748\n",
      "F1:  0.7706422018348624\n",
      "\n",
      "- Empath -\n",
      "Accuracy:  0.6937062937062937\n",
      "Precision:  0.6913265306122449\n",
      "Recall:  0.7344173441734417\n",
      "F1:  0.712220762155059\n",
      "\n",
      "- MCNEMAR TEST -\n",
      "statistic=10.388, p-value=0.0013\n",
      "Different proportions of errors (reject H0)\n"
     ]
    },
    {
     "data": {
      "image/png": "[encoded data removed]",
      "text/plain": [
       "<Figure size 288x288 with 1 Axes>"
      ]
     },
     "metadata": {
      "needs_background": "light"
     },
     "output_type": "display_data"
    }
   ],
   "source": [
    "pipe = Pipeline([\n",
    "        ('scale', StandardScaler()),\n",
    "        ('clf',  RandomForestClassifier(random_state=seed))])\n",
    "\n",
    "print('-- WITH STANDARD SCALING --')\n",
    "print('- LIWC -')\n",
    "y_l = get_predictions(X_train_l, y_train, X_test_l, y_test, pipe)\n",
    "print('\\n- Empath -')\n",
    "y_e = get_predictions(X_train_e, y_train, X_test_e, y_test, pipe)\n",
    "\n",
    "print('\\n- MCNEMAR TEST -')\n",
    "testsig(y_test, y_l, y_e)\n",
    "\n",
    "\n",
    "print('\\n-- WITHOUT SCALING --')\n",
    "print('- LIWC -')\n",
    "y_l = get_predictions(X_train_l, y_train, X_test_l, y_test, RandomForestClassifier(random_state=seed))\n",
    "print('\\n- Empath -')\n",
    "y_e = get_predictions(X_train_e, y_train, X_test_e, y_test, RandomForestClassifier(random_state=seed))\n",
    "\n",
    "print('\\n- MCNEMAR TEST -')\n",
    "testsig(y_test, y_l, y_e)"
   ]
  },
  {
   "cell_type": "markdown",
   "id": "b6cdb242",
   "metadata": {},
   "source": [
    "## Conclusion\n",
    "\n",
    "When used **without Roberta predictions, LIWC features outperform Empath features** at the level of significance 0.05, but **when used in combination with Roberta predictions there are no significant differences in proportion of errors**, what is more, when used without standard scaling, Empath features sometimes outperform LIWC features."
   ]
  }
 ],
 "metadata": {
  "kernelspec": {
   "display_name": "Python 3 (ipykernel)",
   "language": "python",
   "name": "python3"
  },
  "language_info": {
   "codemirror_mode": {
    "name": "ipython",
    "version": 3
   },
   "file_extension": ".py",
   "mimetype": "text/x-python",
   "name": "python",
   "nbconvert_exporter": "python",
   "pygments_lexer": "ipython3",
   "version": "3.9.7"
  }
 },
 "nbformat": 4,
 "nbformat_minor": 5
}
