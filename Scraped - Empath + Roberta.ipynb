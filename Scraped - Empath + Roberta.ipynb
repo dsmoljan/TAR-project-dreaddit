{
 "cells": [
  {
   "cell_type": "code",
   "execution_count": 1,
   "id": "a86d55b3",
   "metadata": {},
   "outputs": [],
   "source": [
    "import pandas as pd\n",
    "import numpy as np\n",
    "from sklearn.metrics import *\n",
    "from sklearn.metrics import accuracy_score\n",
    "from sklearn.metrics import f1_score\n",
    "from sklearn.metrics import recall_score\n",
    "from sklearn.linear_model import LogisticRegression\n",
    "import random\n",
    "import matplotlib.pyplot as plt\n",
    "\n",
    "def set_seed(seed: int):\n",
    "    random.seed(seed)\n",
    "    np.random.seed(seed)\n",
    "\n",
    "set_seed(1)"
   ]
  },
  {
   "cell_type": "code",
   "execution_count": 2,
   "id": "98c9518d",
   "metadata": {},
   "outputs": [],
   "source": [
    "def prepare_data(dataset_path_train = None,dataset_path_test = None):\n",
    "    if (dataset_path_train is None or dataset_path_test is None):\n",
    "        raise RuntimeException(\"Error! Dataset must be provided\")\n",
    "    train = pd.read_csv(dataset_path_train)\n",
    "    test = pd.read_csv(dataset_path_test)\n",
    "    \n",
    "    y_train = train['label']\n",
    "    y_test = test['label']\n",
    "    \n",
    "    X_train = train[['roberta_prediction', 'text']]\n",
    "    X_test = test[['roberta_prediction', 'text']]\n",
    "    \n",
    "    return X_train, y_train, X_test, y_test\n",
    "\n",
    "def prepare_lex_data(dataset_path_train = None,dataset_path_test = None):\n",
    "    if (dataset_path_train is None or dataset_path_test is None):\n",
    "        raise RuntimeException(\"Error! Dataset must be provided\")\n",
    "    train = pd.read_csv(dataset_path_train)\n",
    "    test = pd.read_csv(dataset_path_test)\n",
    "    \n",
    "    y_train = train['label']\n",
    "    y_test = test['label']\n",
    "    \n",
    "    features = []\n",
    "    for feat in train.columns.values:\n",
    "        if 'lex' in feat:\n",
    "            features.append(feat)\n",
    "    features.extend(['roberta_prediction', 'syntax_ari', 'social_karma'])\n",
    "    \n",
    "    X_train = train[features]\n",
    "    X_test = test[features]\n",
    "    \n",
    "    return X_train, y_train, X_test, y_test\n",
    "\n",
    "def evaluate(test_labels, y_pred):\n",
    "    acc = accuracy_score(test_labels, y_pred)\n",
    "    rec = recall_score(test_labels, y_pred, zero_division=1)\n",
    "    prec = precision_score(test_labels, y_pred, zero_division=1)\n",
    "    f1 = f1_score(test_labels, y_pred, zero_division=1)\n",
    "    print(\"Accuracy: \", acc)\n",
    "    print(\"Recall: \", rec)\n",
    "    print(\"Precision: \", prec)\n",
    "    print(\"F1: \", f1)"
   ]
  },
  {
   "cell_type": "code",
   "execution_count": 3,
   "id": "4380ea87",
   "metadata": {},
   "outputs": [],
   "source": [
    "from empath import Empath\n",
    "lexicon = Empath()\n",
    "\n",
    "def empath(X):\n",
    "    rows = []\n",
    "    for t in X['text']:\n",
    "        empath = lexicon.analyze(t, normalize=True)\n",
    "        rows.append(pd.DataFrame([empath]))\n",
    "    df = pd.concat(rows, ignore_index=True)\n",
    "    X = pd.concat([X,df], axis=1)\n",
    "    return X.drop(columns=['text'])"
   ]
  },
  {
   "cell_type": "code",
   "execution_count": 4,
   "id": "027feae0",
   "metadata": {},
   "outputs": [],
   "source": [
    "X_train, y_train, X_test, y_test = prepare_data(dataset_path_train = 'train_pred_roberta_our_scraped_data.csv', dataset_path_test = 'test_pred_roberta_our_scraped_data.csv')\n",
    "X_train = empath(X_train)\n",
    "X_test = empath(X_test)"
   ]
  },
  {
   "cell_type": "code",
   "execution_count": 5,
   "id": "c4fe7514",
   "metadata": {},
   "outputs": [],
   "source": [
    "import phik\n",
    "def pairs(X, threshold):\n",
    "    corr =  X.phik_matrix(interval_cols=X.columns)\n",
    "    columns = corr.columns\n",
    "    high_corr = dict()\n",
    "    feature_corr_n = dict.fromkeys(X.columns, 0)\n",
    "    for column1 in columns:\n",
    "        for column2 in columns:\n",
    "            value = corr[column1][column2]\n",
    "            if value > threshold and column1 != column2 and (column2, column1) not in high_corr:\n",
    "                high_corr[(column1,column2)] = value\n",
    "    return high_corr"
   ]
  },
  {
   "cell_type": "code",
   "execution_count": 6,
   "id": "21359667",
   "metadata": {},
   "outputs": [],
   "source": [
    "def cutoff_features(threshold, X):\n",
    "    corr_matrix =  X.phik_matrix(interval_cols=X.columns)\n",
    "    upper_tri = corr_matrix.abs().where(np.triu(np.ones(corr_matrix.shape), k=1).astype(np.bool_))\n",
    "    to_drop = [column for column in upper_tri.columns if any(upper_tri[column] > float(threshold))]\n",
    "    return to_drop\n",
    "to_drop = cutoff_features(0.85, X_train)"
   ]
  },
  {
   "cell_type": "code",
   "execution_count": 7,
   "id": "f13d7dff",
   "metadata": {},
   "outputs": [
    {
     "data": {
      "text/plain": [
       "['health',\n",
       " 'banking',\n",
       " 'night',\n",
       " 'college',\n",
       " 'exasperation',\n",
       " 'reading',\n",
       " 'worship',\n",
       " 'eating',\n",
       " 'water',\n",
       " 'legend',\n",
       " 'neglect',\n",
       " 'swimming',\n",
       " 'love',\n",
       " 'sympathy',\n",
       " 'vehicle',\n",
       " 'disgust',\n",
       " 'sound',\n",
       " 'sailing',\n",
       " 'warmth',\n",
       " 'fun',\n",
       " 'joy',\n",
       " 'affection',\n",
       " 'lust',\n",
       " 'shame',\n",
       " 'anger',\n",
       " 'car',\n",
       " 'technology',\n",
       " 'power',\n",
       " 'white_collar_job',\n",
       " 'party',\n",
       " 'cleaning',\n",
       " 'competing',\n",
       " 'ocean',\n",
       " 'contentment',\n",
       " 'musical']"
      ]
     },
     "execution_count": 7,
     "metadata": {},
     "output_type": "execute_result"
    }
   ],
   "source": [
    "to_drop"
   ]
  },
  {
   "cell_type": "code",
   "execution_count": 8,
   "id": "6babe1f0",
   "metadata": {},
   "outputs": [],
   "source": [
    "X_train = X_train.drop(columns=to_drop)\n",
    "X_test = X_test.drop(columns=to_drop)"
   ]
  },
  {
   "cell_type": "code",
   "execution_count": 9,
   "id": "d26e5fce",
   "metadata": {},
   "outputs": [
    {
     "data": {
      "text/plain": [
       "\"from sklearn.linear_model import LogisticRegression\\nfrom sklearn.model_selection import GridSearchCV\\nfrom sklearn.preprocessing import StandardScaler\\n\\nhp = {\\n        'solver': ['liblinear', 'newton-cg', 'lbfgs'],\\n        'penalty': ['l2', 'elasticnet'],\\n        'C': [0.1, 1, 10],\\n}\\n\\nsclr = StandardScaler()\\nX_train_s = sclr.fit_transform(X_train)\\nX_test_s = sclr.transform(X_test)\\ngs_model = GridSearchCV(LogisticRegression(max_iter=1000000), hp, n_jobs=-1, scoring='f1', verbose=4)\\ngs_model.fit(X_train_s, y_train)\\n\\nmodel = LogisticRegression(max_iter=1000000, **gs_model.best_params_)\\nmodel.fit(X_train_s, y_train)\\ny_pred = model.predict(X_test_s)\\nevaluate(y_test, y_pred)\""
      ]
     },
     "execution_count": 9,
     "metadata": {},
     "output_type": "execute_result"
    }
   ],
   "source": [
    "'''from sklearn.linear_model import LogisticRegression\n",
    "from sklearn.model_selection import GridSearchCV\n",
    "from sklearn.preprocessing import StandardScaler\n",
    "\n",
    "hp = {\n",
    "        'solver': ['liblinear', 'newton-cg', 'lbfgs'],\n",
    "        'penalty': ['l2', 'elasticnet'],\n",
    "        'C': [0.1, 1, 10],\n",
    "}\n",
    "\n",
    "sclr = StandardScaler()\n",
    "X_train_s = sclr.fit_transform(X_train)\n",
    "X_test_s = sclr.transform(X_test)\n",
    "gs_model = GridSearchCV(LogisticRegression(max_iter=1000000), hp, n_jobs=-1, scoring='f1', verbose=4)\n",
    "gs_model.fit(X_train_s, y_train)\n",
    "\n",
    "model = LogisticRegression(max_iter=1000000, **gs_model.best_params_)\n",
    "model.fit(X_train_s, y_train)\n",
    "y_pred = model.predict(X_test_s)\n",
    "evaluate(y_test, y_pred)'''"
   ]
  },
  {
   "cell_type": "code",
   "execution_count": 10,
   "id": "46558dd2",
   "metadata": {},
   "outputs": [
    {
     "ename": "NameError",
     "evalue": "name 'GridSearchCV' is not defined",
     "output_type": "error",
     "traceback": [
      "\u001b[1;31m---------------------------------------------------------------------------\u001b[0m",
      "\u001b[1;31mNameError\u001b[0m                                 Traceback (most recent call last)",
      "\u001b[1;32m~\\AppData\\Local\\Temp/ipykernel_28012/57901524.py\u001b[0m in \u001b[0;36m<module>\u001b[1;34m\u001b[0m\n\u001b[0;32m      7\u001b[0m         \u001b[1;34m'min_samples_split'\u001b[0m\u001b[1;33m:\u001b[0m \u001b[1;33m[\u001b[0m\u001b[1;36m2\u001b[0m\u001b[1;33m,\u001b[0m \u001b[1;36m4\u001b[0m\u001b[1;33m]\u001b[0m\u001b[1;33m\u001b[0m\u001b[1;33m\u001b[0m\u001b[0m\n\u001b[0;32m      8\u001b[0m     }\n\u001b[1;32m----> 9\u001b[1;33m \u001b[0mgs_model\u001b[0m \u001b[1;33m=\u001b[0m \u001b[0mGridSearchCV\u001b[0m\u001b[1;33m(\u001b[0m\u001b[0mRandomForestClassifier\u001b[0m\u001b[1;33m(\u001b[0m\u001b[1;33m)\u001b[0m\u001b[1;33m,\u001b[0m \u001b[0mhp\u001b[0m\u001b[1;33m,\u001b[0m \u001b[0mn_jobs\u001b[0m\u001b[1;33m=\u001b[0m\u001b[1;33m-\u001b[0m\u001b[1;36m1\u001b[0m\u001b[1;33m,\u001b[0m \u001b[0mscoring\u001b[0m\u001b[1;33m=\u001b[0m\u001b[1;34m'f1'\u001b[0m\u001b[1;33m,\u001b[0m \u001b[0mverbose\u001b[0m\u001b[1;33m=\u001b[0m\u001b[1;36m4\u001b[0m\u001b[1;33m)\u001b[0m\u001b[1;33m\u001b[0m\u001b[1;33m\u001b[0m\u001b[0m\n\u001b[0m\u001b[0;32m     10\u001b[0m \u001b[0mgs_model\u001b[0m\u001b[1;33m.\u001b[0m\u001b[0mfit\u001b[0m\u001b[1;33m(\u001b[0m\u001b[0mX_train\u001b[0m\u001b[1;33m,\u001b[0m \u001b[0my_train\u001b[0m\u001b[1;33m)\u001b[0m\u001b[1;33m\u001b[0m\u001b[1;33m\u001b[0m\u001b[0m\n\u001b[0;32m     11\u001b[0m \u001b[1;33m\u001b[0m\u001b[0m\n",
      "\u001b[1;31mNameError\u001b[0m: name 'GridSearchCV' is not defined"
     ]
    }
   ],
   "source": [
    "\n",
    "from sklearn.ensemble import RandomForestClassifier\n",
    "\n",
    "hp = {\n",
    "        'n_estimators': [50, 200],\n",
    "        'max_features': ['auto', 'sqrt', 'log2'],\n",
    "        'criterion': ['gini', 'entropy'],\n",
    "        'min_samples_split': [2, 4]\n",
    "    }\n",
    "gs_model = GridSearchCV(RandomForestClassifier(), hp, n_jobs=-1, scoring='f1', verbose=4)\n",
    "gs_model.fit(X_train, y_train)\n",
    "    \n",
    "model = RandomForestClassifier(**gs_model.best_params_)\n",
    "model.fit(X_train, y_train)\n",
    "y_pred = model.predict(X_test)\n",
    "evaluate(y_test, y_pred)"
   ]
  },
  {
   "cell_type": "code",
   "execution_count": null,
   "id": "0c659713",
   "metadata": {
    "scrolled": true
   },
   "outputs": [],
   "source": [
    "cdf = pd.DataFrame(model.coef_.transpose(), X_train.columns, columns=['coefficient'])\n",
    "print(cdf.sort_values(by='coefficient',  key=abs, ascending=False).to_string())"
   ]
  },
  {
   "cell_type": "code",
   "execution_count": null,
   "id": "61ff13ae",
   "metadata": {},
   "outputs": [],
   "source": [
    "from sklearn.svm import SVC\n",
    "\n",
    "sclr = StandardScaler()\n",
    "X_train_s = sclr.fit_transform(X_train)\n",
    "X_test_s = sclr.transform(X_test)\n",
    "hp = {\n",
    "        'kernel': ['linear'],\n",
    "        'gamma': [1000, 100, 10, 1, 0.1, 0.01],\n",
    "        'C': [0.01, 0.1, 1, 10],\n",
    "    }\n",
    "gs_model = GridSearchCV(SVC(), hp, n_jobs=-1, scoring='f1', verbose=4)\n",
    "gs_model.fit(X_train_s, y_train)\n",
    "    \n",
    "model = SVC(**gs_model.best_params_)\n",
    "model.fit(X_train_s, y_train)\n",
    "y_pred = model.predict(X_test_s)\n",
    "evaluate(y_test, y_pred)"
   ]
  },
  {
   "cell_type": "code",
   "execution_count": null,
   "id": "0bb1ad1c",
   "metadata": {},
   "outputs": [],
   "source": [
    "X_train_l, y_train, X_test_l, y_test = prepare_lex_data(dataset_path_train = 'train_pred_roberta_our_scraped_data.csv', dataset_path_test = 'test_pred_roberta_our_scraped_data.csv')"
   ]
  },
  {
   "cell_type": "code",
   "execution_count": null,
   "id": "6890522e",
   "metadata": {},
   "outputs": [],
   "source": [
    "model_l = LogisticRegression(max_iter=1000000)\n",
    "model_l.fit(X_train_l, y_train)\n",
    "y_pred_l = model_l.predict(X_test_l)\n",
    "evaluate(y_test, y_pred_l)"
   ]
  },
  {
   "cell_type": "code",
   "execution_count": null,
   "id": "941ae768",
   "metadata": {},
   "outputs": [],
   "source": [
    "X_train_b, y_train, X_test_b, y_test = prepare_lex_data(dataset_path_train = 'train_pred_base_roberta.csv', dataset_path_test = 'test_pred_base_roberta.csv')"
   ]
  },
  {
   "cell_type": "code",
   "execution_count": null,
   "id": "5ba284e8",
   "metadata": {},
   "outputs": [],
   "source": [
    "model_b = LogisticRegression(max_iter=1000000)\n",
    "model_b.fit(X_train_b, y_train)\n",
    "y_pred_b = model_b.predict(X_test_b)\n",
    "evaluate(y_test, y_pred_b)"
   ]
  },
  {
   "cell_type": "code",
   "execution_count": null,
   "id": "7d750181",
   "metadata": {},
   "outputs": [],
   "source": [
    "from statsmodels.stats.contingency_tables import mcnemar\n",
    "from mlxtend.evaluate import mcnemar_table\n",
    "from mlxtend.plotting import checkerboard_plot\n",
    "\n",
    "def testsig(y_test, y_model1, y_model2, alpha=0.05):\n",
    "    tb = mcnemar_table(y_target=y_test, \n",
    "                   y_model1=y_pred_b, \n",
    "                   y_model2=y_pred)\n",
    "    brd = checkerboard_plot(tb,\n",
    "                        figsize=(4, 4),\n",
    "                        fmt='%d',\n",
    "                        col_labels=['model 2 correct', 'model 2 incorrect'],\n",
    "                        row_labels=['model 1 correct', 'model 1 incorrect'])\n",
    "    \n",
    "    result = mcnemar(tb, exact=False)\n",
    "    print('statistic=%.3f, p-value=%.3f' % (result.statistic, result.pvalue))\n",
    "    if result.pvalue > alpha:\n",
    "        print('Same proportions of errors (fail to reject H0)')\n",
    "    else:\n",
    "        print('Different proportions of errors (reject H0)')"
   ]
  },
  {
   "cell_type": "code",
   "execution_count": null,
   "id": "531c77ce",
   "metadata": {},
   "outputs": [],
   "source": [
    "print('Base + LIWC vs Fine tuned + Empath')\n",
    "testsig(y_test, y_pred_b, y_pred, alpha=0.05)"
   ]
  },
  {
   "cell_type": "markdown",
   "id": "153e2058",
   "metadata": {},
   "source": [
    "Our final model is not better than the one Knežević et al. used."
   ]
  },
  {
   "cell_type": "code",
   "execution_count": null,
   "id": "3503bf8b",
   "metadata": {},
   "outputs": [],
   "source": [
    "print('Fine tuned + LIWC vs Fine tuned + Empath')\n",
    "testsig(y_test, y_pred_l, y_pred, alpha=0.05)"
   ]
  },
  {
   "cell_type": "markdown",
   "id": "ee949121",
   "metadata": {},
   "source": [
    "Empath features can replace LIWC features."
   ]
  },
  {
   "cell_type": "markdown",
   "id": "cb5d0b13",
   "metadata": {},
   "source": [
    "### Error analysis"
   ]
  },
  {
   "cell_type": "code",
   "execution_count": null,
   "id": "d35c3163",
   "metadata": {},
   "outputs": [],
   "source": [
    "indexes = []\n",
    "predictions = []\n",
    "for index, (first, second) in enumerate(zip(y_test, y_pred)):\n",
    "    if first != second:\n",
    "        indexes.append(index)\n",
    "        predictions.append(second)\n",
    "        \n",
    "indexes2 = []\n",
    "predictions2 = []\n",
    "for index, (first, second) in enumerate(zip(y_test, y_pred_l)):\n",
    "    if first != second:\n",
    "        indexes2.append(index)\n",
    "        predictions2.append(second)"
   ]
  },
  {
   "cell_type": "code",
   "execution_count": null,
   "id": "9437033b",
   "metadata": {},
   "outputs": [],
   "source": [
    "sum(predictions)/len(predictions)"
   ]
  },
  {
   "cell_type": "code",
   "execution_count": null,
   "id": "007ef837",
   "metadata": {},
   "outputs": [],
   "source": [
    "sum(predictions2)/len(predictions2)"
   ]
  },
  {
   "cell_type": "code",
   "execution_count": null,
   "id": "169dd2f2",
   "metadata": {
    "scrolled": false
   },
   "outputs": [],
   "source": [
    "test_ex = pd.read_csv('dreaddit-test.csv')[['text', 'label']]\n",
    "for i in indexes:\n",
    "    if i not in indexes2:\n",
    "        print(test_ex.loc[[i]].to_string())"
   ]
  },
  {
   "cell_type": "code",
   "execution_count": null,
   "id": "799ba094",
   "metadata": {},
   "outputs": [],
   "source": [
    "test_ex = pd.read_csv('dreaddit-test.csv')[['text', 'label']]\n",
    "for i in indexes2:\n",
    "    if i not in indexes:\n",
    "        print(test_ex.loc[[i]].to_string())"
   ]
  },
  {
   "cell_type": "code",
   "execution_count": null,
   "id": "f48fde7c",
   "metadata": {
    "scrolled": true
   },
   "outputs": [],
   "source": [
    "inter = np.intersect1d(indexes, indexes2)\n",
    "suma = 0\n",
    "for i in inter:\n",
    "    print(test_ex.loc[[i]].to_string())\n",
    "    suma += test_ex['label'].iloc[i]"
   ]
  }
 ],
 "metadata": {
  "kernelspec": {
   "display_name": "Python 3 (ipykernel)",
   "language": "python",
   "name": "python3"
  },
  "language_info": {
   "codemirror_mode": {
    "name": "ipython",
    "version": 3
   },
   "file_extension": ".py",
   "mimetype": "text/x-python",
   "name": "python",
   "nbconvert_exporter": "python",
   "pygments_lexer": "ipython3",
   "version": "3.9.7"
  }
 },
 "nbformat": 4,
 "nbformat_minor": 5
}
