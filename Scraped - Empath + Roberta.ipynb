{
 "cells": [
  {
   "cell_type": "code",
   "execution_count": 1,
   "id": "a86d55b3",
   "metadata": {},
   "outputs": [],
   "source": [
    "import pandas as pd\n",
    "import numpy as np\n",
    "from sklearn.metrics import *\n",
    "from sklearn.metrics import accuracy_score\n",
    "from sklearn.metrics import f1_score\n",
    "from sklearn.metrics import recall_score\n",
    "from sklearn.linear_model import LogisticRegression\n",
    "import random\n",
    "import matplotlib.pyplot as plt\n",
    "\n",
    "def set_seed(seed: int):\n",
    "    random.seed(seed)\n",
    "    np.random.seed(seed)\n",
    "\n",
    "set_seed(1)"
   ]
  },
  {
   "cell_type": "code",
   "execution_count": 2,
   "id": "98c9518d",
   "metadata": {},
   "outputs": [],
   "source": [
    "def prepare_data(dataset_path_train = None,dataset_path_test = None):\n",
    "    if (dataset_path_train is None or dataset_path_test is None):\n",
    "        raise RuntimeException(\"Error! Dataset must be provided\")\n",
    "    train = pd.read_csv(dataset_path_train)\n",
    "    test = pd.read_csv(dataset_path_test)\n",
    "    \n",
    "    y_train = train['label']\n",
    "    y_test = test['label']\n",
    "    \n",
    "    X_train = train[['roberta_prediction', 'text']]\n",
    "    X_test = test[['roberta_prediction', 'text']]\n",
    "    \n",
    "    return X_train, y_train, X_test, y_test\n",
    "\n",
    "def prepare_lex_data(dataset_path_train = None,dataset_path_test = None):\n",
    "    if (dataset_path_train is None or dataset_path_test is None):\n",
    "        raise RuntimeException(\"Error! Dataset must be provided\")\n",
    "    train = pd.read_csv(dataset_path_train)\n",
    "    test = pd.read_csv(dataset_path_test)\n",
    "    \n",
    "    y_train = train['label']\n",
    "    y_test = test['label']\n",
    "    \n",
    "    features = []\n",
    "    for feat in train.columns.values:\n",
    "        if 'lex' in feat:\n",
    "            features.append(feat)\n",
    "    features.extend(['roberta_prediction', 'syntax_ari', 'social_karma'])\n",
    "    \n",
    "    X_train = train[features]\n",
    "    X_test = test[features]\n",
    "    \n",
    "    return X_train, y_train, X_test, y_test\n",
    "\n",
    "def evaluate(test_labels, y_pred):\n",
    "    acc = accuracy_score(test_labels, y_pred)\n",
    "    rec = recall_score(test_labels, y_pred, zero_division=1)\n",
    "    prec = precision_score(test_labels, y_pred, zero_division=1)\n",
    "    f1 = f1_score(test_labels, y_pred, zero_division=1)\n",
    "    print(\"Accuracy: \", acc)\n",
    "    print(\"Recall: \", rec)\n",
    "    print(\"Precision: \", prec)\n",
    "    print(\"F1: \", f1)"
   ]
  },
  {
   "cell_type": "code",
   "execution_count": 3,
   "id": "4380ea87",
   "metadata": {},
   "outputs": [],
   "source": [
    "from empath import Empath\n",
    "lexicon = Empath()\n",
    "\n",
    "def empath(X):\n",
    "    rows = []\n",
    "    for t in X['text']:\n",
    "        empath = lexicon.analyze(t, normalize=True)\n",
    "        rows.append(pd.DataFrame([empath]))\n",
    "    df = pd.concat(rows, ignore_index=True)\n",
    "    X = pd.concat([X,df], axis=1)\n",
    "    return X.drop(columns=['text'])"
   ]
  },
  {
   "cell_type": "code",
   "execution_count": 4,
   "id": "027feae0",
   "metadata": {},
   "outputs": [],
   "source": [
    "X_train, y_train, X_test, y_test = prepare_data(dataset_path_train = 'train_pred_roberta_our_scraped_data.csv', dataset_path_test = 'test_pred_roberta_our_scraped_data.csv')\n",
    "X_train = empath(X_train)\n",
    "X_test = empath(X_test)"
   ]
  },
  {
   "cell_type": "code",
   "execution_count": 5,
   "id": "c4fe7514",
   "metadata": {},
   "outputs": [],
   "source": [
    "import phik\n",
    "def pairs(X, threshold):\n",
    "    corr =  X.phik_matrix(interval_cols=X.columns)\n",
    "    columns = corr.columns\n",
    "    high_corr = dict()\n",
    "    feature_corr_n = dict.fromkeys(X.columns, 0)\n",
    "    for column1 in columns:\n",
    "        for column2 in columns:\n",
    "            value = corr[column1][column2]\n",
    "            if value > threshold and column1 != column2 and (column2, column1) not in high_corr:\n",
    "                high_corr[(column1,column2)] = value\n",
    "    return high_corr"
   ]
  },
  {
   "cell_type": "code",
   "execution_count": 6,
   "id": "21359667",
   "metadata": {},
   "outputs": [],
   "source": [
    "def cutoff_features(threshold, X):\n",
    "    corr_matrix =  X.phik_matrix(interval_cols=X.columns)\n",
    "    upper_tri = corr_matrix.abs().where(np.triu(np.ones(corr_matrix.shape), k=1).astype(np.bool_))\n",
    "    to_drop = [column for column in upper_tri.columns if any(upper_tri[column] > float(threshold))]\n",
    "    return to_drop\n",
    "to_drop = cutoff_features(0.85, X_train)"
   ]
  },
  {
   "cell_type": "code",
   "execution_count": 7,
   "id": "f13d7dff",
   "metadata": {},
   "outputs": [
    {
     "data": {
      "text/plain": [
       "['health',\n",
       " 'banking',\n",
       " 'night',\n",
       " 'college',\n",
       " 'exasperation',\n",
       " 'reading',\n",
       " 'worship',\n",
       " 'eating',\n",
       " 'water',\n",
       " 'legend',\n",
       " 'neglect',\n",
       " 'swimming',\n",
       " 'love',\n",
       " 'sympathy',\n",
       " 'vehicle',\n",
       " 'disgust',\n",
       " 'sound',\n",
       " 'sailing',\n",
       " 'warmth',\n",
       " 'fun',\n",
       " 'joy',\n",
       " 'affection',\n",
       " 'lust',\n",
       " 'shame',\n",
       " 'anger',\n",
       " 'car',\n",
       " 'technology',\n",
       " 'power',\n",
       " 'white_collar_job',\n",
       " 'party',\n",
       " 'cleaning',\n",
       " 'competing',\n",
       " 'ocean',\n",
       " 'contentment',\n",
       " 'musical']"
      ]
     },
     "execution_count": 7,
     "metadata": {},
     "output_type": "execute_result"
    }
   ],
   "source": [
    "to_drop"
   ]
  },
  {
   "cell_type": "code",
   "execution_count": 8,
   "id": "6babe1f0",
   "metadata": {},
   "outputs": [],
   "source": [
    "X_train = X_train.drop(columns=to_drop)\n",
    "X_test = X_test.drop(columns=to_drop)"
   ]
  },
  {
   "cell_type": "code",
   "execution_count": 25,
   "id": "d26e5fce",
   "metadata": {},
   "outputs": [
    {
     "name": "stdout",
     "output_type": "stream",
     "text": [
      "Fitting 5 folds for each of 18 candidates, totalling 90 fits\n"
     ]
    },
    {
     "name": "stderr",
     "output_type": "stream",
     "text": [
      "C:\\Users\\38599\\anaconda3\\lib\\site-packages\\sklearn\\model_selection\\_validation.py:378: FitFailedWarning: \n",
      "45 fits failed out of a total of 90.\n",
      "The score on these train-test partitions for these parameters will be set to nan.\n",
      "If these failures are not expected, you can try to debug them by setting error_score='raise'.\n",
      "\n",
      "Below are more details about the failures:\n",
      "--------------------------------------------------------------------------------\n",
      "15 fits failed with the following error:\n",
      "Traceback (most recent call last):\n",
      "  File \"C:\\Users\\38599\\anaconda3\\lib\\site-packages\\sklearn\\model_selection\\_validation.py\", line 686, in _fit_and_score\n",
      "    estimator.fit(X_train, y_train, **fit_params)\n",
      "  File \"C:\\Users\\38599\\anaconda3\\lib\\site-packages\\sklearn\\linear_model\\_logistic.py\", line 1091, in fit\n",
      "    solver = _check_solver(self.solver, self.penalty, self.dual)\n",
      "  File \"C:\\Users\\38599\\anaconda3\\lib\\site-packages\\sklearn\\linear_model\\_logistic.py\", line 71, in _check_solver\n",
      "    raise ValueError(\n",
      "ValueError: Only 'saga' solver supports elasticnet penalty, got solver=liblinear.\n",
      "\n",
      "--------------------------------------------------------------------------------\n",
      "15 fits failed with the following error:\n",
      "Traceback (most recent call last):\n",
      "  File \"C:\\Users\\38599\\anaconda3\\lib\\site-packages\\sklearn\\model_selection\\_validation.py\", line 686, in _fit_and_score\n",
      "    estimator.fit(X_train, y_train, **fit_params)\n",
      "  File \"C:\\Users\\38599\\anaconda3\\lib\\site-packages\\sklearn\\linear_model\\_logistic.py\", line 1091, in fit\n",
      "    solver = _check_solver(self.solver, self.penalty, self.dual)\n",
      "  File \"C:\\Users\\38599\\anaconda3\\lib\\site-packages\\sklearn\\linear_model\\_logistic.py\", line 61, in _check_solver\n",
      "    raise ValueError(\n",
      "ValueError: Solver newton-cg supports only 'l2' or 'none' penalties, got elasticnet penalty.\n",
      "\n",
      "--------------------------------------------------------------------------------\n",
      "15 fits failed with the following error:\n",
      "Traceback (most recent call last):\n",
      "  File \"C:\\Users\\38599\\anaconda3\\lib\\site-packages\\sklearn\\model_selection\\_validation.py\", line 686, in _fit_and_score\n",
      "    estimator.fit(X_train, y_train, **fit_params)\n",
      "  File \"C:\\Users\\38599\\anaconda3\\lib\\site-packages\\sklearn\\linear_model\\_logistic.py\", line 1091, in fit\n",
      "    solver = _check_solver(self.solver, self.penalty, self.dual)\n",
      "  File \"C:\\Users\\38599\\anaconda3\\lib\\site-packages\\sklearn\\linear_model\\_logistic.py\", line 61, in _check_solver\n",
      "    raise ValueError(\n",
      "ValueError: Solver lbfgs supports only 'l2' or 'none' penalties, got elasticnet penalty.\n",
      "\n",
      "  warnings.warn(some_fits_failed_message, FitFailedWarning)\n",
      "C:\\Users\\38599\\anaconda3\\lib\\site-packages\\sklearn\\model_selection\\_search.py:953: UserWarning: One or more of the test scores are non-finite: [0.89210665 0.89175208 0.89175208        nan        nan        nan\n",
      " 0.88832486 0.88832486 0.88832486        nan        nan        nan\n",
      " 0.88832486 0.88832486 0.88832486        nan        nan        nan]\n",
      "  warnings.warn(\n"
     ]
    },
    {
     "name": "stdout",
     "output_type": "stream",
     "text": [
      "Accuracy:  0.8223776223776224\n",
      "Recall:  0.8970189701897019\n",
      "Precision:  0.7880952380952381\n",
      "F1:  0.8390367553865653\n"
     ]
    }
   ],
   "source": [
    "from sklearn.linear_model import LogisticRegression\n",
    "from sklearn.model_selection import GridSearchCV\n",
    "from sklearn.preprocessing import StandardScaler\n",
    "\n",
    "hp = {\n",
    "        'solver': ['liblinear', 'newton-cg', 'lbfgs'],\n",
    "        'penalty': ['l2', 'elasticnet'],\n",
    "        'C': [0.1, 1, 10],\n",
    "}\n",
    "\n",
    "sclr = StandardScaler()\n",
    "X_train_s = sclr.fit_transform(X_train)\n",
    "X_test_s = sclr.transform(X_test)\n",
    "gs_model = GridSearchCV(LogisticRegression(max_iter=1000000), hp, n_jobs=-1, scoring='f1', verbose=4)\n",
    "gs_model.fit(X_train_s, y_train)\n",
    "\n",
    "model = LogisticRegression(max_iter=1000000, **gs_model.best_params_)\n",
    "model.fit(X_train_s, y_train)\n",
    "y_pred = model.predict(X_test_s)\n",
    "evaluate(y_test, y_pred)"
   ]
  },
  {
   "cell_type": "code",
   "execution_count": 10,
   "id": "0c659713",
   "metadata": {
    "scrolled": true
   },
   "outputs": [
    {
     "name": "stdout",
     "output_type": "stream",
     "text": [
      "                       coefficient\n",
      "roberta_prediction        3.788742\n",
      "nervousness               0.132881\n",
      "negative_emotion          0.118690\n",
      "pain                      0.105791\n",
      "violence                  0.090998\n",
      "fear                      0.080961\n",
      "suffering                 0.070243\n",
      "sadness                   0.063180\n",
      "body                      0.056020\n",
      "communication            -0.052343\n",
      "hate                      0.047315\n",
      "friends                  -0.043832\n",
      "children                 -0.043718\n",
      "internet                 -0.042569\n",
      "cold                      0.040574\n",
      "meeting                  -0.040475\n",
      "listen                   -0.039278\n",
      "phone                    -0.035543\n",
      "messaging                -0.035529\n",
      "speaking                 -0.032002\n",
      "help                     -0.029985\n",
      "childish                 -0.029703\n",
      "traveling                -0.029033\n",
      "money                    -0.027654\n",
      "horror                    0.026969\n",
      "computer                 -0.026148\n",
      "family                   -0.025500\n",
      "medical_emergency         0.024666\n",
      "payment                  -0.023781\n",
      "hearing                  -0.022136\n",
      "social_media             -0.021907\n",
      "torment                   0.021194\n",
      "giving                   -0.019225\n",
      "confusion                 0.018943\n",
      "domestic_work             0.018826\n",
      "swearing_terms            0.018606\n",
      "heroic                   -0.018544\n",
      "shape_and_size           -0.017876\n",
      "healing                  -0.017819\n",
      "timidity                  0.017786\n",
      "zest                      0.016966\n",
      "office                   -0.016883\n",
      "youth                    -0.016754\n",
      "death                     0.016193\n",
      "valuable                 -0.015958\n",
      "politeness               -0.015427\n",
      "kill                      0.014815\n",
      "programming              -0.014745\n",
      "real_estate              -0.014736\n",
      "writing                  -0.014430\n",
      "music                    -0.013250\n",
      "school                   -0.013102\n",
      "strength                 -0.012996\n",
      "tourism                  -0.012821\n",
      "play                     -0.012605\n",
      "envy                      0.012318\n",
      "emotional                 0.012022\n",
      "tool                     -0.011936\n",
      "order                     0.011172\n",
      "weakness                  0.011137\n",
      "beauty                   -0.010844\n",
      "business                 -0.010318\n",
      "restaurant               -0.010314\n",
      "rage                     -0.010305\n",
      "feminine                 -0.010304\n",
      "cooking                  -0.010121\n",
      "masculine                -0.010101\n",
      "smell                    -0.010057\n",
      "attractive               -0.010037\n",
      "vacation                 -0.009314\n",
      "urban                    -0.009263\n",
      "journalism               -0.009196\n",
      "art                      -0.009154\n",
      "shopping                 -0.009030\n",
      "alcohol                  -0.008917\n",
      "work                     -0.008806\n",
      "prison                   -0.008584\n",
      "anticipation              0.008375\n",
      "ancient                  -0.008371\n",
      "ugliness                  0.008047\n",
      "poor                      0.008034\n",
      "injury                    0.007966\n",
      "home                     -0.007922\n",
      "sports                   -0.007792\n",
      "dispute                  -0.007595\n",
      "crime                     0.007134\n",
      "weather                  -0.007001\n",
      "sleep                    -0.006794\n",
      "blue_collar_job           0.006635\n",
      "surprise                  0.006471\n",
      "hipster                  -0.006336\n",
      "driving                   0.006266\n",
      "breaking                 -0.005788\n",
      "weapon                    0.005784\n",
      "gain                     -0.005615\n",
      "noise                    -0.005561\n",
      "military                 -0.005504\n",
      "occupation               -0.005408\n",
      "morning                  -0.005190\n",
      "leader                   -0.005110\n",
      "positive_emotion         -0.005075\n",
      "appearance               -0.004997\n",
      "optimism                 -0.004888\n",
      "wedding                  -0.004535\n",
      "furniture                -0.004423\n",
      "law                       0.004213\n",
      "aggression                0.004084\n",
      "movement                 -0.004064\n",
      "politics                 -0.004050\n",
      "war                       0.003982\n",
      "liquid                   -0.003947\n",
      "clothing                 -0.003932\n",
      "cheerfulness              0.003796\n",
      "sexual                    0.003786\n",
      "disappointment            0.003692\n",
      "rural                     0.003506\n",
      "fire                     -0.003504\n",
      "beach                    -0.003360\n",
      "dominant_personality     -0.003233\n",
      "leisure                   0.003173\n",
      "government               -0.003072\n",
      "irritability              0.002937\n",
      "celebration              -0.002872\n",
      "religion                 -0.002843\n",
      "ridicule                 -0.002804\n",
      "divine                    0.002653\n",
      "air_travel               -0.002429\n",
      "royalty                  -0.002308\n",
      "dance                     0.002101\n",
      "exercise                 -0.002086\n",
      "achievement              -0.002018\n",
      "fashion                  -0.002002\n",
      "farming                  -0.001986\n",
      "deception                -0.001883\n",
      "plant                     0.001807\n",
      "hiking                    0.001773\n",
      "philosophy               -0.001614\n",
      "fight                     0.001545\n",
      "wealthy                  -0.001500\n",
      "magic                    -0.001353\n",
      "independence             -0.001244\n",
      "negotiate                -0.001160\n",
      "terrorism                 0.001101\n",
      "hygiene                  -0.001066\n",
      "ship                     -0.001047\n",
      "dominant_heirarchical    -0.000977\n",
      "monster                   0.000825\n",
      "anonymity                -0.000672\n",
      "science                  -0.000634\n",
      "toy                      -0.000624\n",
      "fabric                    0.000533\n",
      "animal                    0.000498\n",
      "superhero                -0.000453\n",
      "trust                    -0.000439\n",
      "pride                    -0.000373\n",
      "pet                       0.000268\n",
      "medieval                 -0.000160\n",
      "economics                 0.000148\n",
      "stealing                 -0.000142\n",
      "exotic                   -0.000069\n"
     ]
    }
   ],
   "source": [
    "cdf = pd.DataFrame(model.coef_.transpose(), X_train.columns, columns=['coefficient'])\n",
    "print(cdf.sort_values(by='coefficient',  key=abs, ascending=False).to_string())"
   ]
  },
  {
   "cell_type": "code",
   "execution_count": 11,
   "id": "61ff13ae",
   "metadata": {},
   "outputs": [
    {
     "name": "stdout",
     "output_type": "stream",
     "text": [
      "Fitting 5 folds for each of 24 candidates, totalling 120 fits\n",
      "Accuracy:  0.8167832167832167\n",
      "Recall:  0.9105691056910569\n",
      "Precision:  0.7741935483870968\n",
      "F1:  0.8368617683686178\n"
     ]
    }
   ],
   "source": [
    "from sklearn.svm import SVC\n",
    "\n",
    "sclr = StandardScaler()\n",
    "X_train_s = sclr.fit_transform(X_train)\n",
    "X_test_s = sclr.transform(X_test)\n",
    "hp = {\n",
    "        'kernel': ['linear'],\n",
    "        'gamma': [1000, 100, 10, 1, 0.1, 0.01],\n",
    "        'C': [0.01, 0.1, 1, 10],\n",
    "    }\n",
    "gs_model = GridSearchCV(SVC(), hp, n_jobs=-1, scoring='f1', verbose=4)\n",
    "gs_model.fit(X_train_s, y_train)\n",
    "    \n",
    "model = SVC(**gs_model.best_params_)\n",
    "model.fit(X_train_s, y_train)\n",
    "y_pred = model.predict(X_test_s)\n",
    "evaluate(y_test, y_pred)"
   ]
  },
  {
   "cell_type": "code",
   "execution_count": 12,
   "id": "0bb1ad1c",
   "metadata": {},
   "outputs": [],
   "source": [
    "X_train_l, y_train, X_test_l, y_test = prepare_lex_data(dataset_path_train = 'train_pred_roberta_our_scraped_data.csv', dataset_path_test = 'test_pred_roberta_our_scraped_data.csv')"
   ]
  },
  {
   "cell_type": "code",
   "execution_count": 13,
   "id": "6890522e",
   "metadata": {},
   "outputs": [
    {
     "name": "stdout",
     "output_type": "stream",
     "text": [
      "Accuracy:  0.8195804195804196\n",
      "Recall:  0.907859078590786\n",
      "Precision:  0.7790697674418605\n",
      "F1:  0.8385481852315394\n"
     ]
    }
   ],
   "source": [
    "model_l = LogisticRegression(max_iter=1000000)\n",
    "model_l.fit(X_train_l, y_train)\n",
    "y_pred_l = model_l.predict(X_test_l)\n",
    "evaluate(y_test, y_pred_l)"
   ]
  },
  {
   "cell_type": "code",
   "execution_count": 14,
   "id": "941ae768",
   "metadata": {},
   "outputs": [],
   "source": [
    "X_train_b, y_train, X_test_b, y_test = prepare_lex_data(dataset_path_train = 'train_pred_base_roberta.csv', dataset_path_test = 'test_pred_base_roberta.csv')"
   ]
  },
  {
   "cell_type": "code",
   "execution_count": 15,
   "id": "5ba284e8",
   "metadata": {},
   "outputs": [
    {
     "name": "stdout",
     "output_type": "stream",
     "text": [
      "Accuracy:  0.8125874125874126\n",
      "Recall:  0.8861788617886179\n",
      "Precision:  0.7804295942720764\n",
      "F1:  0.8299492385786803\n"
     ]
    }
   ],
   "source": [
    "model_b = LogisticRegression(max_iter=1000000)\n",
    "model_b.fit(X_train_b, y_train)\n",
    "y_pred_b = model_b.predict(X_test_b)\n",
    "evaluate(y_test, y_pred_b)"
   ]
  },
  {
   "cell_type": "code",
   "execution_count": 16,
   "id": "7d750181",
   "metadata": {},
   "outputs": [],
   "source": [
    "from statsmodels.stats.contingency_tables import mcnemar\n",
    "from mlxtend.evaluate import mcnemar_table\n",
    "from mlxtend.plotting import checkerboard_plot\n",
    "\n",
    "def testsig(y_test, y_model1, y_model2, alpha=0.05):\n",
    "    tb = mcnemar_table(y_target=y_test, \n",
    "                   y_model1=y_pred_b, \n",
    "                   y_model2=y_pred)\n",
    "    brd = checkerboard_plot(tb,\n",
    "                        figsize=(4, 4),\n",
    "                        fmt='%d',\n",
    "                        col_labels=['model 2 correct', 'model 2 incorrect'],\n",
    "                        row_labels=['model 1 correct', 'model 1 incorrect'])\n",
    "    \n",
    "    result = mcnemar(tb, exact=False)\n",
    "    print('statistic=%.3f, p-value=%.3f' % (result.statistic, result.pvalue))\n",
    "    if result.pvalue > alpha:\n",
    "        print('Same proportions of errors (fail to reject H0)')\n",
    "    else:\n",
    "        print('Different proportions of errors (reject H0)')"
   ]
  },
  {
   "cell_type": "code",
   "execution_count": 17,
   "id": "531c77ce",
   "metadata": {},
   "outputs": [
    {
     "name": "stdout",
     "output_type": "stream",
     "text": [
      "Base + LIWC vs Fine tuned + Empath\n",
      "statistic=0.075, p-value=0.784\n",
      "Same proportions of errors (fail to reject H0)\n"
     ]
    },
    {
     "data": {
      "image/png": "[encoded data removed]",
      "text/plain": [
       "<Figure size 288x288 with 1 Axes>"
      ]
     },
     "metadata": {
      "needs_background": "light"
     },
     "output_type": "display_data"
    }
   ],
   "source": [
    "print('Base + LIWC vs Fine tuned + Empath')\n",
    "testsig(y_test, y_pred_b, y_pred, alpha=0.05)"
   ]
  },
  {
   "cell_type": "markdown",
   "id": "153e2058",
   "metadata": {},
   "source": [
    "Our final model is not better than the one Knežević et al. used."
   ]
  },
  {
   "cell_type": "code",
   "execution_count": 18,
   "id": "3503bf8b",
   "metadata": {},
   "outputs": [
    {
     "name": "stdout",
     "output_type": "stream",
     "text": [
      "Fine tuned + LIWC vs Fine tuned + Empath\n",
      "statistic=0.075, p-value=0.784\n",
      "Same proportions of errors (fail to reject H0)\n"
     ]
    },
    {
     "data": {
      "image/png": "[encoded data removed]",
      "text/plain": [
       "<Figure size 288x288 with 1 Axes>"
      ]
     },
     "metadata": {
      "needs_background": "light"
     },
     "output_type": "display_data"
    }
   ],
   "source": [
    "print('Fine tuned + LIWC vs Fine tuned + Empath')\n",
    "testsig(y_test, y_pred_l, y_pred, alpha=0.05)"
   ]
  },
  {
   "cell_type": "markdown",
   "id": "ee949121",
   "metadata": {},
   "source": [
    "Empath features can replace LIWC features."
   ]
  },
  {
   "cell_type": "markdown",
   "id": "cb5d0b13",
   "metadata": {},
   "source": [
    "### Error analysis"
   ]
  },
  {
   "cell_type": "code",
   "execution_count": 19,
   "id": "d35c3163",
   "metadata": {},
   "outputs": [],
   "source": [
    "indexes = []\n",
    "predictions = []\n",
    "for index, (first, second) in enumerate(zip(y_test, y_pred)):\n",
    "    if first != second:\n",
    "        indexes.append(index)\n",
    "        predictions.append(second)\n",
    "        \n",
    "indexes2 = []\n",
    "predictions2 = []\n",
    "for index, (first, second) in enumerate(zip(y_test, y_pred_l)):\n",
    "    if first != second:\n",
    "        indexes2.append(index)\n",
    "        predictions2.append(second)"
   ]
  },
  {
   "cell_type": "code",
   "execution_count": 20,
   "id": "9437033b",
   "metadata": {},
   "outputs": [
    {
     "data": {
      "text/plain": [
       "0.7480916030534351"
      ]
     },
     "execution_count": 20,
     "metadata": {},
     "output_type": "execute_result"
    }
   ],
   "source": [
    "sum(predictions)/len(predictions)"
   ]
  },
  {
   "cell_type": "code",
   "execution_count": 21,
   "id": "007ef837",
   "metadata": {},
   "outputs": [
    {
     "data": {
      "text/plain": [
       "0.7364341085271318"
      ]
     },
     "execution_count": 21,
     "metadata": {},
     "output_type": "execute_result"
    }
   ],
   "source": [
    "sum(predictions2)/len(predictions2)"
   ]
  },
  {
   "cell_type": "code",
   "execution_count": 22,
   "id": "169dd2f2",
   "metadata": {
    "scrolled": false
   },
   "outputs": [
    {
     "name": "stdout",
     "output_type": "stream",
     "text": [
      "                                                                                                                                  text  label\n",
      "250  Asked her for help. She said \"come for dinner\". She's not that good of a cook. I don't talk to her anymore. I don't care anymore.      0\n",
      "                                                                                                                                                                                                                                                                                                                                                                                                      text  label\n",
      "616  He didn't remember, and didn't care that they weren't in the file any longer. He said he had 400 cases on his docket and couldn't remember something so trivial. He didn't care to look at my phone or email, because bond didn't matter when the case wasn't going to win. I started to feel like I was detaching and becoming defensive. The Prosecutor was aggressive, dismissive, and belittling.      0\n",
      "                                                                                                                                                                                                                                                                                                                                  text  label\n",
      "672  You were so kind, thoughtful, and helpful. And right. I felt so exposed and vulnerable that I forgot a few things: my husband has *never* done something he knew would hurt me. More importantly, when I am not ok, he isn’t either, even though it doesn’t show. I don’t have a family of my own that I can trust, and it sucks.      0\n"
     ]
    }
   ],
   "source": [
    "test_ex = pd.read_csv('dreaddit-test.csv')[['text', 'label']]\n",
    "for i in indexes:\n",
    "    if i not in indexes2:\n",
    "        print(test_ex.loc[[i]].to_string())"
   ]
  },
  {
   "cell_type": "code",
   "execution_count": 23,
   "id": "799ba094",
   "metadata": {},
   "outputs": [
    {
     "name": "stdout",
     "output_type": "stream",
     "text": [
      "                                                                                                                                                                                                                                                                                                                                                                                                                                                      text  label\n",
      "435  Moving on to the following workday, I went over to the shop to collect the dishes from the stuff I brought to the party. I had a beer and chilled with the gang. Then the owner of the shop busts out with his wife's concerns that he and I were \"after each other\". My not-so-savvy self didn't know what he meant at first. But as the realization washed over me that I was being suspected of an affair I was mortified horrified and shamified.      1\n"
     ]
    }
   ],
   "source": [
    "test_ex = pd.read_csv('dreaddit-test.csv')[['text', 'label']]\n",
    "for i in indexes2:\n",
    "    if i not in indexes:\n",
    "        print(test_ex.loc[[i]].to_string())"
   ]
  },
  {
   "cell_type": "code",
   "execution_count": 24,
   "id": "f48fde7c",
   "metadata": {
    "scrolled": true
   },
   "outputs": [
    {
     "name": "stdout",
     "output_type": "stream",
     "text": [
      "                                                                                                                                                                                                                                                                                                                                                                                                                                                   text  label\n",
      "4  I haven’t said anything to him yet because I’m not sure how someone would take hearing that their partner has such fluctuations of feelings towards them (especially since he told me he loves me and is somewhat clingy). Nonetheless, I know a conversation will need to be had but I want to get my feelings in order first. What would y’all recommend, Reddit? TL;DR I have “hot and warm” feelings towards my boyfriend. Can’t figure out why.      0\n",
      "                                                                                                                                                                                                                                                                                                                                                                           text  label\n",
      "12  PTSD is life changing for the worse. Every day fight. Getting in a fist fight in high school( who did not get into a fight)  I'm not talking about bullying,  Playing video games,  having bad dreams does not cause PTSD. We have seen things, or done things or ,been part of things,  that most people will never understand and hopefully never experience. End of Rant      1\n",
      "                                                                                                                                                                                                                                                                                                                                   text  label\n",
      "35  We are down to less than $100 for another week and 4 days. Her weight watchers is due, and she is sad we may have to cancel. I am already doing what I can, and anything seemingly extra goes towards our 3 kids which we love dearly. I started a gofundme. I am looking for $100 so I can give her money towards weight watchers.      0\n",
      "                                                                                                                                                                                                                                                                                                                                                                                                                                                                   text  label\n",
      "36  His reason was that he would rather save money and stay home where he can smoke than pay for any expensive experiences. I managed to convince him to go on holiday with me for a week but he's always thrown it back in my face that he would rather have gone home (he's Spanish), saved the money, got a new tattoo etc. Now. I love to paint but I have in my life had a complete lack of motivation or energy. I started doing an evening course which I loved.      0\n",
      "                                                                                                                                                                                                                                                                                                                                                                                                                                text  label\n",
      "38  But the life at dads was always kind of not ok? He drank and was angry a lot. His moods would change quickly and at times it was hard to figure out why he was angry. He yelled and throw things and sometimes shoved me around too, but me he never got that physical with like he did with my oldest brother. My dad also cried a lot and forced me to listen to him talk about his sad childhoos and then had me comfort him.      1\n",
      "                                                                                                                                                                                                                                                                                                                                                                                                                                          text  label\n",
      "40  So, I've been homeless since about the first, but I was expecting this. What I wasn't expecting was the changes I've made in my life since becoming homeless. Thankfully I have a job, so I do have money. But I hate everywhere that's affordable to eat! I've been a big junk food/fast food fan for years, so I'm a bit overweight, but lately, I just don't seem to care for meat as much, and fast food is just so.. gross right now.      0\n",
      "                                                                                                                                                                                                                                                                                                                                                                                                                                  text  label\n",
      "47  I'll try to keep this short. I've never been able to feel empathy towards other people, I'm not a sociopath or anything (as far as I know), I know when I should feel bad for/with somebody but I can't make myself care as much as I want to. _ Anyways, my mothers best friend of 45 years just killed himself and she's pretty torn up about it. I gave her a hug and what not but I have no idea what else I'm supposed to do.      0\n",
      "                                                                                                                                                                                                                                                                                                                                                                                         text  label\n",
      "50  None of the issues we discuss get addressed. 6) After a while, I get really pissed, my significant other gets angry with me over some issue, and she ends up breaking up with me. I am weary of this whole emotional drama that I have to go through to end a relationship. I almost feel like it's not even my choice to end a relationship. Is there a way to avoid this whole process?      0\n",
      "                                                                                                                                                                                                                                                                                                                                         text  label\n",
      "52  Like she said \"shes too much attached to her boyfriend, she knows that he fucks other girls but she cant break with him cause he will block her on fb and delete her phone number forever, he is her the best friend, soulmate\" Wtf? Run away and try to fall out of love or... or what? See what future will deliver? Im lost right now.      0\n",
      "                                                                                                                                                                                                                                                                                                                                                                                                                                                                                                                                                                                                                 text  label\n",
      "56  Like, I don't think they happen if I distract myself with the Internet or doing some hobby that I like.  I remember feeling like this at least once a week ever since I was around 15 or so.   I used to have nightmares about either fighting for life with my brother or my dad or someone else, or about seizures happening to me or people around me every day. Now I have them maybe once a week or two. I get something that feels like an adrenaline rush when I'm bringing this up, for instance as I'm writing this, or when my brother decides to visit my mom, and sometimes it just happens randomly.      0\n",
      "                                                                                                                                                                                                                                                                                                                                      text  label\n",
      "60  I was younger than 13 during my period of abuse and one thing I'm noticing now is that I can't wrap my head around consent. People tell me that I couldn't possibly consent to anything that happened, even if I asked for it. That I didn't even know what was happening to me. It doesn't feel that way to me. On paper, I get that.      0\n",
      "                                                                                                                                                                                                                                                                                                                                                          text  label\n",
      "61  That's why I've come to you guys. \\- If the formatting is weird, it's because it's midnight and I've edited this damn thing so many times I want to cut off my own hands so I can't torture myself with editing it any more. It's probably garbled af. Yes, I did proofread it, but I can't guarantee quality because it's midnight lmao. I'm super tired.      0\n",
      "                                                                                                                                                                                                                                                                                                                                                    text  label\n",
      "79  I’d appreciate any and all tips or suggestions about how I can best support her. My heart hurts knowing we won’t be dating anyone soon, but I love her so much I want to give her time and space to heal. In the meantime, I’ll work on being the best version of myself. TL:DR My girlfriend and I broke up due to a job that puts us 5 hours away.      0\n",
      "                                                                                                                                                                                                                                                                                                                                                                                                                  text  label\n"
     ]
    },
    {
     "name": "stdout",
     "output_type": "stream",
     "text": [
      "83  Please, I'm NOT looking for any handouts. That's the last thing in the world I need. I WANT to pay back every penny that's loaned to me. I just feel like this is too big of a loan to ask on /r/borrow, and I'm stuck in such a rut. I've found a few nice cars around here that I feel would fit the bill in the $2500 price range, and then tax, tag and title, and maybe a couple months of insurance payment.      0\n",
      "                                                                                                                                                                                                                                                                                                                                                                                                                                                                                                                           text  label\n",
      "85  I just wanted to say thank you to everyone that posts on here. I just found this subreddit yesterday and reading all of your guys' posts have made me feel so much less alone. Knowing that other people understand what I'm going through for some reason has helped me tremendously. Particularly a post that someone made about feeling like their trauma isnt real and like convincing yourself that it didnt happen. I have felt like I'm crazy for years because I was in such deep denial about what happened to me.      0\n",
      "                                                                                                                                                                                                                                                                                                                        text  label\n",
      "89  Btw, I am only an exec.... I am afraid to have a gap in my CV, but for once in my life I want not to worry for a bit. Of course, during the next period, I will apply to jobs but I don't want to rush and take the first  offer. Anyhow, have you ever experienced something like this? What did you do to overcome it?      0\n",
      "                                                                                                                                                                                                                                                                                                                                                                                                                                                text  label\n",
      "91  I can't support their relationship on any level. To make it clear, neither does my mother. She only allows him to remain here because he'd be homeless and be forced to move hours away to a place with almost no transport and he'd take my sister with him (he did it before. It culminated in the allegations of cheating and the choking), and that's the last thing we want. Better the devil you know and your enemies close or something.      0\n",
      "                                                                                                                                                                                                                                                                                                                                                                                                                                                                                          text  label\n",
      "95  Last night one firmed and I were texting about something unrelated and B was brought up. I basically told her that I have distanced myself from B because of XYZ. She said she understands but B has been really nice lately and has been supportive of her pregnancy and has bought the baby tons of stuff... I don’t know why but I feel weird about that conversation. I even told her that I refrained from telling anyone for so long bc I don’t want anyone to view her differently.      0\n",
      "                                                                                                                                                                                                                                                                                                                                                                                                                                                                                                                                                                                    text  label\n",
      "96  My sister is an alcoholic, which is something that seems to run in the family. Everytime my mother invites her over to spend the night, she has to hide all her beer and wine in a futile attempt to keep my sister from drinking it all. However, my sister always sneaks alcohol into the house anyway, and is drunk by nightfall. Then the arguments start. Usually they start over something like dinner not being done soon enough, or because my mother found the boxed wine my sister smuggled in, or because my mother simply said something that stuck in my sister's craw.      0\n",
      "                                                                                                                                                                                                                                           text  label\n",
      "99  Hi everyone. For a few months now I haven't been able to get this off my mind. My abuser was my cousin who is 5-7 years older than me(24F). He is very close to my brother and father. His dad is a wonderful person and my favorite uncle.      0\n",
      "                                                                                                                                                                                                                                                                                                                                                                                                                                                        text  label\n",
      "101  Best friend knows I have anxiety and I am always asking her if she's mad at me. Well, yesterday she asked if I wanted to go to the beach next weekend, I said yes, and then today I told her I couldn't because I was supposed to watch my sister's kids. She wants to know why I don't take them with us. It's a two hour drive, and I really just don't want to go. But then she says that I always say no when she asks me to go somewhere with her.      0\n",
      "                                                                                                                                                                                                                                                                                                                                                                                                                      text  label\n",
      "105  Do you huddle up in the corner of some obscure building that's out of the way? Under a pine tree that's thick enough to prevent any outsiders knowing you're there? Those are kind of the best ideas I have... but I really don't know and I would greatly appreciate any advice. I don't want to give too many details but I live in a city of just over 100,000 people. I'm already on food and medical assistance.      1\n",
      "                                                                                                                                                                                                                                                                                                                                                                                                                                                                                                                                                                                                                                                                                                                                                                                                                                                                                                              text  label\n",
      "112  Spring 2102 I began to see a man that I worked with and that only made my roommate jealous and angry. I went to a pdoc (who was basically a pharmaceutical dispensary and appointments only lasted 15 minutes) who diagnosed me with ADHD, generalized anxiety disorder and caffeine dependency. My ex-roommate(who had PTSD from fighting in Iraq and BPD) became jealous that I was hanging out with and spending all my time with a man that was not him, he began to hide my prescription anxiety and sleep medication so I would have to spend more time at my apartment and with him. Late summer 2012 I was able to catch him doing a series of illegal things, had him arrested for petty theft and evicted him from the apartment. I spent a couple months more in the apartment and ultimately ended up moving in with the man I had begun to see (he and I have now been together almost 5 years).      0\n",
      "                                                                                                                                                                                                                                                                                                                                                                                                                                                                                                                                                                                   text  label\n",
      "127  I have a question about my ex who has a past of violence against women. I was never warned about it but I found out he was violent and I left. His ex has a full life restraining order against him.Now he is on probation for assaulting a police officer for 3 years in the past year he has gone to jail three times for domestic violence. His latest trip to jail was last week for domestic violence his third time. I was wondering what do you think his punishment will be since he's not learning his lesson from the punishments given to him and he just doesn't care.      0\n",
      "                                                                                                                                                                                                                                                                                                                                                                                                                                                                 text  label\n",
      "129  My university holiday is over in a week. I've been submitting resumes online for 3 months and haven't gotten a single response. It's understandable since I'm applying for pharmacy assistance job which is highly competitive. I've been reading \"Rejection Proof\" by Jia Jiang where the author tries to get rejected once a day and vlogs the entire thing in order to face his fear of rejection. One day, he decides to find a job but only work for a day.      0\n",
      "                                                                                                                                                                                                                                                                                                                                                                                                                                                                                                                                                                                                                                                                                                                                                                                                                                                                                                                                                                                                                            text  label\n",
      "148  I dwell on negativity quite easily and am I easily impressionable to brooding. I tend to express myself intensely to people without realizing it, giving the wrong impression because it's natural for me to be intense, but I am also quite composed and can for the most part be 'chill' but it's just that I only have two parts to me, a 'chill' way of expressing myself, and a passionate/intense way of expressing myself, so I come off the wrong way without realizing it when I think I'm being normal. People say that I'm a great person and easily liked but I don't realize sometimes how my expression and tone may come off, and people naturally give me a benefit of a doubt that I'm just passionate. My jealousy is extreme, and it causes me to be a questioning type but I use subtle ways to get information so it appears as normal a  question because I have attachment issues and fear of loss. There is more to explain but I got to the bare bottom of the issue after realizing these habits.      0\n",
      "                                                                                                                                                                                                                                                                                                                                                                                                                                                                                                                                                                                                                                                              text  label\n",
      "149  I realized how small nuances subconsciously give me thoughts without me feeding into it. They feed into itself and I watch it do it all on its own, and it causes responses in my body and anxiety without trying. It's almost as is if another person is living in here but what it is, it's all instinctual. The awareness has given me a better grasp on things but it feels like an illness now with this new perspective because it comes over me like one. It's like being drugged and having no control over the effects, and you have no choice but to let it occur, and you fight any urges it gives you, although you may be aware of it happening.      1\n",
      "                                                                                                                                                                                                                                                                                         text  label\n",
      "151  It's just us two and it's, really intense. She hugs me, tells me how much she's missed me. Reminisces about our relationship. Tells me how I broke her heart. She tells me about lads she's been with since and it felt like she was comparing them all to me and gets really emotional.      1\n",
      "                                                                                                                                                                                                                                                                                                                                                                                                                                                                                                                                                                                                                                           text  label\n",
      "166  Hi PTSD forums, Selective mutism has been something i have been afflicted with for 7 years since middle school. It was only in senior year of high school that I began speaking again thanks to the help of a few friends whom i no longer am in contact with and also my football coach/teacher. Now in college however I dread presentations. Often, I would lock down and say one or two sentences and after that say \"i'm done, ill hand it off to my group member\" or I would splurge out incoherent sentences that have no purpose or thought behind them during presentations and people would have a confused look on their faces.      0\n",
      "                                                                                                                                                                                                                                                                                                                                                                                                                                                text  label\n",
      "168  I don't mind the fact that she goes, I don't even mind if she goes at the same time as me. I just wish she wouldn't make such a big deal out of doing it together. How do I convey this to her without looking like a selfish asshole? **Tl;dr: I prefer to work out by myself for various reasons. My roommate decided to start going with me and is requesting that I make accommodations to my schedule and routine so that she can join me.      1\n",
      "                                                                                                                                                                                                                                                                                                                                                                                                                                                                                                                 text  label\n",
      "170  After getting startled, I have this thing where I'm really angry and defensive for 30-120 minutes afterwards. I can put myself in the most calm of situations, but the duration of this seems to be somewhat independent of my environment. I'm guessing this is because my PTSD brain does not respond well to stress hormones? Sometimes I try to push through it and just go about my day anyway, but it's usually counter-productive. I'd like to train my service dog to alert to the physiological change.      0\n",
      "                                                                                                                                                                                                                                                                                                                                                                                                                                                                                                                                                                                                                                                                                                   text  label\n",
      "172  This question is not meant to be disrespectful in any way, shape, or form to people who 1) are actually diagnosed autistic, or 2) are in no way autistic, but just suffer from severe social anxieties. This is just about my experience and people who may relate. So, throughout my life, I sometimes struggled with the feeling that there is something \"different\" about myself. A lot of the time I've convinced myself it was just because of low self-esteem, paranoia, or a desire to have some type of diagnosis that would help \"solve\" or explain my awkwardness or social issues. People warn me not to jump to conclusions and it's easy to self-diagnose online in this day and age.      0\n",
      "                                                                                                                                                                                                                                                                                                                                                                                                                     text  label\n",
      "173  Maybe anyone with a history of abuse or trauma can tell me if there are particular things to be sensitive to here: I tried to be supportive but obviously failed in the end here. She's talking about wanting to divorce me. We're looking into couples therapy. I really appreciate any insight or advice. **TLDR**: Wife is working on an art piece that is important for her career in the arts non-profit world.      1\n",
      "                                                                                                                                                                                                                                                                                                                                                                                                                                                                                                                                                                                                                                                                                                                                             text  label\n",
      "174  He is our little angel and we are both gaga for him, but money has been extraordinary tight, adjusting to parent life and sleep deprivation has been tough for both of us. We were fighting and bickering a bit for the first time in his first months of life, but I figured that was normal for new parents. I work in the financial industry for a modest income (working hard currently to get to the next level where I'll make substantially more) and she works for an arts-based nonprofit. I have no particular attachment to the financial industry, it's just been a way to pay the bills and I find it interesting enough. She's a passionate artist though, always knew she wanted to be one, and it's really important to her.      1\n",
      "                                                                                                                                                                                                                                                                                                                                                                                                                                                                                                                                                                          text  label\n",
      "175  We met about 2.5 years ago, both somewhat fresh off our respective divorces. I felt we had a real connection, we fell for each other hard, dated (eventually lived together) for a little less than a year before she got pregnant. We were both really happy as we had both talked about wanting children - at the time we got pregnant we were \"not NOT trying,\" we had definitely had many conversations and were both on board and happy to have a child together. We felt we had met our true love in each other. Things have been rough since the birth of our son.      1\n",
      "                                                                                                                                                                                                                                                                                                                                                                                                                                                                                                                                                                                                                                                                                      text  label\n",
      "178  Hey guys, how are you? So, I've been diagnosed with anxiety disorder for 6 years now, though I know I've had it for more than ten years, I just didn't know it was an anxiety issue. I'm a 30 years old straight dude who started struggling with anxiety when I started to think I was gay (now I know this thing is called HOCD, but at the time I even came out as bisexual to my mother). After I went to therapy hoping to accept my sexuality, I discovered my problem wasn't self acceptance but an anxiety disorder, so that made sense, because I came out as bisexual even though I don't feel attracted to men. I thought I was burying my desires or something like that.      0\n",
      "                                                                                                                                                                                                                                                                                                                                                                                                                                                                                                                                                                                                    text  label\n",
      "181  For instance, there was a show on netflix that I thought would be fun to watch together, but she said she couldn't because she used to watch it with her ex and it reminds her of him. Like, are you even over him? She constantly compares me to her ex's in subtle (maybe not subtle) ways, like \"[ex] used to do this thing you do, and you know how I feel about that.\" I'm not your ex, I don't think it's fair of you to compare me to him like that all the time. She says she's \"not used to being single,\" it kind of makes me feel like she's using me to get reassurance and validation.      1\n",
      "                                                                                                                                                                                                                                                                                                                                                                    text  label\n",
      "189  Hi all. I recently moved to another country and it pretty much cost everything to get set up here. My roommate just moved out to start a new chapter with their significant other, taking pretty much all the furniture with them and naturally, rent has gone up. I'm wiped out until the 17th. I, my wife and daughter would appreciate any help to tide us over.      0\n",
      "                                                                                                                                                                                                                                                                                                                                                              text  label\n"
     ]
    },
    {
     "name": "stdout",
     "output_type": "stream",
     "text": [
      "197  I’m  asking yall how can I live life properly? Immediately after I threw up  in year 2, I never feared it happening again. I admit when this happened  I was in tears, and same in year 3- I was crying next to my mum by the  toilet but it was over quick and again- I was eating chocolate again the  day after. But now, nausea? Stop eating for the day.      0\n",
      "                                                                                                                                                                                                                                                                                                                                                                                                                                                                                  text  label\n",
      "199  I'm sorry if I didn't post this in the right place and such, it'd be really comforting if someone had this as well and told me about it. edit: another way to describe it may be a million thoughts at once. it's really irritable. It's not like I'm thinking \"what if\" as I have seen many people describe, it's just random things, imagine 100 TV channels playing at once and you know what none of them are about or to do with you. It's also very sudden, like an attack.      0\n",
      "                                                                                                                                             text  label\n",
      "205  If I am to survive I must defy him I'm leaving this behind I'll go so far away He'll never find me I know that I'm Making that the last time      0\n",
      "                                                                                                                                                                                                                                                                                                                                                                                                               text  label\n",
      "212  At the very least, I need help keeping the RV running so that I can get food at least, keep going to the doctor to see if I can get well enough to work again. And if i end up filing for bankruptcy and lose my home (as might happen in the next month or two, to be honest), I'll need it to sleep in. So if anyone to help out even a little bit with this $575, I could really use it. Thank you! Update:      0\n",
      "                                                                                                                                                                                                                                                                                                                                                           text  label\n",
      "216  I sent a respectful email to my primary psychiatrist explaining my thoughts on how it was inappropriate to have Paterno's picture prominently displayed. Am I fucked up in the head for thinking this wrong? In the past, I had a mild traumatic brain injury. Sometimes I over react. 24 hours post appointment, I'm still bitter about the Paterno pics.      0\n",
      "                                                                                                                                                                                                                                                                                                                                                                                                                                                                                                                                                                                                             text  label\n",
      "217  In a day I went from broke and facing a dark, foreclosed home with no utilities to having enough money to totally catch up on all my bills. Then I had an appointment with my psychiatrist and case worker at the clinic I go to. I shamefully told the doctor there that I had been out of control, off meds, binging on alcohol and not following advice. She explained that it was not surprising for someone with my condition to lose control with all the stress I was facing. She increased my prozac dose and made appointments to follow up and see a therapist and reassured me about many things.      0\n",
      "                                                                                                                                                                                                                                                                                                                                                    text  label\n",
      "226  Hello everyone, A very close friend of mine was in an accident a few years ago and deals with PTSD. He has horrific nightmares that wake him up and keep him in a state of fright. We live in separate provinces, so when he does have his dreams it is difficult to comfort him. Each time he calls, and I struggle with what to say on the phone.      0\n",
      "                                                                                                                                                                                                                                                                                                                 text  label\n",
      "239  She's the first person I've ever really opened up to. I haven't told her everything about whats happened, but she does know about my anxiety (which I get from my PTSD) and she reacts sportively to it. To some extent, I let me be \"myself\" around her, whatever I am. She's moving. She's moving to Maryland.      1\n",
      "                                                                                                                                                                                                                                                                                                                                                                                                                                                                    text  label\n",
      "241  I feel like I am just being written off because of my diagnosis before anyone even tries to look into it and see if anything else might be at play. I'd just as soon not say anything about my PTSD to be taken seriously, but it appears in my medical records. Or when I list my medications as required, Drs usually ask me what the meds are treating and it comes up then. Has anyone else had this experience? What has worked for you to be taken seriously?      0\n",
      "                                                                                                                                                                                                                                                                                                                                                                                                                                                                                                                                                                                                                                                                                                                                text  label\n",
      "242  I can't guarantee that I will never change my mind, but I've never dreamt of happily ever after, I don't really believe in eternal love and soulmates and all this stuff so I guess it's not really likely. I'm not asexual or aromantic, I love sex and I love him in a non-platonic way, I just can't compromise on that kind of thing, I wouldn't even know how to do it. I could meet his family, pretend to like them, pretend to bond with them and pretend to care, but that's really just lying to make him happy. I've tried it before and it makes me hating myself and them. I've always told him the the truth about the level of commitment I'm comfortable with, but nevertheless I feel like I'm leading him on.      0\n",
      "                                                                                                                                                                                                                                                                                                                                                                                                                                                                                                                                  text  label\n",
      "246  I have been suffering from anxiety and panic attacks since I was a teenager. I have been to the ER more times than I can count cause I thought I was dying. For the longest time I thought that I was the only person who this was happening to, until I met a girl who was going through it too. It felt good knowing I wasn't alone but I still was in the dark and scared. As time went on I met more people who were going through the same thing and it really helped to have some one to talk to who knew what it was like.      0\n",
      "                                                                                                                                                                                                                                                                                                                                                                                                                                                                                                                                                                                                                                                                                                                                                                                                         text  label\n",
      "254  I don't know how to maintain my relationship with my brother while he still lives under my parents' control \\(which covers everything from finances, to communication with other people, to leaving their house \\-\\- or rather not being outside the house without them other than for school and work\\). I'm lucky enough to have a few wonderful friends who supported me in various ways while I've been getting situated, but I don't know how to grow my friendships with them now that I have the freedom to. I got so used to not talking much to them as their other friends would, and I guess they're used to that from me. With new people that I meet, I find it very difficult to relate to their lives. I feel uncomfortable answering questions about myself, my past, and my background.      0\n",
      "                                                                                                                                                                                                                                                                                                                                                                                                                                                                                    text  label\n",
      "256  This internet ban subsequently resulted in me failing my studies, and in turn lead to my parents despising my relationship. Needless to say, they had noticed a huge change in my personality on top of failing my studies. I want allowed to speak to these friends either. She worried that they would be finding ways to show porn to me, and made them out to be terrible friends, which I of course believed. I failed to mention how incredibly good she was at manipulation.      0\n",
      "                                                                                                                                                                                                                                                                                                                                                                                                                                                                                                                                        text  label\n",
      "257  The police in Mt. Sterling, Kentucky were... decidedly unhelpful. The local citizenry sympathized with my plight in that respect. I had to hitch-hike back to Lexington. The most I've been able to replace ID-wise so far has been my ATM card and my pre-paid card -- I opened up an account at a national chain bank while I was here the past two weeks and my banker here obviously knows who I am -- and the temp labor place I had been working at had a copy of my ID, so I was able to get that information from them as well.      1\n",
      "                                                                                                                                                                                                                                                                                                                           text  label\n"
     ]
    },
    {
     "name": "stdout",
     "output_type": "stream",
     "text": [
      "269  He pretty much told me that he was angry and disappointed and would probably not forgive me for a while and that I owe him. I was going to go... I still want to. I just am looking at either going to this wedding and being evicted or not going and dealing with the disappointment. I don't feel like I have a choice.      0\n",
      "                                                                                                                                                                                                                                                                                                                                                                                                                                                                                                    text  label\n",
      "273  He wanted me to say once again that of course I was in the wrong and I need to change my selfish ways and give him the kind of love he deserves. When I stated I need space, he then demanded I be out by midnight tonight. I pointed out I would simply ask our roommate to spend 1 more night in the house as a guest. So he conceded to letting me sleep there tonight. This break up and crossroads is yet another opportunity for me to prioritize my needs in a creative and synergistic way.      1\n",
      "                                                                                                                                                                                                                                                                                                                                         text  label\n",
      "276  If I'm home and I'm home 50% of the time, I spend my time online with my friends. Even then, it becomes an issue. Faultily, there are days which I do spend the whole day playing with my buddies. But they were the only people I had interaction with outside of work anymore.   Btw, my girlfriend and I also work at the same place.      0\n",
      "                                                                                                                                                                                                                                                                                                                                                                                                     text  label\n",
      "283  He was my best buddy in high school and we’re still really close. And my girlfriend, who goes to school in DC, is home too so I can see her. I’m grateful for them but wish I had a bigger friend group from home that I was still close to. I’ve loved college, but haven’t really found a new best friend yet. I’ve still kinda struggled with feeling like an outsider and not really fitting in.      0\n",
      "                                                                                                                                                                                                                                                                                                                                                                                                                                                                                                                                                                                                                         text  label\n",
      "287  Are there federal or state (IN) laws that govern shelters for shelters that don't accept any federal funds? According to a news story I have found on this shelter they don't accept federal funding, grants or any kind of corporate or foundation funds. There are so many things going on here that don't seem legal, and many more that are totally unethical. I've been here for a month and here's just a couple of the things that are jumping out at me: * Our meds are kept locked up in a cabinet in a room accessible only by staff and \"resident staff\" (which also seems like a HUGE conflict of interest.)      0\n",
      "                                                                                                                                                                                                                                                                                                                                                                                                                                                                                                                                                                                                                                                                                                                                                                                                                                   text  label\n",
      "291  Almost too well. She extends our date twice, buys us a drink each, starts a make out session which lasts for 2 hours, calls me hot, and although neither of us had a house free she gave me oral too. Although she said she had a great time - which I replied to - I then waited to respond to her next message, and I don't know if that killed any momentum because I was already very delayed when we first got talking of course. Anyway, despite our great date and a second one lined up when I asked her out a day later, she ended up cancelling on me, and then told me a week later that she got more serious with another guy - which to me only translated as him being hot and me being ugly. They broke things off a week later, and she did ask me out again, but at one stage I annoyed her with a jokey message.      1\n",
      "                                                                                                                                                                                                                                                                                                                                                                                                                                                                                                                                         text  label\n",
      "292  She said she always had to message first, and she decided to completely blank me when I apologised, and that was that. The first girl to ever express proper interest in me in my life ends up going completely down the drain. I don't know if it was because of my own management of messages or me being unattractive in general, but despite this great date occurring I only feel absolutely awful because of it in the end. Oh, and to rub salt into the wounds I even noticed she unliked my profile picture of all things. Ouch.      0\n",
      "                                                                                                                                                                                                                                                                                                                                                                                                                                                                                                                                   text  label\n",
      "293  I stayed in Africa, I was only one month into the program and was too proud to leave. I must have horrible luck because I experienced two more horrific events while visiting Dar es Salaam...things I won't get into. For now, I take Wellbutrin for the depression, but still feel myself flinching away from people on the street, or am scared I am being followed or watched. On a positive note, I've grown a ton, learned a lot, and am still kicking ass in this world! Here's to three years and many more anniversaries!      0\n",
      "                                                                                                                                                                                                                                                                                                                                                                                                                                                     text  label\n",
      "314  I've been renting since university and I'm getting sick of seeing the same amount of money I'd pay towards a mortgage go into the pocket of someone else. I have a junior role in the company, it's going somewhere (I hope) but not fast. I find financially I'm staying basically cash-neutral and my quality of life isn't brilliant. I'm not managing to save anything. I've been thinking that I should get a house with the money I inherited.      0\n",
      "                                                                                                                                                                                                                                                                                                                      text  label\n",
      "317  He broke up with me, accused me of lying about my cousin, saying he never heard of her despite the fact he has. I ended up sleeping with my friend that night. Then there was the issue with him threatening to hide my belongings with an unnamed friend. I wouldn't get to know who. A whole bunch of crazy ensued.      0\n"
     ]
    },
    {
     "name": "stdout",
     "output_type": "stream",
     "text": [
      "                                                                                                                                                                                                                                                                                                                                                                                                                                                                                                                                                                                                                           text  label\n",
      "320  However, his fits of anger kept going at the smallest things such as eating the rest of the corn chips or even mentioning politics that he doesn't agree with. This went on at the same rate of once a month or so until I turned 16, which is when I noticed that it probably wasn't normal. One occurrence of this was when I was trying to buy a pair of sunglasses, but needed to use his paypal as where I'm from you need to be over 18. This for whatever reason ended in him exploding in rage again, because he couldn't remember his password. He left the room, and grabbed me by the throat when he came back.      1\n",
      "                                                                                                                                                                                                                                                                                                                                                                                                                                                                                                                 text  label\n",
      "324  That's it. My mom made me delete it and said \"that's what is wrong with your generation, you act too grown.\" Nothing about my picture was \"grown\" I was actually wearing a long white t shirt and boyfriend jeans. Even when we go to the beach with my siblings, me and my sister were wearing the exact same bikini and she said something to me about \"needing to sit my fast tailed butt down.\" Mind you, my sister is two years younger than me and the bikinis weren't even provocative in a bikini sense.      1\n",
      "                                                                                                                                                                                                                                                                                                                                                                                                                                                                                                        text  label\n",
      "332  I'm currently between jobs and looking to make money in any way I can, so I was wondering if anyone would be interested in buying a cross stitch commission from me. I can do any type of pattern or design, in various sizes. Here are some examples of things I've made: <url> I would really appreciate any help I can get! Times are rough and my mental health is not great right now, so it would be nice to have something to work on that would also help me pay my bills and medical expenses!      1\n",
      "                                                                                                                                                                                                                                                                                                                                                                                                                                                                                              text  label\n",
      "336  You can still trigger them even though you are a good guy. You can still get offended when they tell you they can't trust you even though it is the PTSD talking and not them. You feel like a failure when they tell you they feel hopeless and that nobody can help them. It really sucks when all you want to do is love them and they can't accept it or feel it. Especially when they are the most amazing person you have ever met when they are not triggered and in their right mind.      0\n",
      "                                                                                                                                                                                                                                                       text  label\n",
      "349  Is he that desperate to see me? Why does he do this? If his friends don't mind and I don't mind, should I even be concerned? Maybe I'm blowing a little issue out of proportions but just curious to hear what others have to say! Thanks for reading!      0\n",
      "                                                                                                                                                                                                                                                                                                                                                                                                                                                                                              text  label\n",
      "359  It’s getting up above 100 here, and I’d like to have something I can easily carry in my car to give out since I’m working deliveries. Unfortunately I’ve been without a steady job for 6 months so I can’t do to much, but I was thinking about buying a bunch of plastic water bottles, freezing them, and carrying them in a cooler in my car to give out when I’m at lights. Would this be helpful? What other small or inexpensive things would help make the summer a bit more bearable?      1\n",
      "                                                                                                                                                                                                                                                                                                                                                                                                                                                                                                                                                                                         text  label\n",
      "369  For me it would start with rent. We got approved for an apartment but some shit happened and we don’t have 1st months anymore so we can’t move in. We still have time to come up with it but I doubt we will before the deadline. After we got that I have an employment opportunity lined up but I can’t start the job until after the baby so I’d just have to manage to keep the rent paid until Dec which would be after due date and minimum recovery time. After that I’d just need to make sure I had some decent savings up by then to get everything I’d need to start the gig.      0\n",
      "                                                                                                                                                                                                                                                                                                                                                                     text  label\n",
      "376  If he's the textbook abuser, she is the textbook victim. She keeps giving him chances and accepting his apologies and living in this cycle of abuse. She thinks she's the one doing something wrong. I keep telling her that the only thing she is doing wrong is staying with this guy and thinking he will change. I tell her she does not deserve this treatment.      0\n",
      "                                                                                                                                                                                                                                                                                        text  label\n",
      "389  She told me that things had to go back to where we were before we ever went to the concert. I agreed, and stopped talking to her aside from professional responsibilities. NOW... in that period of time since two MAJOR things have happened. 1. Her mother was diagnosed with cancer.      1\n",
      "                                                                                                                                                                                                                                    text  label\n",
      "391  Little over 3 hours ago, my dad had attacked me. I'm not sure who to go to for advice, hoping someone can share any here. Thank you. Here's the full story Preceding physical contact, me and my dad were having a verbal argument.      0\n",
      "                                                                                                                                                                                                                                                                                                                                                                                                           text  label\n",
      "392  Just wanted to share with you all -  yesterday I flew to Germany from England for a full day work meeting today. I am now waiting at the gate to fly home. 9 weeks ago I had a panic attack thinking about traveling across England on the train to see my sister for Christmas (my amazing boyfriend drove me over and then came to pick me up! ). A mix of medication and therapy has helped me so much.      0\n",
      "                                                                                                                                                                                                                               text  label\n",
      "393  Still had moments of anxiety but I got through them. We can do it guys! It's so tough and I know I'll have bad days but hoping that the good days outweigh them. Completely shattered now though. Could sleep a million years.      0\n",
      "                                                                                                                                                                                                                                                                                                                                                                                                                                                                                                                       text  label\n",
      "401  Now I’m in a healthy relationship. This man is the love of my life. He always pushes for me to be better and I resist it sometimes. I’ve turned on him fearing him having a dark objective, and I don’t understand all my triggers. All I know is sometimes I see my incredibly loving boyfriend as my incredibly abusive ex and it breaks my heart because he’s the only person that tends to me so well... he does everything he can to help me always he saved me from that awful relationship... he saved my life.      0\n",
      "                                                                                                                                                                                                                                                                                                                                                                                                                                                                                                                                                                                                                                                                                                                                                                                                                  text  label\n",
      "412  Backstory: My late grandparents home, the home I was raised and still currently live in, is being short sold to a relative by the bank. My grandparent did a reverse mortgage, died and their home went into foreclosure, got put up for a short sale, and is now in the closing process. The relative who's purchasing the home clearly wants to profit off of the home and is warning me that in the coming days it'll be time for me to go. Unfortunately, my next stop will be a shelter as I have no money saved up to move into an apartment of my own, nor do I make enough working part-time to pay rent, and I don't have many ready available options that I'm aware of. The only question I have is does the relative have to pay us to move out or can they just kick us to the curb without a penny?      0\n",
      "                                                                                                                                                                                                                                                                                                                                                                                                                                                                                                                                                                                           text  label\n",
      "424  Now that I’m single I find that I don’t have much friends I can hang out with. With the few guy friends I have we all just play sports together and that’s literally it, nothing outside of that. No one I can really be like “hey let’s go to this concert” or “Yo, let’s hit this party up”. I also feel like I’m kind of too mature for ppl my age, which is conflict sometimes too. I also genuinely want some gal friends and nothing romantic but just some girls to hang out with but I feel all girls just assume all guys have bad intentions or just want to get in their pants.      0\n",
      "                                                                                                                                                                                                                                                                                                                                                                                                                                                     text  label\n",
      "425  The few gal friends I associate with are either in relationships or kind of just brush me off or fake like they want to hang out but really don’t when the time comes. My school has no clubs whatsoever, so I can’t really meet anybody that way. I do go to a fairly small school though, around 7,000 students. I always wanted to be in that group that always hangs out. So I honestly don’t know what to do or how to go about this situation.      0\n",
      "                                                                                                                                                                                                                                                                                                                                                                                                                                                                     text  label\n",
      "451  She also wasn’t wearing her ring. She was also extremely upset when I grabbed her phone, which is locked with a password I don’t know, to hand it to her. Well on Monday we barely spoke during the day, and she was very quiet at dinner. Dreading what might come but knowing I had to ask I asked her if everything was ok. She said no, that she couldn’t marry me, couldn’t have kids as she would be a bad mother, and couldn’t see us being together anymore.      1\n",
      "                                                                                                                                                                                                                                                                                                                                                                                                                                                                                                                                                        text  label\n",
      "456  Perhaps it is weird to process something after such a long time, but not really. I always felt strong at how I managed to leave, but I never had any closure. I got out of the relationship and pretended nothing ever happened. Just wanted to share I had an eye-opening experience tonight and I feel at peace about everything that happened now because I have deep down, stopped blaming myself. Looking back at every experience I had with him, the mental torture I went through, I cannot believe what I dealt with, but now finally feel ok.      0\n",
      "                                                                                                                                                                                                                                                                                                                                    text  label\n",
      "470  Pretty normal life. My dad has been suffering of severe depression as long as I can remember, but he always refused to get help. I didn't notice as a child; but it wasn't as bad when I was younger. It really got bad a few years ago, when I was around 15. He gets angry at very little things and when he does, he closes off.      0\n",
      "                                                                                                                                                                                                                                                                                                                                                                                                                                                                                                                                                                                                                            text  label\n",
      "471  This weekend she had a breakdown and gave me the following reasons:  - I'm almost a momma's boy  - My mom shares an unhealthy relationship with her children (my mom has admittedly told my gf a number of times that she makes her jealous and I care for another woman, but that's because my mom doesn't have a life outside our family and is understandable. My mom however cares for my gf, buys her presents, keeps in mind her allergies and cooks her food that she'd eat, so I don't get why my gf would have an issue)  - Apparently it's weird that I spend all my time and don't like to hang out with friends      0\n",
      "                                                                                                                                                                                                                                                                                                                                                                                                                                                                                                                                                                                                                                                                                                                                                                                          text  label\n",
      "480  I don't remember always being like this, but over the last two years or so I have had a few tumultuous friendships/dating connections with people (I make deep connections quickly, or seemingly deep anyways with lots of self disclosure and vice versa) and after things don't work out I feel like I am lost and won't be able to cope on my own. I recently started talking to someone again after not talking to them for a few months, there was no bad blood between us we just decided it would be best to move on and not talk anymore. They reached out first about a month ago, then nothing. I have been going through it at work, feeling overwhelmed and anxious and so I feel stupid for doing this but I began talking to them again. I feel better, even if its slight.      0\n"
     ]
    },
    {
     "name": "stdout",
     "output_type": "stream",
     "text": [
      "                                                                                                                                                                                                                                                                                                                                                                                                                                                                                text  label\n",
      "487  SIL and BIL are seeing s couples therapist as well as individual therapists. SIL is adamant that she wants my wife and I to participate in group therapy with both of them and that my BIL wants to set the record straight and feels awkward around our family. He hasn't personally apologized for his actions and states that my SIL fell and hit her head on dumbbells in their apt. I do not believe him. He has only apologized that we had to deal with the entire mess.      0\n",
      "                                                                                                                                                                                                                                                                                                                                                                                                                                                                                                                                                                                                         text  label\n",
      "489  I was raised by a narcissistic grandmother and emotionally unavailable mother. In fact, when I was born, she tried to take it upon herself to take full custody away from my mother because apparently my mom was 'unfit' to be a mother. She never did because she found out that my biological father might have had to be involved. My grandma kept me away from my father my entire life, he barely knows I exist, I've never spoken directly with him, in fact, his identity was hidden from me for 22 years, up until last May. My grandmother was very emotionally abusive towards me as a child.      0\n",
      "                                                                                                                                                                                                                                                                                                                                 text  label\n",
      "493  I've read that quality sleep, regular exercise, and fish oil all can help. Does that sound right? What are the best, non-pharma methods to help resolve anxiety? What about mediation (and is there a suggested starting point)? While I'm probably genetically more prone to anxiety, is it that I've let my body down somehow?      1\n",
      "                                                                                                                                                                                                                                       text  label\n",
      "507  We had 2 classes together, so we spent a few hours together most days working through problem sets. This next semester, I won't even have that. I'll probably be in more isolation this time around. Any tips are appreciated. Thanks!      1\n",
      "                                                                                                                                                                                                                                                                           text  label\n",
      "509  Am I wrong to be pissed about this? Was he really just being nice to her or is he just biding his time until they live closer?   ---   **tl;dr**: My boyfriend said \"you never know what the future holds\" when talking to a former fling. He says he was just being nice.      1\n",
      "                                                                                                                                                                                                                                                                                                                                                                                                                                                                                                                                                                                                                                                                                                                                                                                                                                                                                                                           text  label\n",
      "510  First off I'm male but my relationship with the woman is strictly platonic stemming from professional, we are co-workers. It's no secret to anyone that she's in an abusive relationship as she's come to work several times over the last several months with blackeyes etc and admits to being abused. She been in the relationship for 1.5 years which turned   info is out of the way, here's the new twist that has brought me to split roads. Yesterday she showed me a text from him detailing how angry he'd been at her 12 yr old and that if he didn't have so much will power he would have choked her son to death and that she needs to get her son to behave so he doesn't have to crack his skull. I encouraged her to show that to Leo and have him removed from the apartment as well as get an order of protection, she seemed to be considering that but has expressed fear of retaliation in the past.      1\n",
      "                                                                                                                                                                                                                                                                                                                                                                                                                                                                                                                                                                                                                                text  label\n",
      "515  I was never given a birthday party because it was inconvenient to have a bunch of kids over. In my pre-teen years I faced several years of having nothing and having to hide when someone knocked on the door because they were debt collectors or people who demanded payment for something. I faced the threat of homelessness, I faced abuse and horrible living conditions, I was bullied to the point of having to go to several different schools. I grew up not being loved, not being cared about, and having to fend for myself because no one would come home until 9-10 at night. I grew up being ashamed of myself.      0\n",
      "                                                                                                                                                                                                                                                                                   text  label\n",
      "526  and I giggled. He stomped towards me, mocked my laugh with an angry face and ripped the keys from my hands. He grabbed me by the top of my shirt and looked me in my eyes and said \"Stop playing these stupid F*CKING games\". That was my childhood. He'd abuse me and my brother.      0\n",
      "                                                                                                                                                                                                                                                                                                                                                                                                                                                                                                                                                                                                                                                                                                                                                                                                                                                                                                                 text  label\n",
      "531  I also added up the value of everything I can possibly remember that's either missing or destroyed, and it reaches over 2,100 dollars...and that's a lenient estimate, I definitely rounded down. But I'd love to charge another grand for mental anguish or whatever. The whole ordeal has been like Trigger-City for someone like me who is struggling to recover from mental illnesses and over a year and 9 months clean after 10-12 years of substance abuse. I'm also receiving supportive services from a county program aimed at helping mentally \"screwed up\" people become independent, for lack of a better term. What's cool about the service is that I get a case manager who I can call for advice and in turn checks on me and referred me to a halfway house which only lasts 30 days but it's much better than having to stay at the local shelter, which might be my only option come June...      1\n",
      "                                                                                                                                                                                                                                                                                                                                                                                                                                                                                                               text  label\n",
      "532  But what should I say? Part of me wants to tell her I'm sorry for being a shit boyfriend at the start and that as I've gotten older I've gotten wiser and more experience. But would she even care about that shit? Or should I just start off with \"Hey, haven't seen you in awhile, hows everything\" and start from there? Ugh, maybe I'm overthinking this... Anyways would really appreciate you guys or gals out there with more experience than me guiding me through this minor plight I put myself in.      1\n",
      "                                                                                                                                                                                                                                                                                                                                                                                         text  label\n",
      "535  I didn’t tell her my feelings, because I value her too much, but do not want to hurt her. I just want to let go of all my feelings, but I can’t. There’s only a few days left at school, after which we might go our different ways. But I have this strange feeling inside, that I do not want to live in any sort of regret, about not telling her how I felt. It’s just really weird.      0\n",
      "                                                                                                                                                                                                                                                                                                                                               text  label\n"
     ]
    },
    {
     "name": "stdout",
     "output_type": "stream",
     "text": [
      "542  The curfew at the shelter keeps me grounded and safe from myself. The rules and the structure with morning routine even though I've just felt it for one day, has already boosted me. I used to stay up until 2-3am, blowing all my money just binging and purging. Now I have to pause and ride out my emotions. I have to be in bed at 10pm.      0\n",
      "                                                                                                                                                                                                                                                                                                                                                                                                                                                                                                          text  label\n",
      "543  Well, 18 years of being in and out of hospitals, treatment and addiction finally caught up to me. This is my first time homeless and it's scary but I'm grateful for the bright light that I've started to see. I don't abuse alcohol or drugs, but I'm no different than someone who does...I have other mental health issues that I feel nobody really can understand. It has essentially rendered me a useless piece of shit. I was engaging in unhealthy behaviors up to 10 hours a day, if not more.      0\n",
      "                                                                                                                                                                                                                                                                                                                                                                                                                                                                                                                                                                                                                                                                                                                                                                                                                                                                                                                                                                                            text  label\n",
      "548  Im studying at a university abroad And I have failed or got a really bad grade my first semester subjects due to starting a month late and searching for accommodation for atleast 2 weeks or I would have stayed on the streets. I have been doing my absolute best to pass but the subject were very difficult on my own....I have tried studying and watching old lectures and everything but the syllabus was too long in several cases ( mathematics was much more difficult and longer than abitur according to our professor) and exams were just too hard for me in my situation so I failed. The thing is she linked this with studying with my friends which I only recently started doing it because they were very helpful and my progress increased significantly. She now commands me to just cut all relations with any friends that I have made whom for the first time in my life are ones who i looked forward to seeing them the next day because I enjoy there company.      0\n",
      "                                                                                                                                                                                                                                                                                                                                                                                                                                             text  label\n",
      "565  As is usually the case with the stories I read here, I've hit the bottom. I'm at the very last point before pitching a tent in a field, and begging at the street corner for pennies. A lot has happened in the last month, so I'll try to pare it down to make sense and then get to the numbers drama. When I say a lot, I mean we have been homeless since Feb 17th and making it work. There's me (27), my wife (23), and our son (10m).      1\n",
      "                                                                                                                                                                                                                                                                                                                                                                                                                                                                                                               text  label\n",
      "566  I would like to reach out for help from someone supportive before an episode becomes too intense to ask for help. I would like to acknowledge the symptoms and temporary nature of the situation as to let it pass without causing additional damage. I finally realized that fighting my traumatic episodes is like a rigid oak tree trying to resist a flooding dam. Do any of you guys have ways to be \"okay\" with an episode? If so, how do you find the flexibility and patience to not fight against it?      1\n",
      "                                                                                                                                                                                                                                                                                                                                                                                                                                                                                                                                                                                                                                      text  label\n",
      "584  3 days before, she called me, pretty upset, to say that she didn't feel able to come. Naturally I've learned that she suffers from panic attacks occasionally, and has also said that she is reluctant to try a full relationship because of worries that I'll outgrow her or find someone else (we HAVE gone on dates since she has said these things). Eventually I put the pieces together and began to understand her a little better, but I also have my own neurological obstacles that have affected my thinking with this girl. I'm going to do my best to lay them out now: -Like I mentioned, I have ADHD in a serious way.      0\n",
      "                                                                                                                                                                                                                                                                                                                                                                                                                                                                                                                                  text  label\n",
      "598  Hey guys, circumstances in my life has brought me to being homeless starting tomorrow. I live in Central Florida and the reason why I come to this position is due to my car breaking down, not being able to make it to work since its a 35 mile commute, and now that I can't pay rent, I have to leave the room I'm renting. Lately though Ive been thinking a lot of leaving to New York. I'll be homeless there, yes, but at least I'll be able to get around with 24/7 transportation. My question is: Is this a good idea?      0\n",
      "                                                                                                                                                                                                                                                                                                                                                                                                                     text  label\n",
      "604  My flaws seemed huge to me, and I assumed everyone thought negatively of me all the time. My life was consumed by a spiral of negative thoughts and social anxiety. I went to my doc, admitted my social anxiety, and he prescribed me Lexapro 10mg/day. I took my first pill a few days ago, and not two hours later, I had nearly complete relief of my anxiety of all kinds. The bad thoughts completely stopped.      0\n",
      "                                                                                                                                                                                                                                                                                                                                                                                    text  label\n",
      "605  I've got a good handle on my triggers. I know how to prepare myself when I have to encounter a trigger and how to move past it without too much discomfort. That being said today I encountered an event that blindsided me. I was not prepared at all. I know its possible I will come across triggers without warning, but this was something that had not been a trigger before.      1\n",
      "                                                                                                                                                                                                                                                                           text  label\n",
      "613  Alright so, for my entire life I've been a straight-A student. High honor roll every time. I never expected any less and neither did my parents, teachers, friends, etc. Over the past year (8th grade) I've developed anxiety, depression, and OCD. (Not self diagnosed.)      1\n",
      "                                                                                                                                                                                                                                                                                                                                                                                                                                                                                                                                   text  label\n",
      "615  I'd like to note that I have had a couple close individuals look at my emails, evidence, etc since the last court date. I'm not that crazy, but I showed them the emails because I wanted to make sure they were real. The emails, evidence, and notes are all real. I checked my phone history, and the phone calls to the advocate and office are all logged and sufficient in length to indicate that an actual conversation occurred. I never doubted reality before the abuse, and I have never done so outside of the abuse.      1\n"
     ]
    },
    {
     "name": "stdout",
     "output_type": "stream",
     "text": [
      "                                                                                                                                                                                                                                                                                                                                                       text  label\n",
      "620  My best friend died last year, of a rare type of bacteria that killed him very quickly, a contagious disease. He was a year younger than me. I am still relatively young but also starting to get old, my age is in between somewhere. I can feel the medicine starting to work and I am not as anxious now. I have been typing for over half an hour.      1\n",
      "                                                                                                                                                                                                                                                                      text  label\n",
      "622  I need to be my own person, however flawed I am. My panic attack ended at least 20 minutes ago, now. I think that is the end of this post. What more is there to say, other than, I am sorry for writing something so long? It is just who I am, I write long things.      0\n",
      "                                                                                                                                                                                                                                                                                                             text  label\n",
      "631  It’s why I was okay with paying so much rent for them in the first place. But I don’t have a job anymore. I’m trying to get one again, but I have historically had a hard time finding employment. I have my own rent and bills to pay. I need to get into therapy, and I want to go back to school someday.      0\n",
      "                                                                                                                                                                                                                                                                                                                                                                                                                                                                                                                                                                                                                             text  label\n",
      "633  But it took me months afterward to end it. I remember him screaming at me, calling me stupid, calling me a moody bitch when I got frustrated at him for screaming and insulting me, threatening to break up with me, holding his “love” for me over my head when I wasn’t doing things his way, getting drunk and high and cheating on me and then coercing me into helping him fake a piss test, and on and on and on.... And the whole time I knew he was being an abusive asshole and I *still stayed. * I had absolutely no reason not to leave him, and it was 100% in my power to end things between us. But I didn’t.      0\n",
      "                                                                                                                                                                                                                                                                                                                                                                                                                                                                                                                                                text  label\n",
      "634  I needed to run some errands, but it was a Saturday afternoon when stores were usually too busy for me, but I felt so great I decided to try it. I went into a busy store and actually waited in line to pay infont of a very obnoxious couple who didn't understAnd personal space. I was totally fine. I couldn't believe it. In other situations i'd have to avoid the store all together or walk around the store until the line went down or I'd get dizzy and start freaking out, get to the point of feeling like I'm going to pass out.      0\n",
      "                                                                                                                                                                                                                                                                                                                                                                                                                                                                                                                                      text  label\n",
      "635  This is a long shot and kind of awkward to admit, but I'm a college student who lives 1500 miles away in Ohio. After months of looking for a job, I finally got one but not in time to pay my rent because of that I got a ton of fee's added to my rent for being late. I have been served an eviction and have pay over $1000 by august the 15th. While I have half of that I' am trying to pick up some web design clients--- I was a web designer before I went back to school. I also have experience being a virtual assistant.      0\n",
      "                                                                                                                                                                                                                                                                                                                    text  label\n",
      "637  I am not, except the one that exists in my mind. We, our nation, are at a very precarious point in our history. All generations have said that, I am sure. But we surely can't feel comfortable when million dollar high rises go up around homeless encampments. Anyway, that is my rant/prayer/I don't know what.      0\n",
      "                                                                                                                                                                                                                                                                                                     text  label\n",
      "638  I fully expect to be asked for a higher deposit due to my rental history in the past three years. It is hard to decide. Do I take the bit of cash I've stashed to rent a storage and a truck to move stuff out ASAP? If I do that, I get a bit of the rent back plus my deposit. Once I store stuff.      0\n",
      "                                                                                                                                                                                                                                                                                                                                                                                                                                                                                                                                                                                                                                                                                                                                                                                             text  label\n",
      "644  I then confronted my parents and finally the walls came tumbling down. It wasn't the first time I asked them about it, I did so on at least 3 different occasions throughout my twenties. Well after 2 weeks I got written confirmation, when my parents handed me a note from 1986, where they wrote down, what I told them, when I talked about it afterwards again and again. I addition to this, the memories came back from when I was about 12-15, when my parents used to lock me up in my room and bathroom and made me learn my latin vocabularies on my knees, only being allowed to eat, when I was finnished. That was something I kinda always knew happened, but I thought it was just on a few occasions and well - I was such a rascal, how else could they have handled me?      0\n",
      "                                                                                                                                                                                                                                                                                                            text  label\n",
      "650  I still have issues with writing, driving, standing up to people/for myself, and with the aforementioned complex PTSD. It's generally triggered by loud confrontation. I do have a great fiancee these days. She has helped me a ton. It's the first genuinely healthy romantic relationship I've ever had.      0\n",
      "                                                                                                                                                                                                                                                                                                                                                                                text  label\n",
      "651  When I was 17, my mom turned her attacks on my writing into high gear. She constantly berated me about how pointless, worthless, stupid and childish it was to write. How I'd never make it as a writer. How I'd be poor and alone. How (again) I needed to stop doing \"childish things\" like writing (and any other hobby/passion she decided to attack that day) and grow up.      0\n",
      "                                                                                                                                                                                                                                                                                                                                                                                                                             text  label\n",
      "654  Almost decided to live in my car, live with a crack head, travel the country (aka: begin my homeless life, cause I really had no money and if I did it would've gone to beer). I was losing my mind. After being heavily suicidal for a week I decided I can't live like this anymore - but I don't want to die right now. I planted a thought in my head. 'if you ever want to overcome this, you need to begin to change'.      0\n",
      "                                                                                                                                                                                                                                                                                                                         text  label\n",
      "656  I'm a single dad of two daughters (3 and 4). I live in a privately owned apartment with them and the AC went out but is getting fixed tomorrow. I live paycheck to paycheck and can't afford to get a hotel. They are at daycare until 4 when I get off work. I live in Mesa AZ and its been over 100 degrees for weeks.      0\n",
      "                                                                                                                                                                                                                                                                                                                                                             text  label\n",
      "662  The judge had to postpone the court date. As of this morning janes mother appeared at the house and gave jane the NEW lease showing that jane is no longer on the lease and wants her out. She left almost immediately, to avoid the police that were called right away. And now she does not know what to do .... I wish I can help but I dont know either.      0\n",
      "                                                                                                                                                                                                                                                                                                                                                                                                                                                                                                                                                                                                                                                                                                                                                                                               text  label\n",
      "671  I was told by my peers, the media, so many things, that what I was doing was okay, was fine, was normal, was desired by every boy my age. I'm sure the majority of my abusers knew I was underage, how could they not? I told some of them how old I was, and most of the ones I told were okay with me being underage, although were extremely coercive, threatening, and frightening at times. I was constantly gaslight, verbally abused, and made to feel frightened and ashamed by many of these people, but I felt like I had to keep trying, like I had to be there to perform for them. All of the physical abuse (sexual and otherwise) that I've survived, happened after I turned 18, starting with my first REAL girlfriend, and the relationships that immediately proceeded her.      0\n",
      "                                                                                                                                                                                                                                                                                                                                                 text  label\n",
      "679  The belt and plugs are a week old. The alternator is 2 days old and the battery and cable were replaced a few hours ago. The warning light is still on and even tho the car started the alternator isn’t putting out enough power. The car has been sitting for 24 hours now. Does anyone know what the issue could be or know anyone who would?      0\n",
      "                                                                                                                                                                                                                                                                                                                                                                                                                                                               text  label\n",
      "684  He told me to never talk to him again and that he found someone else. I was so hurt and depressed. I've tried to talk to him and ask him what I've done to make him feel this way and he just continued to curse me and belittle me. He then ignored me and posted pictures of him and a girl all over his Instagram which he knew that I would see. I wanted to make him jealous too so I posted pictures of me and my friend on Instagram with heart emojis.      0\n",
      "                                                                                                                                                                                                                                                                                                                                                     text  label\n",
      "685  -What are you gonna do with that strange looking super shiny thing over there? -That's not really going anywhere *near* me, **is** it??? ? -Wish I could go on my phone right now and play a silly game to distract myself but I've just got to sit here while Dr. fiddles around in my mouth. -I love the way the drill makes a sound like kittens.      0\n",
      "                                                                                                                                                                                                                                                                                                           text  label\n",
      "693  I’m onto new studies now, erasing my ancient life, my life related to him. That’s how i’m reconstruct myself for now. I plan to see another therapist, someone who could help me without any conditions. I just need help. Thanks for reading, it was difficult, but felt good to finally write it down :)      0\n",
      "                                                                                                                                                                                                                                                                                                                                                                                                                                                  text  label\n",
      "694  Hi everyone, also posted on r/rapecounseling. Sorry for my english, it’s not my mother tongue. Past few months were pretty rough and I think i’m finally ready to write it down, like if I needed it… I was raped by a “friend” (let’s call him L), the exact day I met my actual boyfriend (let’s call him N), 5 years ago. L wasn’t really a friend of mine, I never appreciated him, but he was closely related to my best friend at the time.      0\n",
      "                                                                                                                                                                                                                                                                                                                                                                                                                                                                                                               text  label\n",
      "701  However, I've vaguely brought it up before and she said that she wants to also invest one day. My gut feeling is that she's comfortable if we both pay rent and lose money, but might feel weird if one person is benefitting and the other person is not. Unfortunately, I'm 99% sure on my stance that I will either live at home or move out when I can invest in my own place, and I'm not sure how to tell her.   ---   **tl;dr**: Friend wants to rent an apartment together, but I'm getting cold feet.      0\n",
      "                                                                                                                                                                                                                                                                                                                                                                                                                                                 text  label\n",
      "705  I'm not massively worried about it at the moment because it feels good but my question is: Is this a normal symptom of PTSD and if it continues tomorrow, should I call 111 for medical advice? I'm home alone for the next few days, should I try and stay at a friends? Thank you! Edit: Thanks for the advice, I have got in touch with my doctor and they are going to give me a call later today. Hopefully I can get this sorted out soon!      0\n",
      "                                                                                                                                                                                                                                                                                                                                                                                      text  label\n",
      "711  Also I can't think about both of them without getting angry and jealous again, but to talk to each of them is actually helping me a lot.   ---   **tl;dr**: Three Friends where one M was fallen in Love with F and F was fallen in Love with the other M, which isn't feeling anything for her as an Girlfriend. We could be the best template for an 2,5h long Teenager-Drama.  ---      1\n"
     ]
    }
   ],
   "source": [
    "inter = np.intersect1d(indexes, indexes2)\n",
    "suma = 0\n",
    "for i in inter:\n",
    "    print(test_ex.loc[[i]].to_string())\n",
    "    suma += test_ex['label'].iloc[i]"
   ]
  }
 ],
 "metadata": {
  "kernelspec": {
   "display_name": "Python 3 (ipykernel)",
   "language": "python",
   "name": "python3"
  },
  "language_info": {
   "codemirror_mode": {
    "name": "ipython",
    "version": 3
   },
   "file_extension": ".py",
   "mimetype": "text/x-python",
   "name": "python",
   "nbconvert_exporter": "python",
   "pygments_lexer": "ipython3",
   "version": "3.9.7"
  }
 },
 "nbformat": 4,
 "nbformat_minor": 5
}
